{
 "cells": [
  {
   "cell_type": "markdown",
   "metadata": {},
   "source": [
    "# Analiza - sprawdzenie bardzo prostej strategii opartej jedynie na dwóch formacjach świecowych + \"zasada 11/20\" + dodatkowo RSI\n",
    "\n",
    "<h3>\n",
    "<center>\n",
    "Robert Nowotniak <rnowotniak@gmail.com><br/>\n",
    "w oparciu o metodykę Fraktal Trader Moduł 1, formacje świecowe\n",
    "</center>\n",
    "</h3>"
   ]
  },
  {
   "cell_type": "markdown",
   "metadata": {},
   "source": [
    "* [Eksperyment 1) Analiza młotków - EURUSD 1h](#eksperyment1)\n",
    "\n",
    "* [Eksperyment 2) Spadające gwiazdy - Dow Jones 1h](#eksperyment2)\n",
    "\n",
    "* [Eksperyment 3) Analiza zbiorcza dla wszystkich walorów - Młotki](#eksperyment3)\n",
    "\n",
    "* [Eksperyment 3) - Podsumowanie zbiorcze](#eksperyment3summary)\n",
    " \n",
    "* [Eksperyment 4) Analiza zbiorcza dla wszystkich walorów - Spadające gwiazdy](#eksperyment4)\n",
    "\n",
    "* [Eksperyment 4) - Podsumowanie zbiorcze](#eksperyment4summary)"
   ]
  },
  {
   "cell_type": "code",
   "execution_count": 25,
   "metadata": {
    "collapsed": true
   },
   "outputs": [],
   "source": [
    "import pandas as pd\n",
    "import numpy as np\n",
    "import pandas_datareader.data as web\n",
    "import talib\n",
    "import talib.abstract as ta\n",
    "from datetime import datetime\n",
    "import matplotlib.pyplot as plt\n",
    "from IPython.core.display import HTML\n",
    "import seaborn as sns\n",
    "import glob, os.path\n",
    "sns.set_style('whitegrid')\n",
    "%matplotlib inline"
   ]
  },
  {
   "cell_type": "code",
   "execution_count": 7,
   "metadata": {
    "collapsed": true
   },
   "outputs": [],
   "source": [
    "def ohlc(r):\n",
    "    return r['open'], r['high'], r['low'], r['close']"
   ]
  },
  {
   "cell_type": "markdown",
   "metadata": {},
   "source": [
    "## Wczytanie specyfikacji wszystkich instrumentów"
   ]
  },
  {
   "cell_type": "markdown",
   "metadata": {},
   "source": [
    "Specyfikacja instrumentów wygenerowana w MetaTraderze skryptem MQL allmarketdata.ex4"
   ]
  },
  {
   "cell_type": "code",
   "execution_count": 3,
   "metadata": {
    "scrolled": false
   },
   "outputs": [],
   "source": [
    "specs = pd.read_csv('instruments.csv', sep=';', index_col=0)\n",
    "\n",
    "# XXX - nie da się tego wyciągnąć bezpośrednio ze specyfikacji ??\n",
    "def setPipSize(x):\n",
    "    return float(x['Tick Size']) # XXX - uproszczenie, nie jestem pewien, czy to jest prawidłowe\n",
    "                                 #       ale chyba nie ma znaczenia\n",
    "    if x['Pr. Mode'] == 'Forex':\n",
    "        if x['Symbol'].endswith('JPY'):\n",
    "            return 0.01\n",
    "        # elif x['Symbol'].endswith('HUF'):  # XXX Hungarian Forint ???\n",
    "        return 0.0001\n",
    "    return 1\n",
    "specs['Pip'] = specs.apply(setPipSize, axis=1)"
   ]
  },
  {
   "cell_type": "markdown",
   "metadata": {},
   "source": [
    "### Wczytanie historycznych danych wszystkich walorów do klasy Instrument"
   ]
  },
  {
   "cell_type": "code",
   "execution_count": 35,
   "metadata": {},
   "outputs": [
    {
     "name": "stdout",
     "output_type": "stream",
     "text": [
      "USDCHF\n",
      "EURDKK\n",
      "EURUSD\n",
      "EURPLN\n",
      "EURNOK\n",
      "COCOA-SEP17\n",
      "GER30Cash\n",
      "EURCHF\n",
      "BRENT-AUG17\n",
      "POL20Cash\n",
      "GBPCAD\n",
      "SUGAR-JUL17\n",
      "CADJPY\n",
      "GOLD\n",
      "EURRUB\n",
      "SILVER\n",
      "AUDCAD\n",
      "US30Cash\n",
      "EURSEK\n",
      "AUDJPY\n",
      "AUDCHF\n",
      "EURAUD\n",
      "USDCAD\n",
      "EURHKD\n",
      "AUDNZD\n"
     ]
    }
   ],
   "source": [
    "class Instrument:\n",
    "    def __init__(self, name):\n",
    "        self.name = name\n",
    "        self.spec = None\n",
    "        self.results = None\n",
    "        self.balance = 0  # +/- gain value\n",
    "        self.stats = {} # PROFIT: ...,  LOSS: ...\n",
    "        self.success_rate = None\n",
    "        self.data = pd.read_csv('data/%s60.csv' % name, index_col = False,\n",
    "                   names=['day', 'hour', 'open', 'high', 'low', 'close', 'volume'],\n",
    "                               dtype={'open':np.float64,'high':np.float64,\n",
    "                                     'low':np.float64,'close':np.float64,'volume':np.float64}\n",
    "                               )\n",
    "        self.data['date'] = pd.DatetimeIndex(self.data.day + ' ' + self.data.hour)\n",
    "        del self.data['day']\n",
    "        del self.data['hour']\n",
    "        self.data.set_index('date', inplace = True)\n",
    "        \n",
    "        # Calculate RSI14 for this instrument\n",
    "        self.rsi = ta.RSI(self.data, 14)\n",
    "    \n",
    "    def __str__(self):\n",
    "        s = self.name\n",
    "        if self.data is not None:\n",
    "            s = s + ' ' + str(self.data.shape)\n",
    "        return s\n",
    "\n",
    "INSTRUMENTS = {}        \n",
    "        \n",
    "for f in glob.glob('data/*60.csv'):\n",
    "    name = os.path.basename(f).replace('60.csv', '')\n",
    "    print(name)\n",
    "    inst = Instrument(name)\n",
    "    inst.spec = specs.ix[name]\n",
    "    INSTRUMENTS[name] = inst\n",
    " "
   ]
  },
  {
   "cell_type": "code",
   "execution_count": 40,
   "metadata": {},
   "outputs": [
    {
     "data": {
      "text/plain": [
       "67.19948864159953"
      ]
     },
     "execution_count": 40,
     "metadata": {},
     "output_type": "execute_result"
    }
   ],
   "source": [
    "INSTRUMENTS['EURRUB'].rsi['2017/06/16 10:00']"
   ]
  },
  {
   "cell_type": "markdown",
   "metadata": {},
   "source": [
    "## Zasada 11 / 20 - porównywanie rozmiaru świecy z 20 poprzednimi"
   ]
  },
  {
   "cell_type": "code",
   "execution_count": 8,
   "metadata": {},
   "outputs": [
    {
     "data": {
      "text/plain": [
       "True"
      ]
     },
     "execution_count": 8,
     "metadata": {},
     "output_type": "execute_result"
    }
   ],
   "source": [
    "def zasada1120(inst, t):\n",
    "    \n",
    "    BACKSIZE = 20         # XXX Wyciągnąć gdzieś do konfiguracji\n",
    "    CANDLES_REQUIRED = 11 # XXX\n",
    "    \n",
    "    t = pd.Timestamp(t)\n",
    "    i = inst.data.index.get_loc(t, 'nearest')\n",
    "    o, h, l, c = ohlc(inst.data.iloc[i])\n",
    "    size = h - l\n",
    "   \n",
    "    j = 1\n",
    "    smaller_candles = 0\n",
    "    while j <= BACKSIZE and i - j >= 0 and smaller_candles < CANDLES_REQUIRED:\n",
    "        o, h, l, c = ohlc(inst.data.iloc[i - j])\n",
    "        if size > h - l:\n",
    "            smaller_candles += 1\n",
    "        j += 1\n",
    "    if smaller_candles >= CANDLES_REQUIRED:\n",
    "        return True\n",
    "    \n",
    "    return False\n",
    "    \n",
    "zasada1120(INSTRUMENTS['US30Cash'], '2017/06/20 22:00')"
   ]
  },
  {
   "cell_type": "markdown",
   "metadata": {},
   "source": [
    "## Sprawdzanie, czy dany sygnał był prawidłowy(czy zarobił) -- B. WAŻNY FRAGMENT\n",
    "### (ta funkcja docelowo byłaby jednym z głównych elementów pełnego symulatora strategii)"
   ]
  },
  {
   "cell_type": "code",
   "execution_count": 9,
   "metadata": {},
   "outputs": [
    {
     "name": "stdout",
     "output_type": "stream",
     "text": [
      "('LOSS', -0.00033000000000009454, 0, 1.1164399999999999, 1.1177600000000003, 0.00029000000000012349)\n"
     ]
    }
   ],
   "source": [
    "# returns:\n",
    "#   (PROFIT/LOSS, gain value, nswaps, sp, tp, size)\n",
    "def sprawdz(inst, t, buysell = 'buy'):\n",
    "    t = pd.Timestamp(t)\n",
    "    i = inst.data.index.get_loc(t, 'nearest')\n",
    "    o, h, l, c = ohlc(inst.data.iloc[i])\n",
    "    size = h - l\n",
    "    \n",
    "    spread = 3 # XXX  US30\n",
    "    spread = 0.0003 # XXX EURUSD\n",
    "    spread = float(inst.spec['Spread']) / 10**int(inst.spec['Digits'])  # XXX\n",
    "    #print(spread)\n",
    "    PROFIT_TO_RISK = 3  # XXX Wyciagnac do konfiguracji\n",
    "    \n",
    "    if buysell == 'buy':\n",
    "        sl = l - inst.spec['Pip'] # 1 punkt pod formacja\n",
    "        risk = c - sl + spread # -> mozliwa strata = roznica poziomow + spread\n",
    "        tp = c + spread + risk * PROFIT_TO_RISK # -> mozliwy zysk = roznica poziomow - spread = risk*PTR\n",
    "    elif buysell == 'sell':\n",
    "        sl = h + inst.spec['Pip'] + spread # 1 punkt nad formacja + spread (chyba z zalozenia ze spada szybciej)\n",
    "        risk = sl - c + spread # mozliwa strata = roznica poziomow + spread\n",
    "        tp = c - risk * PROFIT_TO_RISK - spread  # -> mozliwy zysk = roznica poziomow - spread = risk*PTR\n",
    "    else:\n",
    "        raise Exception('buysell')\n",
    "    # print(sl, tp)\n",
    "    \n",
    "    before_midnght = inst.data.index[i].hour > 12\n",
    "    nswaps = 0\n",
    "    while i < inst.data.shape[0] - 1:\n",
    "        i += 1\n",
    "        o, h, l, c = ohlc(inst.data.iloc[i])\n",
    "        \n",
    "        if before_midnght and inst.data.index[i].hour < 12:\n",
    "            # print('SWAP')\n",
    "            nswaps += 1\n",
    "        before_midnght = inst.data.index[i].hour > 12\n",
    "        \n",
    "        result = None\n",
    "        if (buysell == 'buy' and h >= tp) or (buysell == 'sell' and l <= tp):\n",
    "            # print(inst.data.index[i])\n",
    "            result = 'PROFIT'\n",
    "        if (buysell == 'buy' and l <= sl) or (buysell == 'sell' and h >= sl):\n",
    "            # print(inst.data.index[i])\n",
    "            if result == 'PROFIT':\n",
    "                return 'Unknown'\n",
    "            result = 'LOSS'\n",
    "        if result == 'PROFIT':\n",
    "            return result, PROFIT_TO_RISK * risk, nswaps, sl, tp, size #, zasada1120(inst, t)\n",
    "        if result == 'LOSS':\n",
    "            return result, -risk, nswaps, sl, tp, size #, zasada1120(inst, t)\n",
    "\n",
    "t = '2017/06/22 01:00'\n",
    "print(sprawdz(INSTRUMENTS['EURUSD'], t))"
   ]
  },
  {
   "cell_type": "markdown",
   "metadata": {},
   "source": [
    "## Definicja wybranych formacji świecowych - funkcje wykrywające"
   ]
  },
  {
   "cell_type": "code",
   "execution_count": 10,
   "metadata": {
    "collapsed": true
   },
   "outputs": [],
   "source": [
    "def jestMlotek(row):\n",
    "    o, h, l, c = ohlc(row)\n",
    "    if c > o and c - o <= 0.4 * (h - l):\n",
    "        if h - c <= 0.14 * (h - l):\n",
    "            return True\n",
    "    if c < o and o - c <= 0.4 * (h - l):\n",
    "        if h - o <= 0.14 * (h - l):\n",
    "            return True    \n",
    "    return False\n",
    "\n",
    "def jestSpadajacaGwiazda(row):\n",
    "    o, h, l, c = ohlc(row)\n",
    "    if c > o and c - o <= 0.4 * (h - l):\n",
    "        if o - l <= 0.14 * (h - l):\n",
    "            return True\n",
    "    if c < o and o - c <= 0.4 * (h - l):\n",
    "        if c - l <= 0.14 * (h - l):\n",
    "            return True    \n",
    "    return False\n",
    "\n",
    "# ...\n",
    "# Tutaj dalej docelowo powinny być zaimplementowane inne formacje (przenikania, zasłona ciemnej chmury itp)\n",
    "# ..."
   ]
  },
  {
   "cell_type": "markdown",
   "metadata": {},
   "source": [
    "<a id=\"eksperyment1\"></a>\n",
    "## Eksperyment 1) Analiza młotków - EURUSD 1h"
   ]
  },
  {
   "cell_type": "code",
   "execution_count": 46,
   "metadata": {
    "scrolled": false
   },
   "outputs": [
    {
     "name": "stdout",
     "output_type": "stream",
     "text": [
      "2017-02-07 10:00:00     LOSS  -0.00145  0.00000  1.06606  1.07186  0.00226  \n",
      "2017-02-10 16:00:00     LOSS  -0.00163  1.00000  1.06069  1.06721  0.00167  \n",
      "2017-02-22 12:00:00     LOSS  -0.00139  0.00000  1.04933  1.05489  0.00164  \n",
      "2017-06-15 19:00:00     LOSS  -0.00110  1.00000  1.11384  1.11824  0.00121  \n",
      "-0.00557\n",
      "{'LOSS': 4}\n"
     ]
    }
   ],
   "source": [
    "inst = INSTRUMENTS['EURUSD']\n",
    "\n",
    "stats = {}\n",
    "balance = 0.\n",
    "for idx, row in inst.data['2017/01/01':'2017/07/01'].iterrows():\n",
    "    if jestMlotek(row) and zasada1120(inst,idx) and inst.rsi[idx] <= 30:\n",
    "        res = sprawdz(inst, idx)\n",
    "        if not res:\n",
    "            print(idx, ' ', res)\n",
    "            continue        \n",
    "        print(idx, ' ', '%6s'%res[0], ' ', end='')\n",
    "        for _ in res[1:]:\n",
    "            print('%.5f'%_, ' ', end='')\n",
    "        print()\n",
    "        if type(res) == tuple:\n",
    "            balance += res[1] # XXX tu ewentualnie uwzgledniac swap * nswaps\n",
    "            if res[0] not in stats:\n",
    "                stats[res[0]] = 0\n",
    "            stats[res[0]] += 1\n",
    "print(balance)\n",
    "print(stats)\n",
    "if 'PROFIT' in stats:\n",
    "    print(\"Success rate: %.2f%%\" % (100.0*stats['PROFIT']/ sum(stats.values())))"
   ]
  },
  {
   "cell_type": "markdown",
   "metadata": {},
   "source": [
    "<a id=\"eksperyment2\"></a>\n",
    "## Eksperyment 2) Spadające gwiazdy - Dow Jones 1h"
   ]
  },
  {
   "cell_type": "code",
   "execution_count": 49,
   "metadata": {},
   "outputs": [
    {
     "name": "stdout",
     "output_type": "stream",
     "text": [
      "2017-04-24 02:00:00     LOSS  -30.61000  0.00000  20741.81000  20619.37000  26.50000  \n",
      "2017-04-25 22:00:00     LOSS  -31.11000  1.00000  21025.31000  20900.87000  28.00000  \n",
      "2017-06-19 20:00:00     LOSS  -21.61000  0.00000  21522.01000  21435.57000  20.50000  \n",
      "-83.33\n",
      "{'LOSS': 3}\n"
     ]
    }
   ],
   "source": [
    "inst = INSTRUMENTS['US30Cash']\n",
    "\n",
    "balance = 0.\n",
    "stats = {}\n",
    "for idx, row in inst.data['2017/01/01':'2017/07/01'].iterrows():\n",
    "    if jestSpadajacaGwiazda(row) and zasada1120(inst,idx) and inst.rsi[idx] >= 70:\n",
    "        res = sprawdz(inst, idx, 'sell') # XXX <- SELL\n",
    "        if not res:\n",
    "            print(idx, ' ', res)\n",
    "            continue\n",
    "        print(idx, ' ', '%6s'%res[0], ' ', end='')\n",
    "        for _ in res[1:]:\n",
    "            print('%.5f'%_, ' ', end='')\n",
    "        print()\n",
    "        if type(res) == tuple:\n",
    "            balance += res[1] # XXX tu ewentualnie uwzgledniac swap * nswaps\n",
    "            if res[0] not in stats:\n",
    "                stats[res[0]] = 0\n",
    "            stats[res[0]] += 1\n",
    "print(balance)  \n",
    "print(stats)\n",
    "if 'PROFIT' in stats:\n",
    "    print(\"Success rate: %.2f%%\" % (100.0*stats['PROFIT']/ sum(stats.values())))"
   ]
  },
  {
   "cell_type": "markdown",
   "metadata": {},
   "source": [
    "\n",
    "\n",
    "\n",
    "\n",
    "\n",
    "\n",
    "\n",
    "\n",
    "\n",
    "\n",
    "\n",
    "\n",
    "\n",
    "\n",
    "\n",
    "\n",
    "\n",
    "\n",
    "\n",
    "\n",
    "\n"
   ]
  },
  {
   "cell_type": "markdown",
   "metadata": {},
   "source": [
    "<a id=\"eksperyment3\"></a>\n",
    "## Eksperyment 3) Analiza zbiorcza dla wszystkich walorów - Młotki"
   ]
  },
  {
   "cell_type": "code",
   "execution_count": 72,
   "metadata": {},
   "outputs": [
    {
     "name": "stdout",
     "output_type": "stream",
     "text": [
      "CADJPY\n",
      "USDCAD\n",
      "US30Cash\n",
      "GBPCAD\n",
      "USDCHF\n",
      "BRENT-AUG17\n",
      "EURAUD\n",
      "EURCHF\n",
      "EURNOK\n",
      "EURSEK\n",
      "AUDCAD\n",
      "EURPLN\n",
      "AUDJPY\n",
      "AUDNZD\n",
      "POL20Cash\n",
      "SILVER\n",
      "EURUSD\n",
      "SUGAR-JUL17\n",
      "GER30Cash\n",
      "AUDCHF\n",
      "EURRUB\n",
      "EURDKK\n",
      "COCOA-SEP17\n",
      "GOLD\n",
      "EURHKD\n",
      "CPU times: user 25.9 s, sys: 31.8 ms, total: 25.9 s\n",
      "Wall time: 25.9 s\n"
     ]
    }
   ],
   "source": [
    "%%time\n",
    "\n",
    "for name in INSTRUMENTS:\n",
    "    print(name)\n",
    "    inst = INSTRUMENTS[name]\n",
    "    inst.results = pd.DataFrame( columns = range(7) )\n",
    "\n",
    "    stats = {}\n",
    "    balance = 0.\n",
    "    for idx, row in inst.data['2017/01/01':].iterrows():  # XXX Month\n",
    "        if jestMlotek(row) and zasada1120(inst,idx)  and inst.rsi[idx] <= 30: # XXX jestMlotek\n",
    "            res = sprawdz(inst, idx) # XXX buy/sell\n",
    "            if not res or type(res) == str:\n",
    "                continue        \n",
    "            inst.results = inst.results.append([ (idx,) + res ])\n",
    "            if type(res) == tuple:\n",
    "                balance += res[1] # XXX tu ewentualnie uwzgledniac swap * nswaps\n",
    "                if res[0] not in stats:\n",
    "                    stats[res[0]] = 0\n",
    "                stats[res[0]] += 1\n",
    "    inst.results.columns = ['date', 'PL', 'gv', 'nswaps', 'sl', 'tp', 'size']\n",
    "    inst.results.set_index('date', inplace=True)\n",
    "    inst.balance = balance\n",
    "    inst.stats = stats\n",
    "    inst.success_rate = 0\n",
    "    if 'PROFIT' in stats:\n",
    "        inst.success_rate = stats['PROFIT']/ sum(stats.values())"
   ]
  },
  {
   "cell_type": "code",
   "execution_count": 73,
   "metadata": {
    "scrolled": false
   },
   "outputs": [
    {
     "data": {
      "text/html": [
       "<h3>AUDCAD</h3>"
      ],
      "text/plain": [
       "<IPython.core.display.HTML object>"
      ]
     },
     "metadata": {},
     "output_type": "display_data"
    },
    {
     "data": {
      "text/html": [
       "<b>Balance: </b> 0.008100 &nbsp;&nbsp;&nbsp;&nbsp; <b>Trades:</b>{'PROFIT': 2, 'LOSS': 2}"
      ],
      "text/plain": [
       "<IPython.core.display.HTML object>"
      ]
     },
     "metadata": {},
     "output_type": "display_data"
    },
    {
     "data": {
      "text/html": [
       "<b>Success rate: </b> 50.00%"
      ],
      "text/plain": [
       "<IPython.core.display.HTML object>"
      ]
     },
     "metadata": {},
     "output_type": "display_data"
    },
    {
     "name": "stdout",
     "output_type": "stream",
     "text": [
      "One month details:\n"
     ]
    },
    {
     "data": {
      "text/html": [
       "<div>\n",
       "<table border=\"1\" class=\"dataframe\">\n",
       "  <thead>\n",
       "    <tr style=\"text-align: right;\">\n",
       "      <th></th>\n",
       "      <th>PL</th>\n",
       "      <th>gv</th>\n",
       "      <th>nswaps</th>\n",
       "      <th>sl</th>\n",
       "      <th>tp</th>\n",
       "      <th>size</th>\n",
       "    </tr>\n",
       "    <tr>\n",
       "      <th>date</th>\n",
       "      <th></th>\n",
       "      <th></th>\n",
       "      <th></th>\n",
       "      <th></th>\n",
       "      <th></th>\n",
       "      <th></th>\n",
       "    </tr>\n",
       "  </thead>\n",
       "  <tbody>\n",
       "    <tr>\n",
       "      <th>2017-05-04 00:00:00</th>\n",
       "      <td>LOSS</td>\n",
       "      <td>-0.00173</td>\n",
       "      <td>0.0</td>\n",
       "      <td>1.01775</td>\n",
       "      <td>1.02467</td>\n",
       "      <td>0.00160</td>\n",
       "    </tr>\n",
       "    <tr>\n",
       "      <th>2017-05-09 12:00:00</th>\n",
       "      <td>PROFIT</td>\n",
       "      <td>0.00546</td>\n",
       "      <td>1.0</td>\n",
       "      <td>1.00366</td>\n",
       "      <td>1.01094</td>\n",
       "      <td>0.00161</td>\n",
       "    </tr>\n",
       "    <tr>\n",
       "      <th>2017-06-09 16:00:00</th>\n",
       "      <td>LOSS</td>\n",
       "      <td>-0.00118</td>\n",
       "      <td>0.0</td>\n",
       "      <td>1.01184</td>\n",
       "      <td>1.01656</td>\n",
       "      <td>0.00124</td>\n",
       "    </tr>\n",
       "    <tr>\n",
       "      <th>2017-06-22 19:00:00</th>\n",
       "      <td>PROFIT</td>\n",
       "      <td>0.00555</td>\n",
       "      <td>1.0</td>\n",
       "      <td>0.99687</td>\n",
       "      <td>1.00427</td>\n",
       "      <td>0.00155</td>\n",
       "    </tr>\n",
       "  </tbody>\n",
       "</table>\n",
       "</div>"
      ],
      "text/plain": [
       "                         PL       gv  nswaps       sl       tp     size\n",
       "date                                                                   \n",
       "2017-05-04 00:00:00    LOSS -0.00173     0.0  1.01775  1.02467  0.00160\n",
       "2017-05-09 12:00:00  PROFIT  0.00546     1.0  1.00366  1.01094  0.00161\n",
       "2017-06-09 16:00:00    LOSS -0.00118     0.0  1.01184  1.01656  0.00124\n",
       "2017-06-22 19:00:00  PROFIT  0.00555     1.0  0.99687  1.00427  0.00155"
      ]
     },
     "metadata": {},
     "output_type": "display_data"
    },
    {
     "data": {
      "text/html": [
       "<h3>AUDCHF</h3>"
      ],
      "text/plain": [
       "<IPython.core.display.HTML object>"
      ]
     },
     "metadata": {},
     "output_type": "display_data"
    },
    {
     "data": {
      "text/html": [
       "<b>Balance: </b> -0.006050 &nbsp;&nbsp;&nbsp;&nbsp; <b>Trades:</b>{'PROFIT': 1, 'LOSS': 7}"
      ],
      "text/plain": [
       "<IPython.core.display.HTML object>"
      ]
     },
     "metadata": {},
     "output_type": "display_data"
    },
    {
     "data": {
      "text/html": [
       "<b>Success rate: </b> 12.50%"
      ],
      "text/plain": [
       "<IPython.core.display.HTML object>"
      ]
     },
     "metadata": {},
     "output_type": "display_data"
    },
    {
     "name": "stdout",
     "output_type": "stream",
     "text": [
      "One month details:\n"
     ]
    },
    {
     "data": {
      "text/html": [
       "<div>\n",
       "<table border=\"1\" class=\"dataframe\">\n",
       "  <thead>\n",
       "    <tr style=\"text-align: right;\">\n",
       "      <th></th>\n",
       "      <th>PL</th>\n",
       "      <th>gv</th>\n",
       "      <th>nswaps</th>\n",
       "      <th>sl</th>\n",
       "      <th>tp</th>\n",
       "      <th>size</th>\n",
       "    </tr>\n",
       "    <tr>\n",
       "      <th>date</th>\n",
       "      <th></th>\n",
       "      <th></th>\n",
       "      <th></th>\n",
       "      <th></th>\n",
       "      <th></th>\n",
       "      <th></th>\n",
       "    </tr>\n",
       "  </thead>\n",
       "  <tbody>\n",
       "    <tr>\n",
       "      <th>2017-03-09 00:00:00</th>\n",
       "      <td>LOSS</td>\n",
       "      <td>-0.00120</td>\n",
       "      <td>0.0</td>\n",
       "      <td>0.76250</td>\n",
       "      <td>0.76730</td>\n",
       "      <td>0.00115</td>\n",
       "    </tr>\n",
       "    <tr>\n",
       "      <th>2017-03-27 17:00:00</th>\n",
       "      <td>PROFIT</td>\n",
       "      <td>0.00420</td>\n",
       "      <td>1.0</td>\n",
       "      <td>0.74734</td>\n",
       "      <td>0.75294</td>\n",
       "      <td>0.00159</td>\n",
       "    </tr>\n",
       "    <tr>\n",
       "      <th>2017-04-18 16:00:00</th>\n",
       "      <td>LOSS</td>\n",
       "      <td>-0.00150</td>\n",
       "      <td>0.0</td>\n",
       "      <td>0.75329</td>\n",
       "      <td>0.75929</td>\n",
       "      <td>0.00130</td>\n",
       "    </tr>\n",
       "    <tr>\n",
       "      <th>2017-04-18 20:00:00</th>\n",
       "      <td>LOSS</td>\n",
       "      <td>-0.00144</td>\n",
       "      <td>1.0</td>\n",
       "      <td>0.75178</td>\n",
       "      <td>0.75754</td>\n",
       "      <td>0.00126</td>\n",
       "    </tr>\n",
       "    <tr>\n",
       "      <th>2017-04-26 15:00:00</th>\n",
       "      <td>LOSS</td>\n",
       "      <td>-0.00152</td>\n",
       "      <td>0.0</td>\n",
       "      <td>0.74297</td>\n",
       "      <td>0.74905</td>\n",
       "      <td>0.00139</td>\n",
       "    </tr>\n",
       "    <tr>\n",
       "      <th>2017-04-26 17:00:00</th>\n",
       "      <td>LOSS</td>\n",
       "      <td>-0.00171</td>\n",
       "      <td>0.0</td>\n",
       "      <td>0.74163</td>\n",
       "      <td>0.74847</td>\n",
       "      <td>0.00136</td>\n",
       "    </tr>\n",
       "    <tr>\n",
       "      <th>2017-05-04 19:00:00</th>\n",
       "      <td>LOSS</td>\n",
       "      <td>-0.00115</td>\n",
       "      <td>0.0</td>\n",
       "      <td>0.73060</td>\n",
       "      <td>0.73520</td>\n",
       "      <td>0.00148</td>\n",
       "    </tr>\n",
       "    <tr>\n",
       "      <th>2017-05-31 18:00:00</th>\n",
       "      <td>LOSS</td>\n",
       "      <td>-0.00173</td>\n",
       "      <td>1.0</td>\n",
       "      <td>0.71868</td>\n",
       "      <td>0.72560</td>\n",
       "      <td>0.00165</td>\n",
       "    </tr>\n",
       "  </tbody>\n",
       "</table>\n",
       "</div>"
      ],
      "text/plain": [
       "                         PL       gv  nswaps       sl       tp     size\n",
       "date                                                                   \n",
       "2017-03-09 00:00:00    LOSS -0.00120     0.0  0.76250  0.76730  0.00115\n",
       "2017-03-27 17:00:00  PROFIT  0.00420     1.0  0.74734  0.75294  0.00159\n",
       "2017-04-18 16:00:00    LOSS -0.00150     0.0  0.75329  0.75929  0.00130\n",
       "2017-04-18 20:00:00    LOSS -0.00144     1.0  0.75178  0.75754  0.00126\n",
       "2017-04-26 15:00:00    LOSS -0.00152     0.0  0.74297  0.74905  0.00139\n",
       "2017-04-26 17:00:00    LOSS -0.00171     0.0  0.74163  0.74847  0.00136\n",
       "2017-05-04 19:00:00    LOSS -0.00115     0.0  0.73060  0.73520  0.00148\n",
       "2017-05-31 18:00:00    LOSS -0.00173     1.0  0.71868  0.72560  0.00165"
      ]
     },
     "metadata": {},
     "output_type": "display_data"
    },
    {
     "data": {
      "text/html": [
       "<h3>AUDJPY</h3>"
      ],
      "text/plain": [
       "<IPython.core.display.HTML object>"
      ]
     },
     "metadata": {},
     "output_type": "display_data"
    },
    {
     "data": {
      "text/html": [
       "<b>Balance: </b> -0.380000 &nbsp;&nbsp;&nbsp;&nbsp; <b>Trades:</b>{'LOSS': 2}"
      ],
      "text/plain": [
       "<IPython.core.display.HTML object>"
      ]
     },
     "metadata": {},
     "output_type": "display_data"
    },
    {
     "data": {
      "text/html": [
       "<b>Success rate: </b> 0.00%"
      ],
      "text/plain": [
       "<IPython.core.display.HTML object>"
      ]
     },
     "metadata": {},
     "output_type": "display_data"
    },
    {
     "name": "stdout",
     "output_type": "stream",
     "text": [
      "One month details:\n"
     ]
    },
    {
     "data": {
      "text/html": [
       "<div>\n",
       "<table border=\"1\" class=\"dataframe\">\n",
       "  <thead>\n",
       "    <tr style=\"text-align: right;\">\n",
       "      <th></th>\n",
       "      <th>PL</th>\n",
       "      <th>gv</th>\n",
       "      <th>nswaps</th>\n",
       "      <th>sl</th>\n",
       "      <th>tp</th>\n",
       "      <th>size</th>\n",
       "    </tr>\n",
       "    <tr>\n",
       "      <th>date</th>\n",
       "      <th></th>\n",
       "      <th></th>\n",
       "      <th></th>\n",
       "      <th></th>\n",
       "      <th></th>\n",
       "      <th></th>\n",
       "    </tr>\n",
       "  </thead>\n",
       "  <tbody>\n",
       "    <tr>\n",
       "      <th>2017-03-22 04:00:00</th>\n",
       "      <td>LOSS</td>\n",
       "      <td>-0.198</td>\n",
       "      <td>0.0</td>\n",
       "      <td>85.311</td>\n",
       "      <td>86.103</td>\n",
       "      <td>0.176</td>\n",
       "    </tr>\n",
       "    <tr>\n",
       "      <th>2017-06-06 05:00:00</th>\n",
       "      <td>LOSS</td>\n",
       "      <td>-0.182</td>\n",
       "      <td>0.0</td>\n",
       "      <td>81.890</td>\n",
       "      <td>82.618</td>\n",
       "      <td>0.191</td>\n",
       "    </tr>\n",
       "  </tbody>\n",
       "</table>\n",
       "</div>"
      ],
      "text/plain": [
       "                       PL     gv  nswaps      sl      tp   size\n",
       "date                                                           \n",
       "2017-03-22 04:00:00  LOSS -0.198     0.0  85.311  86.103  0.176\n",
       "2017-06-06 05:00:00  LOSS -0.182     0.0  81.890  82.618  0.191"
      ]
     },
     "metadata": {},
     "output_type": "display_data"
    },
    {
     "data": {
      "text/html": [
       "<h3>AUDNZD</h3>"
      ],
      "text/plain": [
       "<IPython.core.display.HTML object>"
      ]
     },
     "metadata": {},
     "output_type": "display_data"
    },
    {
     "data": {
      "text/html": [
       "<b>Balance: </b> -0.003620 &nbsp;&nbsp;&nbsp;&nbsp; <b>Trades:</b>{'LOSS': 2}"
      ],
      "text/plain": [
       "<IPython.core.display.HTML object>"
      ]
     },
     "metadata": {},
     "output_type": "display_data"
    },
    {
     "data": {
      "text/html": [
       "<b>Success rate: </b> 0.00%"
      ],
      "text/plain": [
       "<IPython.core.display.HTML object>"
      ]
     },
     "metadata": {},
     "output_type": "display_data"
    },
    {
     "name": "stdout",
     "output_type": "stream",
     "text": [
      "One month details:\n"
     ]
    },
    {
     "data": {
      "text/html": [
       "<div>\n",
       "<table border=\"1\" class=\"dataframe\">\n",
       "  <thead>\n",
       "    <tr style=\"text-align: right;\">\n",
       "      <th></th>\n",
       "      <th>PL</th>\n",
       "      <th>gv</th>\n",
       "      <th>nswaps</th>\n",
       "      <th>sl</th>\n",
       "      <th>tp</th>\n",
       "      <th>size</th>\n",
       "    </tr>\n",
       "    <tr>\n",
       "      <th>date</th>\n",
       "      <th></th>\n",
       "      <th></th>\n",
       "      <th></th>\n",
       "      <th></th>\n",
       "      <th></th>\n",
       "      <th></th>\n",
       "    </tr>\n",
       "  </thead>\n",
       "  <tbody>\n",
       "    <tr>\n",
       "      <th>2017-03-23 10:00:00</th>\n",
       "      <td>LOSS</td>\n",
       "      <td>-0.00196</td>\n",
       "      <td>2.0</td>\n",
       "      <td>1.08223</td>\n",
       "      <td>1.09007</td>\n",
       "      <td>0.00214</td>\n",
       "    </tr>\n",
       "    <tr>\n",
       "      <th>2017-04-18 16:00:00</th>\n",
       "      <td>LOSS</td>\n",
       "      <td>-0.00166</td>\n",
       "      <td>1.0</td>\n",
       "      <td>1.07214</td>\n",
       "      <td>1.07878</td>\n",
       "      <td>0.00131</td>\n",
       "    </tr>\n",
       "  </tbody>\n",
       "</table>\n",
       "</div>"
      ],
      "text/plain": [
       "                       PL       gv  nswaps       sl       tp     size\n",
       "date                                                                 \n",
       "2017-03-23 10:00:00  LOSS -0.00196     2.0  1.08223  1.09007  0.00214\n",
       "2017-04-18 16:00:00  LOSS -0.00166     1.0  1.07214  1.07878  0.00131"
      ]
     },
     "metadata": {},
     "output_type": "display_data"
    },
    {
     "data": {
      "text/html": [
       "<h3>BRENT-AUG17</h3>"
      ],
      "text/plain": [
       "<IPython.core.display.HTML object>"
      ]
     },
     "metadata": {},
     "output_type": "display_data"
    },
    {
     "data": {
      "text/html": [
       "<b>Balance: </b> 0.060000 &nbsp;&nbsp;&nbsp;&nbsp; <b>Trades:</b>{'PROFIT': 1, 'LOSS': 1}"
      ],
      "text/plain": [
       "<IPython.core.display.HTML object>"
      ]
     },
     "metadata": {},
     "output_type": "display_data"
    },
    {
     "data": {
      "text/html": [
       "<b>Success rate: </b> 50.00%"
      ],
      "text/plain": [
       "<IPython.core.display.HTML object>"
      ]
     },
     "metadata": {},
     "output_type": "display_data"
    },
    {
     "name": "stdout",
     "output_type": "stream",
     "text": [
      "One month details:\n"
     ]
    },
    {
     "data": {
      "text/html": [
       "<div>\n",
       "<table border=\"1\" class=\"dataframe\">\n",
       "  <thead>\n",
       "    <tr style=\"text-align: right;\">\n",
       "      <th></th>\n",
       "      <th>PL</th>\n",
       "      <th>gv</th>\n",
       "      <th>nswaps</th>\n",
       "      <th>sl</th>\n",
       "      <th>tp</th>\n",
       "      <th>size</th>\n",
       "    </tr>\n",
       "    <tr>\n",
       "      <th>date</th>\n",
       "      <th></th>\n",
       "      <th></th>\n",
       "      <th></th>\n",
       "      <th></th>\n",
       "      <th></th>\n",
       "      <th></th>\n",
       "    </tr>\n",
       "  </thead>\n",
       "  <tbody>\n",
       "    <tr>\n",
       "      <th>2017-02-28 19:00:00</th>\n",
       "      <td>PROFIT</td>\n",
       "      <td>0.60</td>\n",
       "      <td>0.0</td>\n",
       "      <td>55.59</td>\n",
       "      <td>56.39</td>\n",
       "      <td>0.17</td>\n",
       "    </tr>\n",
       "    <tr>\n",
       "      <th>2017-05-31 18:00:00</th>\n",
       "      <td>LOSS</td>\n",
       "      <td>-0.54</td>\n",
       "      <td>2.0</td>\n",
       "      <td>50.19</td>\n",
       "      <td>52.35</td>\n",
       "      <td>0.48</td>\n",
       "    </tr>\n",
       "  </tbody>\n",
       "</table>\n",
       "</div>"
      ],
      "text/plain": [
       "                         PL    gv  nswaps     sl     tp  size\n",
       "date                                                         \n",
       "2017-02-28 19:00:00  PROFIT  0.60     0.0  55.59  56.39  0.17\n",
       "2017-05-31 18:00:00    LOSS -0.54     2.0  50.19  52.35  0.48"
      ]
     },
     "metadata": {},
     "output_type": "display_data"
    },
    {
     "data": {
      "text/html": [
       "<h3>CADJPY</h3>"
      ],
      "text/plain": [
       "<IPython.core.display.HTML object>"
      ]
     },
     "metadata": {},
     "output_type": "display_data"
    },
    {
     "data": {
      "text/html": [
       "<b>Balance: </b> -1.073000 &nbsp;&nbsp;&nbsp;&nbsp; <b>Trades:</b>{'LOSS': 5}"
      ],
      "text/plain": [
       "<IPython.core.display.HTML object>"
      ]
     },
     "metadata": {},
     "output_type": "display_data"
    },
    {
     "data": {
      "text/html": [
       "<b>Success rate: </b> 0.00%"
      ],
      "text/plain": [
       "<IPython.core.display.HTML object>"
      ]
     },
     "metadata": {},
     "output_type": "display_data"
    },
    {
     "name": "stdout",
     "output_type": "stream",
     "text": [
      "One month details:\n"
     ]
    },
    {
     "data": {
      "text/html": [
       "<div>\n",
       "<table border=\"1\" class=\"dataframe\">\n",
       "  <thead>\n",
       "    <tr style=\"text-align: right;\">\n",
       "      <th></th>\n",
       "      <th>PL</th>\n",
       "      <th>gv</th>\n",
       "      <th>nswaps</th>\n",
       "      <th>sl</th>\n",
       "      <th>tp</th>\n",
       "      <th>size</th>\n",
       "    </tr>\n",
       "    <tr>\n",
       "      <th>date</th>\n",
       "      <th></th>\n",
       "      <th></th>\n",
       "      <th></th>\n",
       "      <th></th>\n",
       "      <th></th>\n",
       "      <th></th>\n",
       "    </tr>\n",
       "  </thead>\n",
       "  <tbody>\n",
       "    <tr>\n",
       "      <th>2017-03-22 11:00:00</th>\n",
       "      <td>LOSS</td>\n",
       "      <td>-0.276</td>\n",
       "      <td>0.0</td>\n",
       "      <td>82.891</td>\n",
       "      <td>83.995</td>\n",
       "      <td>0.276</td>\n",
       "    </tr>\n",
       "    <tr>\n",
       "      <th>2017-05-17 21:00:00</th>\n",
       "      <td>LOSS</td>\n",
       "      <td>-0.251</td>\n",
       "      <td>1.0</td>\n",
       "      <td>81.315</td>\n",
       "      <td>82.319</td>\n",
       "      <td>0.237</td>\n",
       "    </tr>\n",
       "    <tr>\n",
       "      <th>2017-05-18 00:00:00</th>\n",
       "      <td>LOSS</td>\n",
       "      <td>-0.226</td>\n",
       "      <td>0.0</td>\n",
       "      <td>81.285</td>\n",
       "      <td>82.189</td>\n",
       "      <td>0.205</td>\n",
       "    </tr>\n",
       "    <tr>\n",
       "      <th>2017-06-06 14:00:00</th>\n",
       "      <td>LOSS</td>\n",
       "      <td>-0.155</td>\n",
       "      <td>0.0</td>\n",
       "      <td>81.123</td>\n",
       "      <td>81.743</td>\n",
       "      <td>0.211</td>\n",
       "    </tr>\n",
       "    <tr>\n",
       "      <th>2017-06-06 15:00:00</th>\n",
       "      <td>LOSS</td>\n",
       "      <td>-0.165</td>\n",
       "      <td>1.0</td>\n",
       "      <td>81.068</td>\n",
       "      <td>81.728</td>\n",
       "      <td>0.184</td>\n",
       "    </tr>\n",
       "  </tbody>\n",
       "</table>\n",
       "</div>"
      ],
      "text/plain": [
       "                       PL     gv  nswaps      sl      tp   size\n",
       "date                                                           \n",
       "2017-03-22 11:00:00  LOSS -0.276     0.0  82.891  83.995  0.276\n",
       "2017-05-17 21:00:00  LOSS -0.251     1.0  81.315  82.319  0.237\n",
       "2017-05-18 00:00:00  LOSS -0.226     0.0  81.285  82.189  0.205\n",
       "2017-06-06 14:00:00  LOSS -0.155     0.0  81.123  81.743  0.211\n",
       "2017-06-06 15:00:00  LOSS -0.165     1.0  81.068  81.728  0.184"
      ]
     },
     "metadata": {},
     "output_type": "display_data"
    },
    {
     "data": {
      "text/html": [
       "<h3>COCOA-SEP17</h3>"
      ],
      "text/plain": [
       "<IPython.core.display.HTML object>"
      ]
     },
     "metadata": {},
     "output_type": "display_data"
    },
    {
     "data": {
      "text/html": [
       "<b>Balance: </b> 201.000000 &nbsp;&nbsp;&nbsp;&nbsp; <b>Trades:</b>{'PROFIT': 2, 'LOSS': 3}"
      ],
      "text/plain": [
       "<IPython.core.display.HTML object>"
      ]
     },
     "metadata": {},
     "output_type": "display_data"
    },
    {
     "data": {
      "text/html": [
       "<b>Success rate: </b> 40.00%"
      ],
      "text/plain": [
       "<IPython.core.display.HTML object>"
      ]
     },
     "metadata": {},
     "output_type": "display_data"
    },
    {
     "name": "stdout",
     "output_type": "stream",
     "text": [
      "One month details:\n"
     ]
    },
    {
     "data": {
      "text/html": [
       "<div>\n",
       "<table border=\"1\" class=\"dataframe\">\n",
       "  <thead>\n",
       "    <tr style=\"text-align: right;\">\n",
       "      <th></th>\n",
       "      <th>PL</th>\n",
       "      <th>gv</th>\n",
       "      <th>nswaps</th>\n",
       "      <th>sl</th>\n",
       "      <th>tp</th>\n",
       "      <th>size</th>\n",
       "    </tr>\n",
       "    <tr>\n",
       "      <th>date</th>\n",
       "      <th></th>\n",
       "      <th></th>\n",
       "      <th></th>\n",
       "      <th></th>\n",
       "      <th></th>\n",
       "      <th></th>\n",
       "    </tr>\n",
       "  </thead>\n",
       "  <tbody>\n",
       "    <tr>\n",
       "      <th>2017-02-14 12:45:00</th>\n",
       "      <td>PROFIT</td>\n",
       "      <td>75.0</td>\n",
       "      <td>2.0</td>\n",
       "      <td>1886.0</td>\n",
       "      <td>1986.0</td>\n",
       "      <td>14.0</td>\n",
       "    </tr>\n",
       "    <tr>\n",
       "      <th>2017-02-28 18:45:00</th>\n",
       "      <td>LOSS</td>\n",
       "      <td>-22.0</td>\n",
       "      <td>1.0</td>\n",
       "      <td>1897.0</td>\n",
       "      <td>1985.0</td>\n",
       "      <td>11.0</td>\n",
       "    </tr>\n",
       "    <tr>\n",
       "      <th>2017-04-10 11:45:00</th>\n",
       "      <td>LOSS</td>\n",
       "      <td>-28.0</td>\n",
       "      <td>0.0</td>\n",
       "      <td>1964.0</td>\n",
       "      <td>2076.0</td>\n",
       "      <td>16.0</td>\n",
       "    </tr>\n",
       "    <tr>\n",
       "      <th>2017-04-20 14:45:00</th>\n",
       "      <td>LOSS</td>\n",
       "      <td>-25.0</td>\n",
       "      <td>0.0</td>\n",
       "      <td>1786.0</td>\n",
       "      <td>1886.0</td>\n",
       "      <td>20.0</td>\n",
       "    </tr>\n",
       "    <tr>\n",
       "      <th>2017-04-20 17:45:00</th>\n",
       "      <td>PROFIT</td>\n",
       "      <td>201.0</td>\n",
       "      <td>15.0</td>\n",
       "      <td>1748.0</td>\n",
       "      <td>2016.0</td>\n",
       "      <td>59.0</td>\n",
       "    </tr>\n",
       "  </tbody>\n",
       "</table>\n",
       "</div>"
      ],
      "text/plain": [
       "                         PL     gv  nswaps      sl      tp  size\n",
       "date                                                            \n",
       "2017-02-14 12:45:00  PROFIT   75.0     2.0  1886.0  1986.0  14.0\n",
       "2017-02-28 18:45:00    LOSS  -22.0     1.0  1897.0  1985.0  11.0\n",
       "2017-04-10 11:45:00    LOSS  -28.0     0.0  1964.0  2076.0  16.0\n",
       "2017-04-20 14:45:00    LOSS  -25.0     0.0  1786.0  1886.0  20.0\n",
       "2017-04-20 17:45:00  PROFIT  201.0    15.0  1748.0  2016.0  59.0"
      ]
     },
     "metadata": {},
     "output_type": "display_data"
    },
    {
     "data": {
      "text/html": [
       "<h3>EURAUD</h3>"
      ],
      "text/plain": [
       "<IPython.core.display.HTML object>"
      ]
     },
     "metadata": {},
     "output_type": "display_data"
    },
    {
     "data": {
      "text/html": [
       "<b>Balance: </b> -0.004820 &nbsp;&nbsp;&nbsp;&nbsp; <b>Trades:</b>{'LOSS': 2}"
      ],
      "text/plain": [
       "<IPython.core.display.HTML object>"
      ]
     },
     "metadata": {},
     "output_type": "display_data"
    },
    {
     "data": {
      "text/html": [
       "<b>Success rate: </b> 0.00%"
      ],
      "text/plain": [
       "<IPython.core.display.HTML object>"
      ]
     },
     "metadata": {},
     "output_type": "display_data"
    },
    {
     "name": "stdout",
     "output_type": "stream",
     "text": [
      "One month details:\n"
     ]
    },
    {
     "data": {
      "text/html": [
       "<div>\n",
       "<table border=\"1\" class=\"dataframe\">\n",
       "  <thead>\n",
       "    <tr style=\"text-align: right;\">\n",
       "      <th></th>\n",
       "      <th>PL</th>\n",
       "      <th>gv</th>\n",
       "      <th>nswaps</th>\n",
       "      <th>sl</th>\n",
       "      <th>tp</th>\n",
       "      <th>size</th>\n",
       "    </tr>\n",
       "    <tr>\n",
       "      <th>date</th>\n",
       "      <th></th>\n",
       "      <th></th>\n",
       "      <th></th>\n",
       "      <th></th>\n",
       "      <th></th>\n",
       "      <th></th>\n",
       "    </tr>\n",
       "  </thead>\n",
       "  <tbody>\n",
       "    <tr>\n",
       "      <th>2017-03-28 21:00:00</th>\n",
       "      <td>LOSS</td>\n",
       "      <td>-0.00219</td>\n",
       "      <td>1.0</td>\n",
       "      <td>1.41335</td>\n",
       "      <td>1.42211</td>\n",
       "      <td>0.00285</td>\n",
       "    </tr>\n",
       "    <tr>\n",
       "      <th>2017-06-05 11:00:00</th>\n",
       "      <td>LOSS</td>\n",
       "      <td>-0.00263</td>\n",
       "      <td>0.0</td>\n",
       "      <td>1.50481</td>\n",
       "      <td>1.51533</td>\n",
       "      <td>0.00382</td>\n",
       "    </tr>\n",
       "  </tbody>\n",
       "</table>\n",
       "</div>"
      ],
      "text/plain": [
       "                       PL       gv  nswaps       sl       tp     size\n",
       "date                                                                 \n",
       "2017-03-28 21:00:00  LOSS -0.00219     1.0  1.41335  1.42211  0.00285\n",
       "2017-06-05 11:00:00  LOSS -0.00263     0.0  1.50481  1.51533  0.00382"
      ]
     },
     "metadata": {},
     "output_type": "display_data"
    },
    {
     "data": {
      "text/html": [
       "<h3>EURCHF</h3>"
      ],
      "text/plain": [
       "<IPython.core.display.HTML object>"
      ]
     },
     "metadata": {},
     "output_type": "display_data"
    },
    {
     "data": {
      "text/html": [
       "<b>Balance: </b> 0.000000 &nbsp;&nbsp;&nbsp;&nbsp; <b>Trades:</b>{}"
      ],
      "text/plain": [
       "<IPython.core.display.HTML object>"
      ]
     },
     "metadata": {},
     "output_type": "display_data"
    },
    {
     "data": {
      "text/html": [
       "<b>Success rate: </b> 0.00%"
      ],
      "text/plain": [
       "<IPython.core.display.HTML object>"
      ]
     },
     "metadata": {},
     "output_type": "display_data"
    },
    {
     "name": "stdout",
     "output_type": "stream",
     "text": [
      "One month details:\n"
     ]
    },
    {
     "data": {
      "text/html": [
       "<div>\n",
       "<table border=\"1\" class=\"dataframe\">\n",
       "  <thead>\n",
       "    <tr style=\"text-align: right;\">\n",
       "      <th></th>\n",
       "      <th>PL</th>\n",
       "      <th>gv</th>\n",
       "      <th>nswaps</th>\n",
       "      <th>sl</th>\n",
       "      <th>tp</th>\n",
       "      <th>size</th>\n",
       "    </tr>\n",
       "    <tr>\n",
       "      <th>date</th>\n",
       "      <th></th>\n",
       "      <th></th>\n",
       "      <th></th>\n",
       "      <th></th>\n",
       "      <th></th>\n",
       "      <th></th>\n",
       "    </tr>\n",
       "  </thead>\n",
       "  <tbody>\n",
       "  </tbody>\n",
       "</table>\n",
       "</div>"
      ],
      "text/plain": [
       "Empty DataFrame\n",
       "Columns: [PL, gv, nswaps, sl, tp, size]\n",
       "Index: []"
      ]
     },
     "metadata": {},
     "output_type": "display_data"
    },
    {
     "data": {
      "text/html": [
       "<h3>EURDKK</h3>"
      ],
      "text/plain": [
       "<IPython.core.display.HTML object>"
      ]
     },
     "metadata": {},
     "output_type": "display_data"
    },
    {
     "data": {
      "text/html": [
       "<b>Balance: </b> -0.006850 &nbsp;&nbsp;&nbsp;&nbsp; <b>Trades:</b>{'LOSS': 2}"
      ],
      "text/plain": [
       "<IPython.core.display.HTML object>"
      ]
     },
     "metadata": {},
     "output_type": "display_data"
    },
    {
     "data": {
      "text/html": [
       "<b>Success rate: </b> 0.00%"
      ],
      "text/plain": [
       "<IPython.core.display.HTML object>"
      ]
     },
     "metadata": {},
     "output_type": "display_data"
    },
    {
     "name": "stdout",
     "output_type": "stream",
     "text": [
      "One month details:\n"
     ]
    },
    {
     "data": {
      "text/html": [
       "<div>\n",
       "<table border=\"1\" class=\"dataframe\">\n",
       "  <thead>\n",
       "    <tr style=\"text-align: right;\">\n",
       "      <th></th>\n",
       "      <th>PL</th>\n",
       "      <th>gv</th>\n",
       "      <th>nswaps</th>\n",
       "      <th>sl</th>\n",
       "      <th>tp</th>\n",
       "      <th>size</th>\n",
       "    </tr>\n",
       "    <tr>\n",
       "      <th>date</th>\n",
       "      <th></th>\n",
       "      <th></th>\n",
       "      <th></th>\n",
       "      <th></th>\n",
       "      <th></th>\n",
       "      <th></th>\n",
       "    </tr>\n",
       "  </thead>\n",
       "  <tbody>\n",
       "    <tr>\n",
       "      <th>2017-06-07 00:00:00</th>\n",
       "      <td>LOSS</td>\n",
       "      <td>-0.00380</td>\n",
       "      <td>3.0</td>\n",
       "      <td>7.43450</td>\n",
       "      <td>7.44970</td>\n",
       "      <td>0.00178</td>\n",
       "    </tr>\n",
       "    <tr>\n",
       "      <th>2017-06-07 01:00:00</th>\n",
       "      <td>LOSS</td>\n",
       "      <td>-0.00305</td>\n",
       "      <td>1.0</td>\n",
       "      <td>7.43519</td>\n",
       "      <td>7.44739</td>\n",
       "      <td>0.00099</td>\n",
       "    </tr>\n",
       "  </tbody>\n",
       "</table>\n",
       "</div>"
      ],
      "text/plain": [
       "                       PL       gv  nswaps       sl       tp     size\n",
       "date                                                                 \n",
       "2017-06-07 00:00:00  LOSS -0.00380     3.0  7.43450  7.44970  0.00178\n",
       "2017-06-07 01:00:00  LOSS -0.00305     1.0  7.43519  7.44739  0.00099"
      ]
     },
     "metadata": {},
     "output_type": "display_data"
    },
    {
     "data": {
      "text/html": [
       "<h3>EURHKD</h3>"
      ],
      "text/plain": [
       "<IPython.core.display.HTML object>"
      ]
     },
     "metadata": {},
     "output_type": "display_data"
    },
    {
     "data": {
      "text/html": [
       "<b>Balance: </b> 0.165090 &nbsp;&nbsp;&nbsp;&nbsp; <b>Trades:</b>{'PROFIT': 3, 'LOSS': 3}"
      ],
      "text/plain": [
       "<IPython.core.display.HTML object>"
      ]
     },
     "metadata": {},
     "output_type": "display_data"
    },
    {
     "data": {
      "text/html": [
       "<b>Success rate: </b> 50.00%"
      ],
      "text/plain": [
       "<IPython.core.display.HTML object>"
      ]
     },
     "metadata": {},
     "output_type": "display_data"
    },
    {
     "name": "stdout",
     "output_type": "stream",
     "text": [
      "One month details:\n"
     ]
    },
    {
     "data": {
      "text/html": [
       "<div>\n",
       "<table border=\"1\" class=\"dataframe\">\n",
       "  <thead>\n",
       "    <tr style=\"text-align: right;\">\n",
       "      <th></th>\n",
       "      <th>PL</th>\n",
       "      <th>gv</th>\n",
       "      <th>nswaps</th>\n",
       "      <th>sl</th>\n",
       "      <th>tp</th>\n",
       "      <th>size</th>\n",
       "    </tr>\n",
       "    <tr>\n",
       "      <th>date</th>\n",
       "      <th></th>\n",
       "      <th></th>\n",
       "      <th></th>\n",
       "      <th></th>\n",
       "      <th></th>\n",
       "      <th></th>\n",
       "    </tr>\n",
       "  </thead>\n",
       "  <tbody>\n",
       "    <tr>\n",
       "      <th>2017-01-03 14:00:00</th>\n",
       "      <td>LOSS</td>\n",
       "      <td>-0.01414</td>\n",
       "      <td>0.0</td>\n",
       "      <td>8.04582</td>\n",
       "      <td>8.10238</td>\n",
       "      <td>0.01497</td>\n",
       "    </tr>\n",
       "    <tr>\n",
       "      <th>2017-01-03 17:00:00</th>\n",
       "      <td>PROFIT</td>\n",
       "      <td>0.11319</td>\n",
       "      <td>2.0</td>\n",
       "      <td>8.01874</td>\n",
       "      <td>8.16966</td>\n",
       "      <td>0.03884</td>\n",
       "    </tr>\n",
       "    <tr>\n",
       "      <th>2017-01-11 17:00:00</th>\n",
       "      <td>PROFIT</td>\n",
       "      <td>0.05529</td>\n",
       "      <td>0.0</td>\n",
       "      <td>8.10639</td>\n",
       "      <td>8.18011</td>\n",
       "      <td>0.02140</td>\n",
       "    </tr>\n",
       "    <tr>\n",
       "      <th>2017-01-26 18:00:00</th>\n",
       "      <td>PROFIT</td>\n",
       "      <td>0.03648</td>\n",
       "      <td>1.0</td>\n",
       "      <td>8.26647</td>\n",
       "      <td>8.31511</td>\n",
       "      <td>0.01190</td>\n",
       "    </tr>\n",
       "    <tr>\n",
       "      <th>2017-02-07 10:00:00</th>\n",
       "      <td>LOSS</td>\n",
       "      <td>-0.01364</td>\n",
       "      <td>0.0</td>\n",
       "      <td>8.26885</td>\n",
       "      <td>8.32341</td>\n",
       "      <td>0.01756</td>\n",
       "    </tr>\n",
       "    <tr>\n",
       "      <th>2017-02-22 12:00:00</th>\n",
       "      <td>LOSS</td>\n",
       "      <td>-0.01209</td>\n",
       "      <td>0.0</td>\n",
       "      <td>8.14263</td>\n",
       "      <td>8.19099</td>\n",
       "      <td>0.01305</td>\n",
       "    </tr>\n",
       "  </tbody>\n",
       "</table>\n",
       "</div>"
      ],
      "text/plain": [
       "                         PL       gv  nswaps       sl       tp     size\n",
       "date                                                                   \n",
       "2017-01-03 14:00:00    LOSS -0.01414     0.0  8.04582  8.10238  0.01497\n",
       "2017-01-03 17:00:00  PROFIT  0.11319     2.0  8.01874  8.16966  0.03884\n",
       "2017-01-11 17:00:00  PROFIT  0.05529     0.0  8.10639  8.18011  0.02140\n",
       "2017-01-26 18:00:00  PROFIT  0.03648     1.0  8.26647  8.31511  0.01190\n",
       "2017-02-07 10:00:00    LOSS -0.01364     0.0  8.26885  8.32341  0.01756\n",
       "2017-02-22 12:00:00    LOSS -0.01209     0.0  8.14263  8.19099  0.01305"
      ]
     },
     "metadata": {},
     "output_type": "display_data"
    },
    {
     "data": {
      "text/html": [
       "<h3>EURNOK</h3>"
      ],
      "text/plain": [
       "<IPython.core.display.HTML object>"
      ]
     },
     "metadata": {},
     "output_type": "display_data"
    },
    {
     "data": {
      "text/html": [
       "<b>Balance: </b> -0.111950 &nbsp;&nbsp;&nbsp;&nbsp; <b>Trades:</b>{'LOSS': 7}"
      ],
      "text/plain": [
       "<IPython.core.display.HTML object>"
      ]
     },
     "metadata": {},
     "output_type": "display_data"
    },
    {
     "data": {
      "text/html": [
       "<b>Success rate: </b> 0.00%"
      ],
      "text/plain": [
       "<IPython.core.display.HTML object>"
      ]
     },
     "metadata": {},
     "output_type": "display_data"
    },
    {
     "name": "stdout",
     "output_type": "stream",
     "text": [
      "One month details:\n"
     ]
    },
    {
     "data": {
      "text/html": [
       "<div>\n",
       "<table border=\"1\" class=\"dataframe\">\n",
       "  <thead>\n",
       "    <tr style=\"text-align: right;\">\n",
       "      <th></th>\n",
       "      <th>PL</th>\n",
       "      <th>gv</th>\n",
       "      <th>nswaps</th>\n",
       "      <th>sl</th>\n",
       "      <th>tp</th>\n",
       "      <th>size</th>\n",
       "    </tr>\n",
       "    <tr>\n",
       "      <th>date</th>\n",
       "      <th></th>\n",
       "      <th></th>\n",
       "      <th></th>\n",
       "      <th></th>\n",
       "      <th></th>\n",
       "      <th></th>\n",
       "    </tr>\n",
       "  </thead>\n",
       "  <tbody>\n",
       "    <tr>\n",
       "      <th>2017-01-03 13:00:00</th>\n",
       "      <td>LOSS</td>\n",
       "      <td>-0.01657</td>\n",
       "      <td>0.0</td>\n",
       "      <td>9.00028</td>\n",
       "      <td>9.06656</td>\n",
       "      <td>0.01163</td>\n",
       "    </tr>\n",
       "    <tr>\n",
       "      <th>2017-01-24 11:00:00</th>\n",
       "      <td>LOSS</td>\n",
       "      <td>-0.01629</td>\n",
       "      <td>0.0</td>\n",
       "      <td>8.95705</td>\n",
       "      <td>9.02221</td>\n",
       "      <td>0.01676</td>\n",
       "    </tr>\n",
       "    <tr>\n",
       "      <th>2017-01-24 12:00:00</th>\n",
       "      <td>LOSS</td>\n",
       "      <td>-0.01152</td>\n",
       "      <td>0.0</td>\n",
       "      <td>8.95972</td>\n",
       "      <td>9.00580</td>\n",
       "      <td>0.00813</td>\n",
       "    </tr>\n",
       "    <tr>\n",
       "      <th>2017-02-02 10:00:00</th>\n",
       "      <td>LOSS</td>\n",
       "      <td>-0.01980</td>\n",
       "      <td>1.0</td>\n",
       "      <td>8.83859</td>\n",
       "      <td>8.91779</td>\n",
       "      <td>0.01675</td>\n",
       "    </tr>\n",
       "    <tr>\n",
       "      <th>2017-02-03 17:00:00</th>\n",
       "      <td>LOSS</td>\n",
       "      <td>-0.01592</td>\n",
       "      <td>1.0</td>\n",
       "      <td>8.83462</td>\n",
       "      <td>8.89830</td>\n",
       "      <td>0.01673</td>\n",
       "    </tr>\n",
       "    <tr>\n",
       "      <th>2017-02-15 16:00:00</th>\n",
       "      <td>LOSS</td>\n",
       "      <td>-0.01336</td>\n",
       "      <td>0.0</td>\n",
       "      <td>8.84643</td>\n",
       "      <td>8.89987</td>\n",
       "      <td>0.00827</td>\n",
       "    </tr>\n",
       "    <tr>\n",
       "      <th>2017-05-11 11:00:00</th>\n",
       "      <td>LOSS</td>\n",
       "      <td>-0.01849</td>\n",
       "      <td>0.0</td>\n",
       "      <td>9.33138</td>\n",
       "      <td>9.40534</td>\n",
       "      <td>0.02560</td>\n",
       "    </tr>\n",
       "  </tbody>\n",
       "</table>\n",
       "</div>"
      ],
      "text/plain": [
       "                       PL       gv  nswaps       sl       tp     size\n",
       "date                                                                 \n",
       "2017-01-03 13:00:00  LOSS -0.01657     0.0  9.00028  9.06656  0.01163\n",
       "2017-01-24 11:00:00  LOSS -0.01629     0.0  8.95705  9.02221  0.01676\n",
       "2017-01-24 12:00:00  LOSS -0.01152     0.0  8.95972  9.00580  0.00813\n",
       "2017-02-02 10:00:00  LOSS -0.01980     1.0  8.83859  8.91779  0.01675\n",
       "2017-02-03 17:00:00  LOSS -0.01592     1.0  8.83462  8.89830  0.01673\n",
       "2017-02-15 16:00:00  LOSS -0.01336     0.0  8.84643  8.89987  0.00827\n",
       "2017-05-11 11:00:00  LOSS -0.01849     0.0  9.33138  9.40534  0.02560"
      ]
     },
     "metadata": {},
     "output_type": "display_data"
    },
    {
     "data": {
      "text/html": [
       "<h3>EURPLN</h3>"
      ],
      "text/plain": [
       "<IPython.core.display.HTML object>"
      ]
     },
     "metadata": {},
     "output_type": "display_data"
    },
    {
     "data": {
      "text/html": [
       "<b>Balance: </b> 0.055620 &nbsp;&nbsp;&nbsp;&nbsp; <b>Trades:</b>{'PROFIT': 3, 'LOSS': 7}"
      ],
      "text/plain": [
       "<IPython.core.display.HTML object>"
      ]
     },
     "metadata": {},
     "output_type": "display_data"
    },
    {
     "data": {
      "text/html": [
       "<b>Success rate: </b> 30.00%"
      ],
      "text/plain": [
       "<IPython.core.display.HTML object>"
      ]
     },
     "metadata": {},
     "output_type": "display_data"
    },
    {
     "name": "stdout",
     "output_type": "stream",
     "text": [
      "One month details:\n"
     ]
    },
    {
     "data": {
      "text/html": [
       "<div>\n",
       "<table border=\"1\" class=\"dataframe\">\n",
       "  <thead>\n",
       "    <tr style=\"text-align: right;\">\n",
       "      <th></th>\n",
       "      <th>PL</th>\n",
       "      <th>gv</th>\n",
       "      <th>nswaps</th>\n",
       "      <th>sl</th>\n",
       "      <th>tp</th>\n",
       "      <th>size</th>\n",
       "    </tr>\n",
       "    <tr>\n",
       "      <th>date</th>\n",
       "      <th></th>\n",
       "      <th></th>\n",
       "      <th></th>\n",
       "      <th></th>\n",
       "      <th></th>\n",
       "      <th></th>\n",
       "    </tr>\n",
       "  </thead>\n",
       "  <tbody>\n",
       "    <tr>\n",
       "      <th>2017-03-17 22:00:00</th>\n",
       "      <td>LOSS</td>\n",
       "      <td>-0.01220</td>\n",
       "      <td>1.0</td>\n",
       "      <td>4.27190</td>\n",
       "      <td>4.32070</td>\n",
       "      <td>0.00804</td>\n",
       "    </tr>\n",
       "    <tr>\n",
       "      <th>2017-03-20 23:00:00</th>\n",
       "      <td>LOSS</td>\n",
       "      <td>-0.01509</td>\n",
       "      <td>5.0</td>\n",
       "      <td>4.25341</td>\n",
       "      <td>4.31377</td>\n",
       "      <td>0.01233</td>\n",
       "    </tr>\n",
       "    <tr>\n",
       "      <th>2017-05-03 04:00:00</th>\n",
       "      <td>LOSS</td>\n",
       "      <td>-0.00877</td>\n",
       "      <td>0.0</td>\n",
       "      <td>4.18903</td>\n",
       "      <td>4.22411</td>\n",
       "      <td>0.00781</td>\n",
       "    </tr>\n",
       "    <tr>\n",
       "      <th>2017-05-16 00:00:00</th>\n",
       "      <td>LOSS</td>\n",
       "      <td>-0.01059</td>\n",
       "      <td>0.0</td>\n",
       "      <td>4.18751</td>\n",
       "      <td>4.22987</td>\n",
       "      <td>0.00613</td>\n",
       "    </tr>\n",
       "    <tr>\n",
       "      <th>2017-05-16 09:00:00</th>\n",
       "      <td>LOSS</td>\n",
       "      <td>-0.00919</td>\n",
       "      <td>0.0</td>\n",
       "      <td>4.18764</td>\n",
       "      <td>4.22440</td>\n",
       "      <td>0.00700</td>\n",
       "    </tr>\n",
       "    <tr>\n",
       "      <th>2017-05-16 21:00:00</th>\n",
       "      <td>PROFIT</td>\n",
       "      <td>0.05898</td>\n",
       "      <td>22.0</td>\n",
       "      <td>4.15634</td>\n",
       "      <td>4.23498</td>\n",
       "      <td>0.03007</td>\n",
       "    </tr>\n",
       "    <tr>\n",
       "      <th>2017-05-17 00:00:00</th>\n",
       "      <td>PROFIT</td>\n",
       "      <td>0.03618</td>\n",
       "      <td>1.0</td>\n",
       "      <td>4.16184</td>\n",
       "      <td>4.21008</td>\n",
       "      <td>0.01020</td>\n",
       "    </tr>\n",
       "    <tr>\n",
       "      <th>2017-05-17 01:00:00</th>\n",
       "      <td>PROFIT</td>\n",
       "      <td>0.03618</td>\n",
       "      <td>1.0</td>\n",
       "      <td>4.16414</td>\n",
       "      <td>4.21238</td>\n",
       "      <td>0.00800</td>\n",
       "    </tr>\n",
       "    <tr>\n",
       "      <th>2017-05-24 18:00:00</th>\n",
       "      <td>LOSS</td>\n",
       "      <td>-0.01067</td>\n",
       "      <td>0.0</td>\n",
       "      <td>4.17329</td>\n",
       "      <td>4.21597</td>\n",
       "      <td>0.01035</td>\n",
       "    </tr>\n",
       "    <tr>\n",
       "      <th>2017-05-25 02:00:00</th>\n",
       "      <td>LOSS</td>\n",
       "      <td>-0.00921</td>\n",
       "      <td>0.0</td>\n",
       "      <td>4.16809</td>\n",
       "      <td>4.20493</td>\n",
       "      <td>0.00495</td>\n",
       "    </tr>\n",
       "  </tbody>\n",
       "</table>\n",
       "</div>"
      ],
      "text/plain": [
       "                         PL       gv  nswaps       sl       tp     size\n",
       "date                                                                   \n",
       "2017-03-17 22:00:00    LOSS -0.01220     1.0  4.27190  4.32070  0.00804\n",
       "2017-03-20 23:00:00    LOSS -0.01509     5.0  4.25341  4.31377  0.01233\n",
       "2017-05-03 04:00:00    LOSS -0.00877     0.0  4.18903  4.22411  0.00781\n",
       "2017-05-16 00:00:00    LOSS -0.01059     0.0  4.18751  4.22987  0.00613\n",
       "2017-05-16 09:00:00    LOSS -0.00919     0.0  4.18764  4.22440  0.00700\n",
       "2017-05-16 21:00:00  PROFIT  0.05898    22.0  4.15634  4.23498  0.03007\n",
       "2017-05-17 00:00:00  PROFIT  0.03618     1.0  4.16184  4.21008  0.01020\n",
       "2017-05-17 01:00:00  PROFIT  0.03618     1.0  4.16414  4.21238  0.00800\n",
       "2017-05-24 18:00:00    LOSS -0.01067     0.0  4.17329  4.21597  0.01035\n",
       "2017-05-25 02:00:00    LOSS -0.00921     0.0  4.16809  4.20493  0.00495"
      ]
     },
     "metadata": {},
     "output_type": "display_data"
    },
    {
     "data": {
      "text/html": [
       "<h3>EURRUB</h3>"
      ],
      "text/plain": [
       "<IPython.core.display.HTML object>"
      ]
     },
     "metadata": {},
     "output_type": "display_data"
    },
    {
     "data": {
      "text/html": [
       "<b>Balance: </b> -0.608300 &nbsp;&nbsp;&nbsp;&nbsp; <b>Trades:</b>{'LOSS': 1}"
      ],
      "text/plain": [
       "<IPython.core.display.HTML object>"
      ]
     },
     "metadata": {},
     "output_type": "display_data"
    },
    {
     "data": {
      "text/html": [
       "<b>Success rate: </b> 0.00%"
      ],
      "text/plain": [
       "<IPython.core.display.HTML object>"
      ]
     },
     "metadata": {},
     "output_type": "display_data"
    },
    {
     "name": "stdout",
     "output_type": "stream",
     "text": [
      "One month details:\n"
     ]
    },
    {
     "data": {
      "text/html": [
       "<div>\n",
       "<table border=\"1\" class=\"dataframe\">\n",
       "  <thead>\n",
       "    <tr style=\"text-align: right;\">\n",
       "      <th></th>\n",
       "      <th>PL</th>\n",
       "      <th>gv</th>\n",
       "      <th>nswaps</th>\n",
       "      <th>sl</th>\n",
       "      <th>tp</th>\n",
       "      <th>size</th>\n",
       "    </tr>\n",
       "    <tr>\n",
       "      <th>date</th>\n",
       "      <th></th>\n",
       "      <th></th>\n",
       "      <th></th>\n",
       "      <th></th>\n",
       "      <th></th>\n",
       "      <th></th>\n",
       "    </tr>\n",
       "  </thead>\n",
       "  <tbody>\n",
       "    <tr>\n",
       "      <th>2017-03-31 10:00:00</th>\n",
       "      <td>LOSS</td>\n",
       "      <td>-0.6083</td>\n",
       "      <td>3.0</td>\n",
       "      <td>59.439</td>\n",
       "      <td>61.8722</td>\n",
       "      <td>0.2904</td>\n",
       "    </tr>\n",
       "  </tbody>\n",
       "</table>\n",
       "</div>"
      ],
      "text/plain": [
       "                       PL      gv  nswaps      sl       tp    size\n",
       "date                                                              \n",
       "2017-03-31 10:00:00  LOSS -0.6083     3.0  59.439  61.8722  0.2904"
      ]
     },
     "metadata": {},
     "output_type": "display_data"
    },
    {
     "data": {
      "text/html": [
       "<h3>EURSEK</h3>"
      ],
      "text/plain": [
       "<IPython.core.display.HTML object>"
      ]
     },
     "metadata": {},
     "output_type": "display_data"
    },
    {
     "data": {
      "text/html": [
       "<b>Balance: </b> 0.049110 &nbsp;&nbsp;&nbsp;&nbsp; <b>Trades:</b>{'PROFIT': 1}"
      ],
      "text/plain": [
       "<IPython.core.display.HTML object>"
      ]
     },
     "metadata": {},
     "output_type": "display_data"
    },
    {
     "data": {
      "text/html": [
       "<b>Success rate: </b> 100.00%"
      ],
      "text/plain": [
       "<IPython.core.display.HTML object>"
      ]
     },
     "metadata": {},
     "output_type": "display_data"
    },
    {
     "name": "stdout",
     "output_type": "stream",
     "text": [
      "One month details:\n"
     ]
    },
    {
     "data": {
      "text/html": [
       "<div>\n",
       "<table border=\"1\" class=\"dataframe\">\n",
       "  <thead>\n",
       "    <tr style=\"text-align: right;\">\n",
       "      <th></th>\n",
       "      <th>PL</th>\n",
       "      <th>gv</th>\n",
       "      <th>nswaps</th>\n",
       "      <th>sl</th>\n",
       "      <th>tp</th>\n",
       "      <th>size</th>\n",
       "    </tr>\n",
       "    <tr>\n",
       "      <th>date</th>\n",
       "      <th></th>\n",
       "      <th></th>\n",
       "      <th></th>\n",
       "      <th></th>\n",
       "      <th></th>\n",
       "      <th></th>\n",
       "    </tr>\n",
       "  </thead>\n",
       "  <tbody>\n",
       "    <tr>\n",
       "      <th>2017-05-11 11:00:00</th>\n",
       "      <td>PROFIT</td>\n",
       "      <td>0.04911</td>\n",
       "      <td>2.0</td>\n",
       "      <td>9.62292</td>\n",
       "      <td>9.6884</td>\n",
       "      <td>0.02059</td>\n",
       "    </tr>\n",
       "  </tbody>\n",
       "</table>\n",
       "</div>"
      ],
      "text/plain": [
       "                         PL       gv  nswaps       sl      tp     size\n",
       "date                                                                  \n",
       "2017-05-11 11:00:00  PROFIT  0.04911     2.0  9.62292  9.6884  0.02059"
      ]
     },
     "metadata": {},
     "output_type": "display_data"
    },
    {
     "data": {
      "text/html": [
       "<h3>EURUSD</h3>"
      ],
      "text/plain": [
       "<IPython.core.display.HTML object>"
      ]
     },
     "metadata": {},
     "output_type": "display_data"
    },
    {
     "data": {
      "text/html": [
       "<b>Balance: </b> -0.005570 &nbsp;&nbsp;&nbsp;&nbsp; <b>Trades:</b>{'LOSS': 4}"
      ],
      "text/plain": [
       "<IPython.core.display.HTML object>"
      ]
     },
     "metadata": {},
     "output_type": "display_data"
    },
    {
     "data": {
      "text/html": [
       "<b>Success rate: </b> 0.00%"
      ],
      "text/plain": [
       "<IPython.core.display.HTML object>"
      ]
     },
     "metadata": {},
     "output_type": "display_data"
    },
    {
     "name": "stdout",
     "output_type": "stream",
     "text": [
      "One month details:\n"
     ]
    },
    {
     "data": {
      "text/html": [
       "<div>\n",
       "<table border=\"1\" class=\"dataframe\">\n",
       "  <thead>\n",
       "    <tr style=\"text-align: right;\">\n",
       "      <th></th>\n",
       "      <th>PL</th>\n",
       "      <th>gv</th>\n",
       "      <th>nswaps</th>\n",
       "      <th>sl</th>\n",
       "      <th>tp</th>\n",
       "      <th>size</th>\n",
       "    </tr>\n",
       "    <tr>\n",
       "      <th>date</th>\n",
       "      <th></th>\n",
       "      <th></th>\n",
       "      <th></th>\n",
       "      <th></th>\n",
       "      <th></th>\n",
       "      <th></th>\n",
       "    </tr>\n",
       "  </thead>\n",
       "  <tbody>\n",
       "    <tr>\n",
       "      <th>2017-02-07 10:00:00</th>\n",
       "      <td>LOSS</td>\n",
       "      <td>-0.00145</td>\n",
       "      <td>0.0</td>\n",
       "      <td>1.06606</td>\n",
       "      <td>1.07186</td>\n",
       "      <td>0.00226</td>\n",
       "    </tr>\n",
       "    <tr>\n",
       "      <th>2017-02-10 16:00:00</th>\n",
       "      <td>LOSS</td>\n",
       "      <td>-0.00163</td>\n",
       "      <td>1.0</td>\n",
       "      <td>1.06069</td>\n",
       "      <td>1.06721</td>\n",
       "      <td>0.00167</td>\n",
       "    </tr>\n",
       "    <tr>\n",
       "      <th>2017-02-22 12:00:00</th>\n",
       "      <td>LOSS</td>\n",
       "      <td>-0.00139</td>\n",
       "      <td>0.0</td>\n",
       "      <td>1.04933</td>\n",
       "      <td>1.05489</td>\n",
       "      <td>0.00164</td>\n",
       "    </tr>\n",
       "    <tr>\n",
       "      <th>2017-06-15 19:00:00</th>\n",
       "      <td>LOSS</td>\n",
       "      <td>-0.00110</td>\n",
       "      <td>1.0</td>\n",
       "      <td>1.11384</td>\n",
       "      <td>1.11824</td>\n",
       "      <td>0.00121</td>\n",
       "    </tr>\n",
       "  </tbody>\n",
       "</table>\n",
       "</div>"
      ],
      "text/plain": [
       "                       PL       gv  nswaps       sl       tp     size\n",
       "date                                                                 \n",
       "2017-02-07 10:00:00  LOSS -0.00145     0.0  1.06606  1.07186  0.00226\n",
       "2017-02-10 16:00:00  LOSS -0.00163     1.0  1.06069  1.06721  0.00167\n",
       "2017-02-22 12:00:00  LOSS -0.00139     0.0  1.04933  1.05489  0.00164\n",
       "2017-06-15 19:00:00  LOSS -0.00110     1.0  1.11384  1.11824  0.00121"
      ]
     },
     "metadata": {},
     "output_type": "display_data"
    },
    {
     "data": {
      "text/html": [
       "<h3>GBPCAD</h3>"
      ],
      "text/plain": [
       "<IPython.core.display.HTML object>"
      ]
     },
     "metadata": {},
     "output_type": "display_data"
    },
    {
     "data": {
      "text/html": [
       "<b>Balance: </b> -0.011580 &nbsp;&nbsp;&nbsp;&nbsp; <b>Trades:</b>{'PROFIT': 1, 'LOSS': 6}"
      ],
      "text/plain": [
       "<IPython.core.display.HTML object>"
      ]
     },
     "metadata": {},
     "output_type": "display_data"
    },
    {
     "data": {
      "text/html": [
       "<b>Success rate: </b> 14.29%"
      ],
      "text/plain": [
       "<IPython.core.display.HTML object>"
      ]
     },
     "metadata": {},
     "output_type": "display_data"
    },
    {
     "name": "stdout",
     "output_type": "stream",
     "text": [
      "One month details:\n"
     ]
    },
    {
     "data": {
      "text/html": [
       "<div>\n",
       "<table border=\"1\" class=\"dataframe\">\n",
       "  <thead>\n",
       "    <tr style=\"text-align: right;\">\n",
       "      <th></th>\n",
       "      <th>PL</th>\n",
       "      <th>gv</th>\n",
       "      <th>nswaps</th>\n",
       "      <th>sl</th>\n",
       "      <th>tp</th>\n",
       "      <th>size</th>\n",
       "    </tr>\n",
       "    <tr>\n",
       "      <th>date</th>\n",
       "      <th></th>\n",
       "      <th></th>\n",
       "      <th></th>\n",
       "      <th></th>\n",
       "      <th></th>\n",
       "      <th></th>\n",
       "    </tr>\n",
       "  </thead>\n",
       "  <tbody>\n",
       "    <tr>\n",
       "      <th>2017-02-27 10:00:00</th>\n",
       "      <td>PROFIT</td>\n",
       "      <td>0.01020</td>\n",
       "      <td>0.0</td>\n",
       "      <td>1.62364</td>\n",
       "      <td>1.63724</td>\n",
       "      <td>0.00331</td>\n",
       "    </tr>\n",
       "    <tr>\n",
       "      <th>2017-03-14 09:00:00</th>\n",
       "      <td>LOSS</td>\n",
       "      <td>-0.00374</td>\n",
       "      <td>0.0</td>\n",
       "      <td>1.63128</td>\n",
       "      <td>1.64624</td>\n",
       "      <td>0.00359</td>\n",
       "    </tr>\n",
       "    <tr>\n",
       "      <th>2017-03-14 10:00:00</th>\n",
       "      <td>LOSS</td>\n",
       "      <td>-0.00326</td>\n",
       "      <td>0.0</td>\n",
       "      <td>1.63131</td>\n",
       "      <td>1.64435</td>\n",
       "      <td>0.00338</td>\n",
       "    </tr>\n",
       "    <tr>\n",
       "      <th>2017-03-29 03:00:00</th>\n",
       "      <td>LOSS</td>\n",
       "      <td>-0.00500</td>\n",
       "      <td>0.0</td>\n",
       "      <td>1.65648</td>\n",
       "      <td>1.67648</td>\n",
       "      <td>0.00496</td>\n",
       "    </tr>\n",
       "    <tr>\n",
       "      <th>2017-04-07 13:00:00</th>\n",
       "      <td>LOSS</td>\n",
       "      <td>-0.00334</td>\n",
       "      <td>0.0</td>\n",
       "      <td>1.66203</td>\n",
       "      <td>1.67539</td>\n",
       "      <td>0.00293</td>\n",
       "    </tr>\n",
       "    <tr>\n",
       "      <th>2017-06-12 15:00:00</th>\n",
       "      <td>LOSS</td>\n",
       "      <td>-0.00300</td>\n",
       "      <td>0.0</td>\n",
       "      <td>1.70055</td>\n",
       "      <td>1.71255</td>\n",
       "      <td>0.00374</td>\n",
       "    </tr>\n",
       "    <tr>\n",
       "      <th>2017-06-13 08:00:00</th>\n",
       "      <td>LOSS</td>\n",
       "      <td>-0.00344</td>\n",
       "      <td>1.0</td>\n",
       "      <td>1.67946</td>\n",
       "      <td>1.69322</td>\n",
       "      <td>0.00305</td>\n",
       "    </tr>\n",
       "  </tbody>\n",
       "</table>\n",
       "</div>"
      ],
      "text/plain": [
       "                         PL       gv  nswaps       sl       tp     size\n",
       "date                                                                   \n",
       "2017-02-27 10:00:00  PROFIT  0.01020     0.0  1.62364  1.63724  0.00331\n",
       "2017-03-14 09:00:00    LOSS -0.00374     0.0  1.63128  1.64624  0.00359\n",
       "2017-03-14 10:00:00    LOSS -0.00326     0.0  1.63131  1.64435  0.00338\n",
       "2017-03-29 03:00:00    LOSS -0.00500     0.0  1.65648  1.67648  0.00496\n",
       "2017-04-07 13:00:00    LOSS -0.00334     0.0  1.66203  1.67539  0.00293\n",
       "2017-06-12 15:00:00    LOSS -0.00300     0.0  1.70055  1.71255  0.00374\n",
       "2017-06-13 08:00:00    LOSS -0.00344     1.0  1.67946  1.69322  0.00305"
      ]
     },
     "metadata": {},
     "output_type": "display_data"
    },
    {
     "data": {
      "text/html": [
       "<h3>GER30Cash</h3>"
      ],
      "text/plain": [
       "<IPython.core.display.HTML object>"
      ]
     },
     "metadata": {},
     "output_type": "display_data"
    },
    {
     "data": {
      "text/html": [
       "<b>Balance: </b> 191.950000 &nbsp;&nbsp;&nbsp;&nbsp; <b>Trades:</b>{'PROFIT': 2, 'LOSS': 1}"
      ],
      "text/plain": [
       "<IPython.core.display.HTML object>"
      ]
     },
     "metadata": {},
     "output_type": "display_data"
    },
    {
     "data": {
      "text/html": [
       "<b>Success rate: </b> 66.67%"
      ],
      "text/plain": [
       "<IPython.core.display.HTML object>"
      ]
     },
     "metadata": {},
     "output_type": "display_data"
    },
    {
     "name": "stdout",
     "output_type": "stream",
     "text": [
      "One month details:\n"
     ]
    },
    {
     "data": {
      "text/html": [
       "<div>\n",
       "<table border=\"1\" class=\"dataframe\">\n",
       "  <thead>\n",
       "    <tr style=\"text-align: right;\">\n",
       "      <th></th>\n",
       "      <th>PL</th>\n",
       "      <th>gv</th>\n",
       "      <th>nswaps</th>\n",
       "      <th>sl</th>\n",
       "      <th>tp</th>\n",
       "      <th>size</th>\n",
       "    </tr>\n",
       "    <tr>\n",
       "      <th>date</th>\n",
       "      <th></th>\n",
       "      <th></th>\n",
       "      <th></th>\n",
       "      <th></th>\n",
       "      <th></th>\n",
       "      <th></th>\n",
       "    </tr>\n",
       "  </thead>\n",
       "  <tbody>\n",
       "    <tr>\n",
       "      <th>2017-02-17 12:00:00</th>\n",
       "      <td>PROFIT</td>\n",
       "      <td>57.63</td>\n",
       "      <td>0.0</td>\n",
       "      <td>11692.19</td>\n",
       "      <td>11769.03</td>\n",
       "      <td>24.1</td>\n",
       "    </tr>\n",
       "    <tr>\n",
       "      <th>2017-03-22 00:00:00</th>\n",
       "      <td>LOSS</td>\n",
       "      <td>-15.71</td>\n",
       "      <td>0.0</td>\n",
       "      <td>11880.79</td>\n",
       "      <td>11943.63</td>\n",
       "      <td>28.6</td>\n",
       "    </tr>\n",
       "    <tr>\n",
       "      <th>2017-06-15 16:00:00</th>\n",
       "      <td>PROFIT</td>\n",
       "      <td>150.03</td>\n",
       "      <td>2.0</td>\n",
       "      <td>12615.99</td>\n",
       "      <td>12816.03</td>\n",
       "      <td>52.3</td>\n",
       "    </tr>\n",
       "  </tbody>\n",
       "</table>\n",
       "</div>"
      ],
      "text/plain": [
       "                         PL      gv  nswaps        sl        tp  size\n",
       "date                                                                 \n",
       "2017-02-17 12:00:00  PROFIT   57.63     0.0  11692.19  11769.03  24.1\n",
       "2017-03-22 00:00:00    LOSS  -15.71     0.0  11880.79  11943.63  28.6\n",
       "2017-06-15 16:00:00  PROFIT  150.03     2.0  12615.99  12816.03  52.3"
      ]
     },
     "metadata": {},
     "output_type": "display_data"
    },
    {
     "data": {
      "text/html": [
       "<h3>GOLD</h3>"
      ],
      "text/plain": [
       "<IPython.core.display.HTML object>"
      ]
     },
     "metadata": {},
     "output_type": "display_data"
    },
    {
     "data": {
      "text/html": [
       "<b>Balance: </b> -21.490000 &nbsp;&nbsp;&nbsp;&nbsp; <b>Trades:</b>{'LOSS': 8}"
      ],
      "text/plain": [
       "<IPython.core.display.HTML object>"
      ]
     },
     "metadata": {},
     "output_type": "display_data"
    },
    {
     "data": {
      "text/html": [
       "<b>Success rate: </b> 0.00%"
      ],
      "text/plain": [
       "<IPython.core.display.HTML object>"
      ]
     },
     "metadata": {},
     "output_type": "display_data"
    },
    {
     "name": "stdout",
     "output_type": "stream",
     "text": [
      "One month details:\n"
     ]
    },
    {
     "data": {
      "text/html": [
       "<div>\n",
       "<table border=\"1\" class=\"dataframe\">\n",
       "  <thead>\n",
       "    <tr style=\"text-align: right;\">\n",
       "      <th></th>\n",
       "      <th>PL</th>\n",
       "      <th>gv</th>\n",
       "      <th>nswaps</th>\n",
       "      <th>sl</th>\n",
       "      <th>tp</th>\n",
       "      <th>size</th>\n",
       "    </tr>\n",
       "    <tr>\n",
       "      <th>date</th>\n",
       "      <th></th>\n",
       "      <th></th>\n",
       "      <th></th>\n",
       "      <th></th>\n",
       "      <th></th>\n",
       "      <th></th>\n",
       "    </tr>\n",
       "  </thead>\n",
       "  <tbody>\n",
       "    <tr>\n",
       "      <th>2017-02-10 02:00:00</th>\n",
       "      <td>LOSS</td>\n",
       "      <td>-2.39</td>\n",
       "      <td>0.0</td>\n",
       "      <td>1223.53</td>\n",
       "      <td>1233.09</td>\n",
       "      <td>3.18</td>\n",
       "    </tr>\n",
       "    <tr>\n",
       "      <th>2017-03-02 16:00:00</th>\n",
       "      <td>LOSS</td>\n",
       "      <td>-2.47</td>\n",
       "      <td>0.0</td>\n",
       "      <td>1235.52</td>\n",
       "      <td>1245.40</td>\n",
       "      <td>4.13</td>\n",
       "    </tr>\n",
       "    <tr>\n",
       "      <th>2017-03-08 16:00:00</th>\n",
       "      <td>LOSS</td>\n",
       "      <td>-3.48</td>\n",
       "      <td>1.0</td>\n",
       "      <td>1206.53</td>\n",
       "      <td>1220.45</td>\n",
       "      <td>3.46</td>\n",
       "    </tr>\n",
       "    <tr>\n",
       "      <th>2017-04-25 21:00:00</th>\n",
       "      <td>LOSS</td>\n",
       "      <td>-1.96</td>\n",
       "      <td>0.0</td>\n",
       "      <td>1262.64</td>\n",
       "      <td>1270.48</td>\n",
       "      <td>2.33</td>\n",
       "    </tr>\n",
       "    <tr>\n",
       "      <th>2017-04-25 22:00:00</th>\n",
       "      <td>LOSS</td>\n",
       "      <td>-1.87</td>\n",
       "      <td>1.0</td>\n",
       "      <td>1262.20</td>\n",
       "      <td>1269.68</td>\n",
       "      <td>2.24</td>\n",
       "    </tr>\n",
       "    <tr>\n",
       "      <th>2017-05-01 20:00:00</th>\n",
       "      <td>LOSS</td>\n",
       "      <td>-1.63</td>\n",
       "      <td>1.0</td>\n",
       "      <td>1254.08</td>\n",
       "      <td>1260.60</td>\n",
       "      <td>2.29</td>\n",
       "    </tr>\n",
       "    <tr>\n",
       "      <th>2017-05-03 17:00:00</th>\n",
       "      <td>LOSS</td>\n",
       "      <td>-4.83</td>\n",
       "      <td>0.0</td>\n",
       "      <td>1245.18</td>\n",
       "      <td>1264.50</td>\n",
       "      <td>6.27</td>\n",
       "    </tr>\n",
       "    <tr>\n",
       "      <th>2017-05-04 10:00:00</th>\n",
       "      <td>LOSS</td>\n",
       "      <td>-2.86</td>\n",
       "      <td>0.0</td>\n",
       "      <td>1233.61</td>\n",
       "      <td>1245.05</td>\n",
       "      <td>2.44</td>\n",
       "    </tr>\n",
       "  </tbody>\n",
       "</table>\n",
       "</div>"
      ],
      "text/plain": [
       "                       PL    gv  nswaps       sl       tp  size\n",
       "date                                                           \n",
       "2017-02-10 02:00:00  LOSS -2.39     0.0  1223.53  1233.09  3.18\n",
       "2017-03-02 16:00:00  LOSS -2.47     0.0  1235.52  1245.40  4.13\n",
       "2017-03-08 16:00:00  LOSS -3.48     1.0  1206.53  1220.45  3.46\n",
       "2017-04-25 21:00:00  LOSS -1.96     0.0  1262.64  1270.48  2.33\n",
       "2017-04-25 22:00:00  LOSS -1.87     1.0  1262.20  1269.68  2.24\n",
       "2017-05-01 20:00:00  LOSS -1.63     1.0  1254.08  1260.60  2.29\n",
       "2017-05-03 17:00:00  LOSS -4.83     0.0  1245.18  1264.50  6.27\n",
       "2017-05-04 10:00:00  LOSS -2.86     0.0  1233.61  1245.05  2.44"
      ]
     },
     "metadata": {},
     "output_type": "display_data"
    },
    {
     "data": {
      "text/html": [
       "<h3>POL20Cash</h3>"
      ],
      "text/plain": [
       "<IPython.core.display.HTML object>"
      ]
     },
     "metadata": {},
     "output_type": "display_data"
    },
    {
     "data": {
      "text/html": [
       "<b>Balance: </b> 0.000000 &nbsp;&nbsp;&nbsp;&nbsp; <b>Trades:</b>{}"
      ],
      "text/plain": [
       "<IPython.core.display.HTML object>"
      ]
     },
     "metadata": {},
     "output_type": "display_data"
    },
    {
     "data": {
      "text/html": [
       "<b>Success rate: </b> 0.00%"
      ],
      "text/plain": [
       "<IPython.core.display.HTML object>"
      ]
     },
     "metadata": {},
     "output_type": "display_data"
    },
    {
     "name": "stdout",
     "output_type": "stream",
     "text": [
      "One month details:\n"
     ]
    },
    {
     "data": {
      "text/html": [
       "<div>\n",
       "<table border=\"1\" class=\"dataframe\">\n",
       "  <thead>\n",
       "    <tr style=\"text-align: right;\">\n",
       "      <th></th>\n",
       "      <th>PL</th>\n",
       "      <th>gv</th>\n",
       "      <th>nswaps</th>\n",
       "      <th>sl</th>\n",
       "      <th>tp</th>\n",
       "      <th>size</th>\n",
       "    </tr>\n",
       "    <tr>\n",
       "      <th>date</th>\n",
       "      <th></th>\n",
       "      <th></th>\n",
       "      <th></th>\n",
       "      <th></th>\n",
       "      <th></th>\n",
       "      <th></th>\n",
       "    </tr>\n",
       "  </thead>\n",
       "  <tbody>\n",
       "  </tbody>\n",
       "</table>\n",
       "</div>"
      ],
      "text/plain": [
       "Empty DataFrame\n",
       "Columns: [PL, gv, nswaps, sl, tp, size]\n",
       "Index: []"
      ]
     },
     "metadata": {},
     "output_type": "display_data"
    },
    {
     "data": {
      "text/html": [
       "<h3>SILVER</h3>"
      ],
      "text/plain": [
       "<IPython.core.display.HTML object>"
      ]
     },
     "metadata": {},
     "output_type": "display_data"
    },
    {
     "data": {
      "text/html": [
       "<b>Balance: </b> -0.392000 &nbsp;&nbsp;&nbsp;&nbsp; <b>Trades:</b>{'PROFIT': 1, 'LOSS': 6}"
      ],
      "text/plain": [
       "<IPython.core.display.HTML object>"
      ]
     },
     "metadata": {},
     "output_type": "display_data"
    },
    {
     "data": {
      "text/html": [
       "<b>Success rate: </b> 14.29%"
      ],
      "text/plain": [
       "<IPython.core.display.HTML object>"
      ]
     },
     "metadata": {},
     "output_type": "display_data"
    },
    {
     "name": "stdout",
     "output_type": "stream",
     "text": [
      "One month details:\n"
     ]
    },
    {
     "data": {
      "text/html": [
       "<div>\n",
       "<table border=\"1\" class=\"dataframe\">\n",
       "  <thead>\n",
       "    <tr style=\"text-align: right;\">\n",
       "      <th></th>\n",
       "      <th>PL</th>\n",
       "      <th>gv</th>\n",
       "      <th>nswaps</th>\n",
       "      <th>sl</th>\n",
       "      <th>tp</th>\n",
       "      <th>size</th>\n",
       "    </tr>\n",
       "    <tr>\n",
       "      <th>date</th>\n",
       "      <th></th>\n",
       "      <th></th>\n",
       "      <th></th>\n",
       "      <th></th>\n",
       "      <th></th>\n",
       "      <th></th>\n",
       "    </tr>\n",
       "  </thead>\n",
       "  <tbody>\n",
       "    <tr>\n",
       "      <th>2017-03-09 08:00:00</th>\n",
       "      <td>LOSS</td>\n",
       "      <td>-0.089</td>\n",
       "      <td>0.0</td>\n",
       "      <td>17.126</td>\n",
       "      <td>17.482</td>\n",
       "      <td>0.058</td>\n",
       "    </tr>\n",
       "    <tr>\n",
       "      <th>2017-04-10 03:00:00</th>\n",
       "      <td>LOSS</td>\n",
       "      <td>-0.075</td>\n",
       "      <td>0.0</td>\n",
       "      <td>17.933</td>\n",
       "      <td>18.233</td>\n",
       "      <td>0.054</td>\n",
       "    </tr>\n",
       "    <tr>\n",
       "      <th>2017-04-10 15:00:00</th>\n",
       "      <td>LOSS</td>\n",
       "      <td>-0.097</td>\n",
       "      <td>0.0</td>\n",
       "      <td>17.794</td>\n",
       "      <td>18.182</td>\n",
       "      <td>0.070</td>\n",
       "    </tr>\n",
       "    <tr>\n",
       "      <th>2017-04-26 20:00:00</th>\n",
       "      <td>LOSS</td>\n",
       "      <td>-0.172</td>\n",
       "      <td>1.0</td>\n",
       "      <td>17.298</td>\n",
       "      <td>17.986</td>\n",
       "      <td>0.133</td>\n",
       "    </tr>\n",
       "    <tr>\n",
       "      <th>2017-05-03 15:00:00</th>\n",
       "      <td>LOSS</td>\n",
       "      <td>-0.143</td>\n",
       "      <td>0.0</td>\n",
       "      <td>16.627</td>\n",
       "      <td>17.199</td>\n",
       "      <td>0.159</td>\n",
       "    </tr>\n",
       "    <tr>\n",
       "      <th>2017-05-09 20:00:00</th>\n",
       "      <td>PROFIT</td>\n",
       "      <td>0.315</td>\n",
       "      <td>3.0</td>\n",
       "      <td>16.041</td>\n",
       "      <td>16.461</td>\n",
       "      <td>0.065</td>\n",
       "    </tr>\n",
       "    <tr>\n",
       "      <th>2017-06-01 13:00:00</th>\n",
       "      <td>LOSS</td>\n",
       "      <td>-0.131</td>\n",
       "      <td>0.0</td>\n",
       "      <td>17.031</td>\n",
       "      <td>17.555</td>\n",
       "      <td>0.126</td>\n",
       "    </tr>\n",
       "  </tbody>\n",
       "</table>\n",
       "</div>"
      ],
      "text/plain": [
       "                         PL     gv  nswaps      sl      tp   size\n",
       "date                                                             \n",
       "2017-03-09 08:00:00    LOSS -0.089     0.0  17.126  17.482  0.058\n",
       "2017-04-10 03:00:00    LOSS -0.075     0.0  17.933  18.233  0.054\n",
       "2017-04-10 15:00:00    LOSS -0.097     0.0  17.794  18.182  0.070\n",
       "2017-04-26 20:00:00    LOSS -0.172     1.0  17.298  17.986  0.133\n",
       "2017-05-03 15:00:00    LOSS -0.143     0.0  16.627  17.199  0.159\n",
       "2017-05-09 20:00:00  PROFIT  0.315     3.0  16.041  16.461  0.065\n",
       "2017-06-01 13:00:00    LOSS -0.131     0.0  17.031  17.555  0.126"
      ]
     },
     "metadata": {},
     "output_type": "display_data"
    },
    {
     "data": {
      "text/html": [
       "<h3>SUGAR-JUL17</h3>"
      ],
      "text/plain": [
       "<IPython.core.display.HTML object>"
      ]
     },
     "metadata": {},
     "output_type": "display_data"
    },
    {
     "data": {
      "text/html": [
       "<b>Balance: </b> -0.008700 &nbsp;&nbsp;&nbsp;&nbsp; <b>Trades:</b>{'LOSS': 4}"
      ],
      "text/plain": [
       "<IPython.core.display.HTML object>"
      ]
     },
     "metadata": {},
     "output_type": "display_data"
    },
    {
     "data": {
      "text/html": [
       "<b>Success rate: </b> 0.00%"
      ],
      "text/plain": [
       "<IPython.core.display.HTML object>"
      ]
     },
     "metadata": {},
     "output_type": "display_data"
    },
    {
     "name": "stdout",
     "output_type": "stream",
     "text": [
      "One month details:\n"
     ]
    },
    {
     "data": {
      "text/html": [
       "<div>\n",
       "<table border=\"1\" class=\"dataframe\">\n",
       "  <thead>\n",
       "    <tr style=\"text-align: right;\">\n",
       "      <th></th>\n",
       "      <th>PL</th>\n",
       "      <th>gv</th>\n",
       "      <th>nswaps</th>\n",
       "      <th>sl</th>\n",
       "      <th>tp</th>\n",
       "      <th>size</th>\n",
       "    </tr>\n",
       "    <tr>\n",
       "      <th>date</th>\n",
       "      <th></th>\n",
       "      <th></th>\n",
       "      <th></th>\n",
       "      <th></th>\n",
       "      <th></th>\n",
       "      <th></th>\n",
       "    </tr>\n",
       "  </thead>\n",
       "  <tbody>\n",
       "    <tr>\n",
       "      <th>2017-02-27 19:30:00</th>\n",
       "      <td>LOSS</td>\n",
       "      <td>-0.0022</td>\n",
       "      <td>6.0</td>\n",
       "      <td>0.1905</td>\n",
       "      <td>0.1993</td>\n",
       "      <td>0.0012</td>\n",
       "    </tr>\n",
       "    <tr>\n",
       "      <th>2017-03-07 16:30:00</th>\n",
       "      <td>LOSS</td>\n",
       "      <td>-0.0021</td>\n",
       "      <td>0.0</td>\n",
       "      <td>0.1838</td>\n",
       "      <td>0.1922</td>\n",
       "      <td>0.0017</td>\n",
       "    </tr>\n",
       "    <tr>\n",
       "      <th>2017-03-07 18:30:00</th>\n",
       "      <td>LOSS</td>\n",
       "      <td>-0.0023</td>\n",
       "      <td>0.0</td>\n",
       "      <td>0.1835</td>\n",
       "      <td>0.1927</td>\n",
       "      <td>0.0015</td>\n",
       "    </tr>\n",
       "    <tr>\n",
       "      <th>2017-03-30 10:30:00</th>\n",
       "      <td>LOSS</td>\n",
       "      <td>-0.0021</td>\n",
       "      <td>0.0</td>\n",
       "      <td>0.1678</td>\n",
       "      <td>0.1762</td>\n",
       "      <td>0.0021</td>\n",
       "    </tr>\n",
       "  </tbody>\n",
       "</table>\n",
       "</div>"
      ],
      "text/plain": [
       "                       PL      gv  nswaps      sl      tp    size\n",
       "date                                                             \n",
       "2017-02-27 19:30:00  LOSS -0.0022     6.0  0.1905  0.1993  0.0012\n",
       "2017-03-07 16:30:00  LOSS -0.0021     0.0  0.1838  0.1922  0.0017\n",
       "2017-03-07 18:30:00  LOSS -0.0023     0.0  0.1835  0.1927  0.0015\n",
       "2017-03-30 10:30:00  LOSS -0.0021     0.0  0.1678  0.1762  0.0021"
      ]
     },
     "metadata": {},
     "output_type": "display_data"
    },
    {
     "data": {
      "text/html": [
       "<h3>US30Cash</h3>"
      ],
      "text/plain": [
       "<IPython.core.display.HTML object>"
      ]
     },
     "metadata": {},
     "output_type": "display_data"
    },
    {
     "data": {
      "text/html": [
       "<b>Balance: </b> 21.810000 &nbsp;&nbsp;&nbsp;&nbsp; <b>Trades:</b>{'PROFIT': 1, 'LOSS': 2}"
      ],
      "text/plain": [
       "<IPython.core.display.HTML object>"
      ]
     },
     "metadata": {},
     "output_type": "display_data"
    },
    {
     "data": {
      "text/html": [
       "<b>Success rate: </b> 33.33%"
      ],
      "text/plain": [
       "<IPython.core.display.HTML object>"
      ]
     },
     "metadata": {},
     "output_type": "display_data"
    },
    {
     "name": "stdout",
     "output_type": "stream",
     "text": [
      "One month details:\n"
     ]
    },
    {
     "data": {
      "text/html": [
       "<div>\n",
       "<table border=\"1\" class=\"dataframe\">\n",
       "  <thead>\n",
       "    <tr style=\"text-align: right;\">\n",
       "      <th></th>\n",
       "      <th>PL</th>\n",
       "      <th>gv</th>\n",
       "      <th>nswaps</th>\n",
       "      <th>sl</th>\n",
       "      <th>tp</th>\n",
       "      <th>size</th>\n",
       "    </tr>\n",
       "    <tr>\n",
       "      <th>date</th>\n",
       "      <th></th>\n",
       "      <th></th>\n",
       "      <th></th>\n",
       "      <th></th>\n",
       "      <th></th>\n",
       "      <th></th>\n",
       "    </tr>\n",
       "  </thead>\n",
       "  <tbody>\n",
       "    <tr>\n",
       "      <th>2017-03-21 17:00:00</th>\n",
       "      <td>LOSS</td>\n",
       "      <td>-63.31</td>\n",
       "      <td>0.0</td>\n",
       "      <td>20702.99</td>\n",
       "      <td>20956.23</td>\n",
       "      <td>92.0</td>\n",
       "    </tr>\n",
       "    <tr>\n",
       "      <th>2017-05-11 17:00:00</th>\n",
       "      <td>PROFIT</td>\n",
       "      <td>117.93</td>\n",
       "      <td>2.0</td>\n",
       "      <td>20795.59</td>\n",
       "      <td>20952.83</td>\n",
       "      <td>39.0</td>\n",
       "    </tr>\n",
       "    <tr>\n",
       "      <th>2017-05-17 03:00:00</th>\n",
       "      <td>LOSS</td>\n",
       "      <td>-32.81</td>\n",
       "      <td>0.0</td>\n",
       "      <td>20818.89</td>\n",
       "      <td>20950.13</td>\n",
       "      <td>60.0</td>\n",
       "    </tr>\n",
       "  </tbody>\n",
       "</table>\n",
       "</div>"
      ],
      "text/plain": [
       "                         PL      gv  nswaps        sl        tp  size\n",
       "date                                                                 \n",
       "2017-03-21 17:00:00    LOSS  -63.31     0.0  20702.99  20956.23  92.0\n",
       "2017-05-11 17:00:00  PROFIT  117.93     2.0  20795.59  20952.83  39.0\n",
       "2017-05-17 03:00:00    LOSS  -32.81     0.0  20818.89  20950.13  60.0"
      ]
     },
     "metadata": {},
     "output_type": "display_data"
    },
    {
     "data": {
      "text/html": [
       "<h3>USDCAD</h3>"
      ],
      "text/plain": [
       "<IPython.core.display.HTML object>"
      ]
     },
     "metadata": {},
     "output_type": "display_data"
    },
    {
     "data": {
      "text/html": [
       "<b>Balance: </b> 0.023110 &nbsp;&nbsp;&nbsp;&nbsp; <b>Trades:</b>{'PROFIT': 4, 'LOSS': 1}"
      ],
      "text/plain": [
       "<IPython.core.display.HTML object>"
      ]
     },
     "metadata": {},
     "output_type": "display_data"
    },
    {
     "data": {
      "text/html": [
       "<b>Success rate: </b> 80.00%"
      ],
      "text/plain": [
       "<IPython.core.display.HTML object>"
      ]
     },
     "metadata": {},
     "output_type": "display_data"
    },
    {
     "name": "stdout",
     "output_type": "stream",
     "text": [
      "One month details:\n"
     ]
    },
    {
     "data": {
      "text/html": [
       "<div>\n",
       "<table border=\"1\" class=\"dataframe\">\n",
       "  <thead>\n",
       "    <tr style=\"text-align: right;\">\n",
       "      <th></th>\n",
       "      <th>PL</th>\n",
       "      <th>gv</th>\n",
       "      <th>nswaps</th>\n",
       "      <th>sl</th>\n",
       "      <th>tp</th>\n",
       "      <th>size</th>\n",
       "    </tr>\n",
       "    <tr>\n",
       "      <th>date</th>\n",
       "      <th></th>\n",
       "      <th></th>\n",
       "      <th></th>\n",
       "      <th></th>\n",
       "      <th></th>\n",
       "      <th></th>\n",
       "    </tr>\n",
       "  </thead>\n",
       "  <tbody>\n",
       "    <tr>\n",
       "      <th>2017-03-16 02:00:00</th>\n",
       "      <td>LOSS</td>\n",
       "      <td>-0.00110</td>\n",
       "      <td>0.0</td>\n",
       "      <td>1.32821</td>\n",
       "      <td>1.33261</td>\n",
       "      <td>0.00136</td>\n",
       "    </tr>\n",
       "    <tr>\n",
       "      <th>2017-03-16 09:00:00</th>\n",
       "      <td>PROFIT</td>\n",
       "      <td>0.00732</td>\n",
       "      <td>1.0</td>\n",
       "      <td>1.32754</td>\n",
       "      <td>1.33730</td>\n",
       "      <td>0.00264</td>\n",
       "    </tr>\n",
       "    <tr>\n",
       "      <th>2017-03-21 15:00:00</th>\n",
       "      <td>PROFIT</td>\n",
       "      <td>0.00558</td>\n",
       "      <td>0.0</td>\n",
       "      <td>1.32629</td>\n",
       "      <td>1.33373</td>\n",
       "      <td>0.00239</td>\n",
       "    </tr>\n",
       "    <tr>\n",
       "      <th>2017-04-24 13:00:00</th>\n",
       "      <td>PROFIT</td>\n",
       "      <td>0.00498</td>\n",
       "      <td>0.0</td>\n",
       "      <td>1.34098</td>\n",
       "      <td>1.34762</td>\n",
       "      <td>0.00221</td>\n",
       "    </tr>\n",
       "    <tr>\n",
       "      <th>2017-06-22 17:00:00</th>\n",
       "      <td>PROFIT</td>\n",
       "      <td>0.00633</td>\n",
       "      <td>1.0</td>\n",
       "      <td>1.32072</td>\n",
       "      <td>1.32916</td>\n",
       "      <td>0.00295</td>\n",
       "    </tr>\n",
       "  </tbody>\n",
       "</table>\n",
       "</div>"
      ],
      "text/plain": [
       "                         PL       gv  nswaps       sl       tp     size\n",
       "date                                                                   \n",
       "2017-03-16 02:00:00    LOSS -0.00110     0.0  1.32821  1.33261  0.00136\n",
       "2017-03-16 09:00:00  PROFIT  0.00732     1.0  1.32754  1.33730  0.00264\n",
       "2017-03-21 15:00:00  PROFIT  0.00558     0.0  1.32629  1.33373  0.00239\n",
       "2017-04-24 13:00:00  PROFIT  0.00498     0.0  1.34098  1.34762  0.00221\n",
       "2017-06-22 17:00:00  PROFIT  0.00633     1.0  1.32072  1.32916  0.00295"
      ]
     },
     "metadata": {},
     "output_type": "display_data"
    },
    {
     "data": {
      "text/html": [
       "<h3>USDCHF</h3>"
      ],
      "text/plain": [
       "<IPython.core.display.HTML object>"
      ]
     },
     "metadata": {},
     "output_type": "display_data"
    },
    {
     "data": {
      "text/html": [
       "<b>Balance: </b> 0.002710 &nbsp;&nbsp;&nbsp;&nbsp; <b>Trades:</b>{'PROFIT': 2, 'LOSS': 7}"
      ],
      "text/plain": [
       "<IPython.core.display.HTML object>"
      ]
     },
     "metadata": {},
     "output_type": "display_data"
    },
    {
     "data": {
      "text/html": [
       "<b>Success rate: </b> 22.22%"
      ],
      "text/plain": [
       "<IPython.core.display.HTML object>"
      ]
     },
     "metadata": {},
     "output_type": "display_data"
    },
    {
     "name": "stdout",
     "output_type": "stream",
     "text": [
      "One month details:\n"
     ]
    },
    {
     "data": {
      "text/html": [
       "<div>\n",
       "<table border=\"1\" class=\"dataframe\">\n",
       "  <thead>\n",
       "    <tr style=\"text-align: right;\">\n",
       "      <th></th>\n",
       "      <th>PL</th>\n",
       "      <th>gv</th>\n",
       "      <th>nswaps</th>\n",
       "      <th>sl</th>\n",
       "      <th>tp</th>\n",
       "      <th>size</th>\n",
       "    </tr>\n",
       "    <tr>\n",
       "      <th>date</th>\n",
       "      <th></th>\n",
       "      <th></th>\n",
       "      <th></th>\n",
       "      <th></th>\n",
       "      <th></th>\n",
       "      <th></th>\n",
       "    </tr>\n",
       "  </thead>\n",
       "  <tbody>\n",
       "    <tr>\n",
       "      <th>2017-03-16 02:00:00</th>\n",
       "      <td>LOSS</td>\n",
       "      <td>-0.00114</td>\n",
       "      <td>0.0</td>\n",
       "      <td>0.99834</td>\n",
       "      <td>1.00290</td>\n",
       "      <td>0.00167</td>\n",
       "    </tr>\n",
       "    <tr>\n",
       "      <th>2017-03-16 08:00:00</th>\n",
       "      <td>LOSS</td>\n",
       "      <td>-0.00111</td>\n",
       "      <td>0.0</td>\n",
       "      <td>0.99810</td>\n",
       "      <td>1.00254</td>\n",
       "      <td>0.00142</td>\n",
       "    </tr>\n",
       "    <tr>\n",
       "      <th>2017-03-27 10:00:00</th>\n",
       "      <td>LOSS</td>\n",
       "      <td>-0.00188</td>\n",
       "      <td>0.0</td>\n",
       "      <td>0.98350</td>\n",
       "      <td>0.99102</td>\n",
       "      <td>0.00167</td>\n",
       "    </tr>\n",
       "    <tr>\n",
       "      <th>2017-03-27 11:00:00</th>\n",
       "      <td>LOSS</td>\n",
       "      <td>-0.00131</td>\n",
       "      <td>0.0</td>\n",
       "      <td>0.98418</td>\n",
       "      <td>0.98942</td>\n",
       "      <td>0.00122</td>\n",
       "    </tr>\n",
       "    <tr>\n",
       "      <th>2017-03-27 16:00:00</th>\n",
       "      <td>PROFIT</td>\n",
       "      <td>0.00639</td>\n",
       "      <td>1.0</td>\n",
       "      <td>0.98125</td>\n",
       "      <td>0.98977</td>\n",
       "      <td>0.00211</td>\n",
       "    </tr>\n",
       "    <tr>\n",
       "      <th>2017-05-16 14:00:00</th>\n",
       "      <td>LOSS</td>\n",
       "      <td>-0.00202</td>\n",
       "      <td>0.0</td>\n",
       "      <td>0.98908</td>\n",
       "      <td>0.99716</td>\n",
       "      <td>0.00196</td>\n",
       "    </tr>\n",
       "    <tr>\n",
       "      <th>2017-05-17 17:00:00</th>\n",
       "      <td>LOSS</td>\n",
       "      <td>-0.00164</td>\n",
       "      <td>1.0</td>\n",
       "      <td>0.97735</td>\n",
       "      <td>0.98391</td>\n",
       "      <td>0.00260</td>\n",
       "    </tr>\n",
       "    <tr>\n",
       "      <th>2017-05-31 14:00:00</th>\n",
       "      <td>LOSS</td>\n",
       "      <td>-0.00127</td>\n",
       "      <td>0.0</td>\n",
       "      <td>0.96998</td>\n",
       "      <td>0.97506</td>\n",
       "      <td>0.00123</td>\n",
       "    </tr>\n",
       "    <tr>\n",
       "      <th>2017-06-05 00:00:00</th>\n",
       "      <td>PROFIT</td>\n",
       "      <td>0.00669</td>\n",
       "      <td>4.0</td>\n",
       "      <td>0.96090</td>\n",
       "      <td>0.96982</td>\n",
       "      <td>0.00241</td>\n",
       "    </tr>\n",
       "  </tbody>\n",
       "</table>\n",
       "</div>"
      ],
      "text/plain": [
       "                         PL       gv  nswaps       sl       tp     size\n",
       "date                                                                   \n",
       "2017-03-16 02:00:00    LOSS -0.00114     0.0  0.99834  1.00290  0.00167\n",
       "2017-03-16 08:00:00    LOSS -0.00111     0.0  0.99810  1.00254  0.00142\n",
       "2017-03-27 10:00:00    LOSS -0.00188     0.0  0.98350  0.99102  0.00167\n",
       "2017-03-27 11:00:00    LOSS -0.00131     0.0  0.98418  0.98942  0.00122\n",
       "2017-03-27 16:00:00  PROFIT  0.00639     1.0  0.98125  0.98977  0.00211\n",
       "2017-05-16 14:00:00    LOSS -0.00202     0.0  0.98908  0.99716  0.00196\n",
       "2017-05-17 17:00:00    LOSS -0.00164     1.0  0.97735  0.98391  0.00260\n",
       "2017-05-31 14:00:00    LOSS -0.00127     0.0  0.96998  0.97506  0.00123\n",
       "2017-06-05 00:00:00  PROFIT  0.00669     4.0  0.96090  0.96982  0.00241"
      ]
     },
     "metadata": {},
     "output_type": "display_data"
    }
   ],
   "source": [
    "for iname in sorted(INSTRUMENTS.keys()):\n",
    "    inst = INSTRUMENTS[iname]\n",
    "    if inst.results is not None:\n",
    "        display(HTML('<h3>%s</h3>' % iname))\n",
    "        display(HTML('<b>Balance: </b> %f &nbsp;&nbsp;&nbsp;&nbsp; <b>Trades:</b>%s' % (inst.balance, inst.stats)))\n",
    "        display(HTML('<b>Success rate: </b> %.2f%%' % (100. * inst.success_rate)))\n",
    "        print(\"One month details:\")\n",
    "        #display(inst.results['2017/06/01':])        \n",
    "        display(inst.results[:])        "
   ]
  },
  {
   "cell_type": "markdown",
   "metadata": {},
   "source": [
    "<a id=\"eksperyment3summary\"></a>\n",
    "### Podsumowanie zbiorcze - Młotki"
   ]
  },
  {
   "cell_type": "code",
   "execution_count": 74,
   "metadata": {
    "scrolled": false
   },
   "outputs": [
    {
     "name": "stdout",
     "output_type": "stream",
     "text": [
      "     AUDCAD   0.0081\n",
      "     AUDCHF   -0.00605\n",
      "     AUDJPY   -0.38\n",
      "     AUDNZD   -0.00362\n",
      "BRENT-AUG17   0.06\n",
      "     CADJPY   -1.073\n",
      "COCOA-SEP17   201\n",
      "     EURAUD   -0.00482\n",
      "     EURCHF   0\n",
      "     EURDKK   -0.00685\n",
      "     EURHKD   0.16509\n",
      "     EURNOK   -0.11195\n",
      "     EURPLN   0.05562\n",
      "     EURRUB   -0.6083\n",
      "     EURSEK   0.04911\n",
      "     EURUSD   -0.00557\n",
      "     GBPCAD   -0.01158\n",
      "  GER30Cash   191.95\n",
      "       GOLD   -21.49\n",
      "  POL20Cash   0\n",
      "     SILVER   -0.392\n",
      "SUGAR-JUL17   -0.0087\n",
      "   US30Cash   21.81\n",
      "     USDCAD   0.02311\n",
      "     USDCHF   0.00271\n",
      "\n",
      "10/25 (40.00%)\n",
      "\n",
      "24 107\n"
     ]
    }
   ],
   "source": [
    "posivite_instruments = 0\n",
    "for iname in sorted(INSTRUMENTS.keys()):\n",
    "    print('%11s   %g' % (iname, INSTRUMENTS[iname].balance))\n",
    "    if INSTRUMENTS[iname].balance > 0:\n",
    "        posivite_instruments += 1\n",
    "print()\n",
    "print(\"%d/%d (%.2f%%)\" % (posivite_instruments, len(INSTRUMENTS),  100. * posivite_instruments / len(INSTRUMENTS)))\n",
    "print()\n",
    "\n",
    "total_nloss = 0\n",
    "total_nprofit = 0\n",
    "for iname in sorted(INSTRUMENTS.keys()):\n",
    "    total_nloss += INSTRUMENTS[iname].stats.get('LOSS', 0)\n",
    "    total_nprofit += INSTRUMENTS[iname].stats.get('PROFIT', 0)\n",
    "    #print(iname, str(INSTRUMENTS[iname].stats))\n",
    "    #if INSTRUMENTS[iname].balance > 0:\n",
    "    #    posivite_instruments += 1\n",
    "print(\"%d %d\" % (total_nprofit, total_nprofit + total_nloss))"
   ]
  },
  {
   "cell_type": "markdown",
   "metadata": {},
   "source": [
    "<a id='eksperyment4'></a>\n",
    "## Eksperyment 4) Analiza zbiorcza dla wszystkich walorów - Spadające gwiazdy"
   ]
  },
  {
   "cell_type": "code",
   "execution_count": 59,
   "metadata": {},
   "outputs": [
    {
     "name": "stdout",
     "output_type": "stream",
     "text": [
      "AUDCAD\n",
      "AUDCHF\n",
      "AUDJPY\n",
      "AUDNZD\n",
      "BRENT-AUG17\n",
      "CADJPY\n",
      "COCOA-SEP17\n",
      "EURAUD\n",
      "EURCHF\n",
      "EURDKK\n",
      "EURHKD\n",
      "EURNOK\n",
      "EURPLN\n",
      "EURRUB\n",
      "EURSEK\n",
      "EURUSD\n",
      "GBPCAD\n",
      "GER30Cash\n",
      "GOLD\n",
      "POL20Cash\n",
      "SILVER\n",
      "SUGAR-JUL17\n",
      "US30Cash\n",
      "USDCAD\n",
      "USDCHF\n",
      "CPU times: user 24.3 s, sys: 5.59 ms, total: 24.3 s\n",
      "Wall time: 24.3 s\n"
     ]
    }
   ],
   "source": [
    "%%time\n",
    "\n",
    "for iname in sorted(INSTRUMENTS.keys()):\n",
    "    print(iname)\n",
    "    inst = INSTRUMENTS[iname]\n",
    "    inst.results = pd.DataFrame( columns = range(7) )\n",
    "\n",
    "    stats = {}\n",
    "    balance = 0.\n",
    "    for idx, row in inst.data['2017/01/01':].iterrows():  # XXX Month\n",
    "        if jestSpadajacaGwiazda(row) and zasada1120(inst,idx) and inst.rsi[idx] >= 70: # XXX jestMlotek\n",
    "            res = sprawdz(inst, idx, 'sell') # XXX buy/sell\n",
    "            if not res or type(res) == str:\n",
    "                continue        \n",
    "            inst.results = inst.results.append([ (idx,) + res ])\n",
    "            if type(res) == tuple:\n",
    "                balance += res[1] # XXX tu ewentualnie uwzgledniac swap * nswaps\n",
    "                if res[0] not in stats:\n",
    "                    stats[res[0]] = 0\n",
    "                stats[res[0]] += 1\n",
    "    inst.results.columns = ['date', 'PL', 'gv', 'nswaps', 'sl', 'tp', 'size']\n",
    "    inst.results.set_index('date', inplace=True)\n",
    "    inst.balance = balance\n",
    "    inst.stats = stats\n",
    "    inst.success_rate = 0\n",
    "    if 'PROFIT' in stats:\n",
    "        inst.success_rate = stats['PROFIT']/ sum(stats.values())"
   ]
  },
  {
   "cell_type": "code",
   "execution_count": 63,
   "metadata": {
    "scrolled": false
   },
   "outputs": [
    {
     "data": {
      "text/html": [
       "<h3>AUDCAD</h3>"
      ],
      "text/plain": [
       "<IPython.core.display.HTML object>"
      ]
     },
     "metadata": {},
     "output_type": "display_data"
    },
    {
     "data": {
      "text/html": [
       "<b>Balance: </b> -0.004540 &nbsp;&nbsp;&nbsp;&nbsp; <b>Trades:</b>{'PROFIT': 1, 'LOSS': 4}"
      ],
      "text/plain": [
       "<IPython.core.display.HTML object>"
      ]
     },
     "metadata": {},
     "output_type": "display_data"
    },
    {
     "data": {
      "text/html": [
       "<b>Success rate: </b> 20.00%"
      ],
      "text/plain": [
       "<IPython.core.display.HTML object>"
      ]
     },
     "metadata": {},
     "output_type": "display_data"
    },
    {
     "name": "stdout",
     "output_type": "stream",
     "text": [
      "One month details:\n"
     ]
    },
    {
     "data": {
      "text/html": [
       "<div>\n",
       "<table border=\"1\" class=\"dataframe\">\n",
       "  <thead>\n",
       "    <tr style=\"text-align: right;\">\n",
       "      <th></th>\n",
       "      <th>PL</th>\n",
       "      <th>gv</th>\n",
       "      <th>nswaps</th>\n",
       "      <th>sl</th>\n",
       "      <th>tp</th>\n",
       "      <th>size</th>\n",
       "    </tr>\n",
       "    <tr>\n",
       "      <th>date</th>\n",
       "      <th></th>\n",
       "      <th></th>\n",
       "      <th></th>\n",
       "      <th></th>\n",
       "      <th></th>\n",
       "      <th></th>\n",
       "    </tr>\n",
       "  </thead>\n",
       "  <tbody>\n",
       "    <tr>\n",
       "      <th>2017-03-01 04:00:00</th>\n",
       "      <td>LOSS</td>\n",
       "      <td>-0.00322</td>\n",
       "      <td>0.0</td>\n",
       "      <td>1.02315</td>\n",
       "      <td>1.01027</td>\n",
       "      <td>0.00306</td>\n",
       "    </tr>\n",
       "    <tr>\n",
       "      <th>2017-05-01 14:00:00</th>\n",
       "      <td>LOSS</td>\n",
       "      <td>-0.00184</td>\n",
       "      <td>0.0</td>\n",
       "      <td>1.02830</td>\n",
       "      <td>1.02094</td>\n",
       "      <td>0.00161</td>\n",
       "    </tr>\n",
       "    <tr>\n",
       "      <th>2017-05-01 15:00:00</th>\n",
       "      <td>LOSS</td>\n",
       "      <td>-0.00176</td>\n",
       "      <td>0.0</td>\n",
       "      <td>1.02903</td>\n",
       "      <td>1.02199</td>\n",
       "      <td>0.00194</td>\n",
       "    </tr>\n",
       "    <tr>\n",
       "      <th>2017-05-01 17:00:00</th>\n",
       "      <td>LOSS</td>\n",
       "      <td>-0.00228</td>\n",
       "      <td>1.0</td>\n",
       "      <td>1.03070</td>\n",
       "      <td>1.02158</td>\n",
       "      <td>0.00206</td>\n",
       "    </tr>\n",
       "    <tr>\n",
       "      <th>2017-06-05 17:00:00</th>\n",
       "      <td>PROFIT</td>\n",
       "      <td>0.00456</td>\n",
       "      <td>1.0</td>\n",
       "      <td>1.01046</td>\n",
       "      <td>1.00438</td>\n",
       "      <td>0.00141</td>\n",
       "    </tr>\n",
       "  </tbody>\n",
       "</table>\n",
       "</div>"
      ],
      "text/plain": [
       "                         PL       gv  nswaps       sl       tp     size\n",
       "date                                                                   \n",
       "2017-03-01 04:00:00    LOSS -0.00322     0.0  1.02315  1.01027  0.00306\n",
       "2017-05-01 14:00:00    LOSS -0.00184     0.0  1.02830  1.02094  0.00161\n",
       "2017-05-01 15:00:00    LOSS -0.00176     0.0  1.02903  1.02199  0.00194\n",
       "2017-05-01 17:00:00    LOSS -0.00228     1.0  1.03070  1.02158  0.00206\n",
       "2017-06-05 17:00:00  PROFIT  0.00456     1.0  1.01046  1.00438  0.00141"
      ]
     },
     "metadata": {},
     "output_type": "display_data"
    },
    {
     "data": {
      "text/html": [
       "<h3>AUDCHF</h3>"
      ],
      "text/plain": [
       "<IPython.core.display.HTML object>"
      ]
     },
     "metadata": {},
     "output_type": "display_data"
    },
    {
     "data": {
      "text/html": [
       "<b>Balance: </b> -0.003760 &nbsp;&nbsp;&nbsp;&nbsp; <b>Trades:</b>{'LOSS': 2}"
      ],
      "text/plain": [
       "<IPython.core.display.HTML object>"
      ]
     },
     "metadata": {},
     "output_type": "display_data"
    },
    {
     "data": {
      "text/html": [
       "<b>Success rate: </b> 0.00%"
      ],
      "text/plain": [
       "<IPython.core.display.HTML object>"
      ]
     },
     "metadata": {},
     "output_type": "display_data"
    },
    {
     "name": "stdout",
     "output_type": "stream",
     "text": [
      "One month details:\n"
     ]
    },
    {
     "data": {
      "text/html": [
       "<div>\n",
       "<table border=\"1\" class=\"dataframe\">\n",
       "  <thead>\n",
       "    <tr style=\"text-align: right;\">\n",
       "      <th></th>\n",
       "      <th>PL</th>\n",
       "      <th>gv</th>\n",
       "      <th>nswaps</th>\n",
       "      <th>sl</th>\n",
       "      <th>tp</th>\n",
       "      <th>size</th>\n",
       "    </tr>\n",
       "    <tr>\n",
       "      <th>date</th>\n",
       "      <th></th>\n",
       "      <th></th>\n",
       "      <th></th>\n",
       "      <th></th>\n",
       "      <th></th>\n",
       "      <th></th>\n",
       "    </tr>\n",
       "  </thead>\n",
       "  <tbody>\n",
       "    <tr>\n",
       "      <th>2017-03-07 07:00:00</th>\n",
       "      <td>LOSS</td>\n",
       "      <td>-0.00164</td>\n",
       "      <td>0.0</td>\n",
       "      <td>0.77172</td>\n",
       "      <td>0.76516</td>\n",
       "      <td>0.00098</td>\n",
       "    </tr>\n",
       "    <tr>\n",
       "      <th>2017-03-28 21:00:00</th>\n",
       "      <td>LOSS</td>\n",
       "      <td>-0.00212</td>\n",
       "      <td>1.0</td>\n",
       "      <td>0.75921</td>\n",
       "      <td>0.75073</td>\n",
       "      <td>0.00197</td>\n",
       "    </tr>\n",
       "  </tbody>\n",
       "</table>\n",
       "</div>"
      ],
      "text/plain": [
       "                       PL       gv  nswaps       sl       tp     size\n",
       "date                                                                 \n",
       "2017-03-07 07:00:00  LOSS -0.00164     0.0  0.77172  0.76516  0.00098\n",
       "2017-03-28 21:00:00  LOSS -0.00212     1.0  0.75921  0.75073  0.00197"
      ]
     },
     "metadata": {},
     "output_type": "display_data"
    },
    {
     "data": {
      "text/html": [
       "<h3>AUDJPY</h3>"
      ],
      "text/plain": [
       "<IPython.core.display.HTML object>"
      ]
     },
     "metadata": {},
     "output_type": "display_data"
    },
    {
     "data": {
      "text/html": [
       "<b>Balance: </b> 0.286000 &nbsp;&nbsp;&nbsp;&nbsp; <b>Trades:</b>{'PROFIT': 1, 'LOSS': 1}"
      ],
      "text/plain": [
       "<IPython.core.display.HTML object>"
      ]
     },
     "metadata": {},
     "output_type": "display_data"
    },
    {
     "data": {
      "text/html": [
       "<b>Success rate: </b> 50.00%"
      ],
      "text/plain": [
       "<IPython.core.display.HTML object>"
      ]
     },
     "metadata": {},
     "output_type": "display_data"
    },
    {
     "name": "stdout",
     "output_type": "stream",
     "text": [
      "One month details:\n"
     ]
    },
    {
     "data": {
      "text/html": [
       "<div>\n",
       "<table border=\"1\" class=\"dataframe\">\n",
       "  <thead>\n",
       "    <tr style=\"text-align: right;\">\n",
       "      <th></th>\n",
       "      <th>PL</th>\n",
       "      <th>gv</th>\n",
       "      <th>nswaps</th>\n",
       "      <th>sl</th>\n",
       "      <th>tp</th>\n",
       "      <th>size</th>\n",
       "    </tr>\n",
       "    <tr>\n",
       "      <th>date</th>\n",
       "      <th></th>\n",
       "      <th></th>\n",
       "      <th></th>\n",
       "      <th></th>\n",
       "      <th></th>\n",
       "      <th></th>\n",
       "    </tr>\n",
       "  </thead>\n",
       "  <tbody>\n",
       "    <tr>\n",
       "      <th>2017-05-15 13:00:00</th>\n",
       "      <td>PROFIT</td>\n",
       "      <td>0.450</td>\n",
       "      <td>1.0</td>\n",
       "      <td>84.529</td>\n",
       "      <td>83.929</td>\n",
       "      <td>0.136</td>\n",
       "    </tr>\n",
       "    <tr>\n",
       "      <th>2017-06-16 14:00:00</th>\n",
       "      <td>LOSS</td>\n",
       "      <td>-0.164</td>\n",
       "      <td>2.0</td>\n",
       "      <td>84.828</td>\n",
       "      <td>84.172</td>\n",
       "      <td>0.149</td>\n",
       "    </tr>\n",
       "  </tbody>\n",
       "</table>\n",
       "</div>"
      ],
      "text/plain": [
       "                         PL     gv  nswaps      sl      tp   size\n",
       "date                                                             \n",
       "2017-05-15 13:00:00  PROFIT  0.450     1.0  84.529  83.929  0.136\n",
       "2017-06-16 14:00:00    LOSS -0.164     2.0  84.828  84.172  0.149"
      ]
     },
     "metadata": {},
     "output_type": "display_data"
    },
    {
     "data": {
      "text/html": [
       "<h3>AUDNZD</h3>"
      ],
      "text/plain": [
       "<IPython.core.display.HTML object>"
      ]
     },
     "metadata": {},
     "output_type": "display_data"
    },
    {
     "data": {
      "text/html": [
       "<b>Balance: </b> -0.001910 &nbsp;&nbsp;&nbsp;&nbsp; <b>Trades:</b>{'LOSS': 1}"
      ],
      "text/plain": [
       "<IPython.core.display.HTML object>"
      ]
     },
     "metadata": {},
     "output_type": "display_data"
    },
    {
     "data": {
      "text/html": [
       "<b>Success rate: </b> 0.00%"
      ],
      "text/plain": [
       "<IPython.core.display.HTML object>"
      ]
     },
     "metadata": {},
     "output_type": "display_data"
    },
    {
     "name": "stdout",
     "output_type": "stream",
     "text": [
      "One month details:\n"
     ]
    },
    {
     "data": {
      "text/html": [
       "<div>\n",
       "<table border=\"1\" class=\"dataframe\">\n",
       "  <thead>\n",
       "    <tr style=\"text-align: right;\">\n",
       "      <th></th>\n",
       "      <th>PL</th>\n",
       "      <th>gv</th>\n",
       "      <th>nswaps</th>\n",
       "      <th>sl</th>\n",
       "      <th>tp</th>\n",
       "      <th>size</th>\n",
       "    </tr>\n",
       "    <tr>\n",
       "      <th>date</th>\n",
       "      <th></th>\n",
       "      <th></th>\n",
       "      <th></th>\n",
       "      <th></th>\n",
       "      <th></th>\n",
       "      <th></th>\n",
       "    </tr>\n",
       "  </thead>\n",
       "  <tbody>\n",
       "    <tr>\n",
       "      <th>2017-04-25 11:00:00</th>\n",
       "      <td>LOSS</td>\n",
       "      <td>-0.00191</td>\n",
       "      <td>0.0</td>\n",
       "      <td>1.08481</td>\n",
       "      <td>1.07717</td>\n",
       "      <td>0.00137</td>\n",
       "    </tr>\n",
       "  </tbody>\n",
       "</table>\n",
       "</div>"
      ],
      "text/plain": [
       "                       PL       gv  nswaps       sl       tp     size\n",
       "date                                                                 \n",
       "2017-04-25 11:00:00  LOSS -0.00191     0.0  1.08481  1.07717  0.00137"
      ]
     },
     "metadata": {},
     "output_type": "display_data"
    },
    {
     "data": {
      "text/html": [
       "<h3>BRENT-AUG17</h3>"
      ],
      "text/plain": [
       "<IPython.core.display.HTML object>"
      ]
     },
     "metadata": {},
     "output_type": "display_data"
    },
    {
     "data": {
      "text/html": [
       "<b>Balance: </b> -0.900000 &nbsp;&nbsp;&nbsp;&nbsp; <b>Trades:</b>{'LOSS': 3}"
      ],
      "text/plain": [
       "<IPython.core.display.HTML object>"
      ]
     },
     "metadata": {},
     "output_type": "display_data"
    },
    {
     "data": {
      "text/html": [
       "<b>Success rate: </b> 0.00%"
      ],
      "text/plain": [
       "<IPython.core.display.HTML object>"
      ]
     },
     "metadata": {},
     "output_type": "display_data"
    },
    {
     "name": "stdout",
     "output_type": "stream",
     "text": [
      "One month details:\n"
     ]
    },
    {
     "data": {
      "text/html": [
       "<div>\n",
       "<table border=\"1\" class=\"dataframe\">\n",
       "  <thead>\n",
       "    <tr style=\"text-align: right;\">\n",
       "      <th></th>\n",
       "      <th>PL</th>\n",
       "      <th>gv</th>\n",
       "      <th>nswaps</th>\n",
       "      <th>sl</th>\n",
       "      <th>tp</th>\n",
       "      <th>size</th>\n",
       "    </tr>\n",
       "    <tr>\n",
       "      <th>date</th>\n",
       "      <th></th>\n",
       "      <th></th>\n",
       "      <th></th>\n",
       "      <th></th>\n",
       "      <th></th>\n",
       "      <th></th>\n",
       "    </tr>\n",
       "  </thead>\n",
       "  <tbody>\n",
       "    <tr>\n",
       "      <th>2017-04-04 23:00:00</th>\n",
       "      <td>LOSS</td>\n",
       "      <td>-0.27</td>\n",
       "      <td>1.0</td>\n",
       "      <td>54.40</td>\n",
       "      <td>53.32</td>\n",
       "      <td>0.25</td>\n",
       "    </tr>\n",
       "    <tr>\n",
       "      <th>2017-05-11 11:00:00</th>\n",
       "      <td>LOSS</td>\n",
       "      <td>-0.35</td>\n",
       "      <td>0.0</td>\n",
       "      <td>50.99</td>\n",
       "      <td>49.59</td>\n",
       "      <td>0.27</td>\n",
       "    </tr>\n",
       "    <tr>\n",
       "      <th>2017-05-15 10:00:00</th>\n",
       "      <td>LOSS</td>\n",
       "      <td>-0.28</td>\n",
       "      <td>0.0</td>\n",
       "      <td>52.16</td>\n",
       "      <td>51.04</td>\n",
       "      <td>0.36</td>\n",
       "    </tr>\n",
       "  </tbody>\n",
       "</table>\n",
       "</div>"
      ],
      "text/plain": [
       "                       PL    gv  nswaps     sl     tp  size\n",
       "date                                                       \n",
       "2017-04-04 23:00:00  LOSS -0.27     1.0  54.40  53.32  0.25\n",
       "2017-05-11 11:00:00  LOSS -0.35     0.0  50.99  49.59  0.27\n",
       "2017-05-15 10:00:00  LOSS -0.28     0.0  52.16  51.04  0.36"
      ]
     },
     "metadata": {},
     "output_type": "display_data"
    },
    {
     "data": {
      "text/html": [
       "<h3>CADJPY</h3>"
      ],
      "text/plain": [
       "<IPython.core.display.HTML object>"
      ]
     },
     "metadata": {},
     "output_type": "display_data"
    },
    {
     "data": {
      "text/html": [
       "<b>Balance: </b> 0.450000 &nbsp;&nbsp;&nbsp;&nbsp; <b>Trades:</b>{'PROFIT': 1, 'LOSS': 1}"
      ],
      "text/plain": [
       "<IPython.core.display.HTML object>"
      ]
     },
     "metadata": {},
     "output_type": "display_data"
    },
    {
     "data": {
      "text/html": [
       "<b>Success rate: </b> 50.00%"
      ],
      "text/plain": [
       "<IPython.core.display.HTML object>"
      ]
     },
     "metadata": {},
     "output_type": "display_data"
    },
    {
     "name": "stdout",
     "output_type": "stream",
     "text": [
      "One month details:\n"
     ]
    },
    {
     "data": {
      "text/html": [
       "<div>\n",
       "<table border=\"1\" class=\"dataframe\">\n",
       "  <thead>\n",
       "    <tr style=\"text-align: right;\">\n",
       "      <th></th>\n",
       "      <th>PL</th>\n",
       "      <th>gv</th>\n",
       "      <th>nswaps</th>\n",
       "      <th>sl</th>\n",
       "      <th>tp</th>\n",
       "      <th>size</th>\n",
       "    </tr>\n",
       "    <tr>\n",
       "      <th>date</th>\n",
       "      <th></th>\n",
       "      <th></th>\n",
       "      <th></th>\n",
       "      <th></th>\n",
       "      <th></th>\n",
       "      <th></th>\n",
       "    </tr>\n",
       "  </thead>\n",
       "  <tbody>\n",
       "    <tr>\n",
       "      <th>2017-04-24 13:00:00</th>\n",
       "      <td>PROFIT</td>\n",
       "      <td>0.669</td>\n",
       "      <td>0.0</td>\n",
       "      <td>82.231</td>\n",
       "      <td>81.339</td>\n",
       "      <td>0.176</td>\n",
       "    </tr>\n",
       "    <tr>\n",
       "      <th>2017-06-16 09:00:00</th>\n",
       "      <td>LOSS</td>\n",
       "      <td>-0.219</td>\n",
       "      <td>0.0</td>\n",
       "      <td>84.031</td>\n",
       "      <td>83.155</td>\n",
       "      <td>0.234</td>\n",
       "    </tr>\n",
       "  </tbody>\n",
       "</table>\n",
       "</div>"
      ],
      "text/plain": [
       "                         PL     gv  nswaps      sl      tp   size\n",
       "date                                                             \n",
       "2017-04-24 13:00:00  PROFIT  0.669     0.0  82.231  81.339  0.176\n",
       "2017-06-16 09:00:00    LOSS -0.219     0.0  84.031  83.155  0.234"
      ]
     },
     "metadata": {},
     "output_type": "display_data"
    },
    {
     "data": {
      "text/html": [
       "<h3>COCOA-SEP17</h3>"
      ],
      "text/plain": [
       "<IPython.core.display.HTML object>"
      ]
     },
     "metadata": {},
     "output_type": "display_data"
    },
    {
     "data": {
      "text/html": [
       "<b>Balance: </b> 0.000000 &nbsp;&nbsp;&nbsp;&nbsp; <b>Trades:</b>{}"
      ],
      "text/plain": [
       "<IPython.core.display.HTML object>"
      ]
     },
     "metadata": {},
     "output_type": "display_data"
    },
    {
     "data": {
      "text/html": [
       "<b>Success rate: </b> 0.00%"
      ],
      "text/plain": [
       "<IPython.core.display.HTML object>"
      ]
     },
     "metadata": {},
     "output_type": "display_data"
    },
    {
     "name": "stdout",
     "output_type": "stream",
     "text": [
      "One month details:\n"
     ]
    },
    {
     "data": {
      "text/html": [
       "<div>\n",
       "<table border=\"1\" class=\"dataframe\">\n",
       "  <thead>\n",
       "    <tr style=\"text-align: right;\">\n",
       "      <th></th>\n",
       "      <th>PL</th>\n",
       "      <th>gv</th>\n",
       "      <th>nswaps</th>\n",
       "      <th>sl</th>\n",
       "      <th>tp</th>\n",
       "      <th>size</th>\n",
       "    </tr>\n",
       "    <tr>\n",
       "      <th>date</th>\n",
       "      <th></th>\n",
       "      <th></th>\n",
       "      <th></th>\n",
       "      <th></th>\n",
       "      <th></th>\n",
       "      <th></th>\n",
       "    </tr>\n",
       "  </thead>\n",
       "  <tbody>\n",
       "  </tbody>\n",
       "</table>\n",
       "</div>"
      ],
      "text/plain": [
       "Empty DataFrame\n",
       "Columns: [PL, gv, nswaps, sl, tp, size]\n",
       "Index: []"
      ]
     },
     "metadata": {},
     "output_type": "display_data"
    },
    {
     "data": {
      "text/html": [
       "<h3>EURAUD</h3>"
      ],
      "text/plain": [
       "<IPython.core.display.HTML object>"
      ]
     },
     "metadata": {},
     "output_type": "display_data"
    },
    {
     "data": {
      "text/html": [
       "<b>Balance: </b> -0.002270 &nbsp;&nbsp;&nbsp;&nbsp; <b>Trades:</b>{'PROFIT': 1, 'LOSS': 4}"
      ],
      "text/plain": [
       "<IPython.core.display.HTML object>"
      ]
     },
     "metadata": {},
     "output_type": "display_data"
    },
    {
     "data": {
      "text/html": [
       "<b>Success rate: </b> 20.00%"
      ],
      "text/plain": [
       "<IPython.core.display.HTML object>"
      ]
     },
     "metadata": {},
     "output_type": "display_data"
    },
    {
     "name": "stdout",
     "output_type": "stream",
     "text": [
      "One month details:\n"
     ]
    },
    {
     "data": {
      "text/html": [
       "<div>\n",
       "<table border=\"1\" class=\"dataframe\">\n",
       "  <thead>\n",
       "    <tr style=\"text-align: right;\">\n",
       "      <th></th>\n",
       "      <th>PL</th>\n",
       "      <th>gv</th>\n",
       "      <th>nswaps</th>\n",
       "      <th>sl</th>\n",
       "      <th>tp</th>\n",
       "      <th>size</th>\n",
       "    </tr>\n",
       "    <tr>\n",
       "      <th>date</th>\n",
       "      <th></th>\n",
       "      <th></th>\n",
       "      <th></th>\n",
       "      <th></th>\n",
       "      <th></th>\n",
       "      <th></th>\n",
       "    </tr>\n",
       "  </thead>\n",
       "  <tbody>\n",
       "    <tr>\n",
       "      <th>2017-03-09 11:00:00</th>\n",
       "      <td>LOSS</td>\n",
       "      <td>-0.00351</td>\n",
       "      <td>0.0</td>\n",
       "      <td>1.41052</td>\n",
       "      <td>1.39648</td>\n",
       "      <td>0.00505</td>\n",
       "    </tr>\n",
       "    <tr>\n",
       "      <th>2017-03-21 20:00:00</th>\n",
       "      <td>LOSS</td>\n",
       "      <td>-0.00234</td>\n",
       "      <td>0.0</td>\n",
       "      <td>1.40414</td>\n",
       "      <td>1.39478</td>\n",
       "      <td>0.00215</td>\n",
       "    </tr>\n",
       "    <tr>\n",
       "      <th>2017-04-25 12:00:00</th>\n",
       "      <td>LOSS</td>\n",
       "      <td>-0.00284</td>\n",
       "      <td>0.0</td>\n",
       "      <td>1.44790</td>\n",
       "      <td>1.43654</td>\n",
       "      <td>0.00239</td>\n",
       "    </tr>\n",
       "    <tr>\n",
       "      <th>2017-05-03 15:00:00</th>\n",
       "      <td>LOSS</td>\n",
       "      <td>-0.00300</td>\n",
       "      <td>0.0</td>\n",
       "      <td>1.46242</td>\n",
       "      <td>1.45042</td>\n",
       "      <td>0.00265</td>\n",
       "    </tr>\n",
       "    <tr>\n",
       "      <th>2017-05-05 08:00:00</th>\n",
       "      <td>PROFIT</td>\n",
       "      <td>0.00942</td>\n",
       "      <td>1.0</td>\n",
       "      <td>1.49135</td>\n",
       "      <td>1.47879</td>\n",
       "      <td>0.00280</td>\n",
       "    </tr>\n",
       "  </tbody>\n",
       "</table>\n",
       "</div>"
      ],
      "text/plain": [
       "                         PL       gv  nswaps       sl       tp     size\n",
       "date                                                                   \n",
       "2017-03-09 11:00:00    LOSS -0.00351     0.0  1.41052  1.39648  0.00505\n",
       "2017-03-21 20:00:00    LOSS -0.00234     0.0  1.40414  1.39478  0.00215\n",
       "2017-04-25 12:00:00    LOSS -0.00284     0.0  1.44790  1.43654  0.00239\n",
       "2017-05-03 15:00:00    LOSS -0.00300     0.0  1.46242  1.45042  0.00265\n",
       "2017-05-05 08:00:00  PROFIT  0.00942     1.0  1.49135  1.47879  0.00280"
      ]
     },
     "metadata": {},
     "output_type": "display_data"
    },
    {
     "data": {
      "text/html": [
       "<h3>EURCHF</h3>"
      ],
      "text/plain": [
       "<IPython.core.display.HTML object>"
      ]
     },
     "metadata": {},
     "output_type": "display_data"
    },
    {
     "data": {
      "text/html": [
       "<b>Balance: </b> 0.000510 &nbsp;&nbsp;&nbsp;&nbsp; <b>Trades:</b>{'PROFIT': 2, 'LOSS': 4}"
      ],
      "text/plain": [
       "<IPython.core.display.HTML object>"
      ]
     },
     "metadata": {},
     "output_type": "display_data"
    },
    {
     "data": {
      "text/html": [
       "<b>Success rate: </b> 33.33%"
      ],
      "text/plain": [
       "<IPython.core.display.HTML object>"
      ]
     },
     "metadata": {},
     "output_type": "display_data"
    },
    {
     "name": "stdout",
     "output_type": "stream",
     "text": [
      "One month details:\n"
     ]
    },
    {
     "data": {
      "text/html": [
       "<div>\n",
       "<table border=\"1\" class=\"dataframe\">\n",
       "  <thead>\n",
       "    <tr style=\"text-align: right;\">\n",
       "      <th></th>\n",
       "      <th>PL</th>\n",
       "      <th>gv</th>\n",
       "      <th>nswaps</th>\n",
       "      <th>sl</th>\n",
       "      <th>tp</th>\n",
       "      <th>size</th>\n",
       "    </tr>\n",
       "    <tr>\n",
       "      <th>date</th>\n",
       "      <th></th>\n",
       "      <th></th>\n",
       "      <th></th>\n",
       "      <th></th>\n",
       "      <th></th>\n",
       "      <th></th>\n",
       "    </tr>\n",
       "  </thead>\n",
       "  <tbody>\n",
       "    <tr>\n",
       "      <th>2017-03-03 21:00:00</th>\n",
       "      <td>LOSS</td>\n",
       "      <td>-0.00123</td>\n",
       "      <td>0.0</td>\n",
       "      <td>1.07081</td>\n",
       "      <td>1.06589</td>\n",
       "      <td>0.00133</td>\n",
       "    </tr>\n",
       "    <tr>\n",
       "      <th>2017-03-07 16:00:00</th>\n",
       "      <td>PROFIT</td>\n",
       "      <td>0.00366</td>\n",
       "      <td>1.0</td>\n",
       "      <td>1.07485</td>\n",
       "      <td>1.06997</td>\n",
       "      <td>0.00114</td>\n",
       "    </tr>\n",
       "    <tr>\n",
       "      <th>2017-03-13 00:00:00</th>\n",
       "      <td>LOSS</td>\n",
       "      <td>-0.00110</td>\n",
       "      <td>0.0</td>\n",
       "      <td>1.07963</td>\n",
       "      <td>1.07523</td>\n",
       "      <td>0.00084</td>\n",
       "    </tr>\n",
       "    <tr>\n",
       "      <th>2017-04-24 00:00:00</th>\n",
       "      <td>LOSS</td>\n",
       "      <td>-0.00281</td>\n",
       "      <td>0.0</td>\n",
       "      <td>1.08244</td>\n",
       "      <td>1.07120</td>\n",
       "      <td>0.00238</td>\n",
       "    </tr>\n",
       "    <tr>\n",
       "      <th>2017-04-25 19:00:00</th>\n",
       "      <td>PROFIT</td>\n",
       "      <td>0.00351</td>\n",
       "      <td>1.0</td>\n",
       "      <td>1.08714</td>\n",
       "      <td>1.08246</td>\n",
       "      <td>0.00121</td>\n",
       "    </tr>\n",
       "    <tr>\n",
       "      <th>2017-05-09 21:00:00</th>\n",
       "      <td>LOSS</td>\n",
       "      <td>-0.00152</td>\n",
       "      <td>3.0</td>\n",
       "      <td>1.09736</td>\n",
       "      <td>1.09128</td>\n",
       "      <td>0.00111</td>\n",
       "    </tr>\n",
       "  </tbody>\n",
       "</table>\n",
       "</div>"
      ],
      "text/plain": [
       "                         PL       gv  nswaps       sl       tp     size\n",
       "date                                                                   \n",
       "2017-03-03 21:00:00    LOSS -0.00123     0.0  1.07081  1.06589  0.00133\n",
       "2017-03-07 16:00:00  PROFIT  0.00366     1.0  1.07485  1.06997  0.00114\n",
       "2017-03-13 00:00:00    LOSS -0.00110     0.0  1.07963  1.07523  0.00084\n",
       "2017-04-24 00:00:00    LOSS -0.00281     0.0  1.08244  1.07120  0.00238\n",
       "2017-04-25 19:00:00  PROFIT  0.00351     1.0  1.08714  1.08246  0.00121\n",
       "2017-05-09 21:00:00    LOSS -0.00152     3.0  1.09736  1.09128  0.00111"
      ]
     },
     "metadata": {},
     "output_type": "display_data"
    },
    {
     "data": {
      "text/html": [
       "<h3>EURDKK</h3>"
      ],
      "text/plain": [
       "<IPython.core.display.HTML object>"
      ]
     },
     "metadata": {},
     "output_type": "display_data"
    },
    {
     "data": {
      "text/html": [
       "<b>Balance: </b> -0.004340 &nbsp;&nbsp;&nbsp;&nbsp; <b>Trades:</b>{'LOSS': 1}"
      ],
      "text/plain": [
       "<IPython.core.display.HTML object>"
      ]
     },
     "metadata": {},
     "output_type": "display_data"
    },
    {
     "data": {
      "text/html": [
       "<b>Success rate: </b> 0.00%"
      ],
      "text/plain": [
       "<IPython.core.display.HTML object>"
      ]
     },
     "metadata": {},
     "output_type": "display_data"
    },
    {
     "name": "stdout",
     "output_type": "stream",
     "text": [
      "One month details:\n"
     ]
    },
    {
     "data": {
      "text/html": [
       "<div>\n",
       "<table border=\"1\" class=\"dataframe\">\n",
       "  <thead>\n",
       "    <tr style=\"text-align: right;\">\n",
       "      <th></th>\n",
       "      <th>PL</th>\n",
       "      <th>gv</th>\n",
       "      <th>nswaps</th>\n",
       "      <th>sl</th>\n",
       "      <th>tp</th>\n",
       "      <th>size</th>\n",
       "    </tr>\n",
       "    <tr>\n",
       "      <th>date</th>\n",
       "      <th></th>\n",
       "      <th></th>\n",
       "      <th></th>\n",
       "      <th></th>\n",
       "      <th></th>\n",
       "      <th></th>\n",
       "    </tr>\n",
       "  </thead>\n",
       "  <tbody>\n",
       "    <tr>\n",
       "      <th>2017-03-22 20:00:00</th>\n",
       "      <td>LOSS</td>\n",
       "      <td>-0.00434</td>\n",
       "      <td>4.0</td>\n",
       "      <td>7.43923</td>\n",
       "      <td>7.42187</td>\n",
       "      <td>0.00003</td>\n",
       "    </tr>\n",
       "  </tbody>\n",
       "</table>\n",
       "</div>"
      ],
      "text/plain": [
       "                       PL       gv  nswaps       sl       tp     size\n",
       "date                                                                 \n",
       "2017-03-22 20:00:00  LOSS -0.00434     4.0  7.43923  7.42187  0.00003"
      ]
     },
     "metadata": {},
     "output_type": "display_data"
    },
    {
     "data": {
      "text/html": [
       "<h3>EURHKD</h3>"
      ],
      "text/plain": [
       "<IPython.core.display.HTML object>"
      ]
     },
     "metadata": {},
     "output_type": "display_data"
    },
    {
     "data": {
      "text/html": [
       "<b>Balance: </b> -0.072290 &nbsp;&nbsp;&nbsp;&nbsp; <b>Trades:</b>{'LOSS': 4}"
      ],
      "text/plain": [
       "<IPython.core.display.HTML object>"
      ]
     },
     "metadata": {},
     "output_type": "display_data"
    },
    {
     "data": {
      "text/html": [
       "<b>Success rate: </b> 0.00%"
      ],
      "text/plain": [
       "<IPython.core.display.HTML object>"
      ]
     },
     "metadata": {},
     "output_type": "display_data"
    },
    {
     "name": "stdout",
     "output_type": "stream",
     "text": [
      "One month details:\n"
     ]
    },
    {
     "data": {
      "text/html": [
       "<div>\n",
       "<table border=\"1\" class=\"dataframe\">\n",
       "  <thead>\n",
       "    <tr style=\"text-align: right;\">\n",
       "      <th></th>\n",
       "      <th>PL</th>\n",
       "      <th>gv</th>\n",
       "      <th>nswaps</th>\n",
       "      <th>sl</th>\n",
       "      <th>tp</th>\n",
       "      <th>size</th>\n",
       "    </tr>\n",
       "    <tr>\n",
       "      <th>date</th>\n",
       "      <th></th>\n",
       "      <th></th>\n",
       "      <th></th>\n",
       "      <th></th>\n",
       "      <th></th>\n",
       "      <th></th>\n",
       "    </tr>\n",
       "  </thead>\n",
       "  <tbody>\n",
       "    <tr>\n",
       "      <th>2017-01-04 18:00:00</th>\n",
       "      <td>LOSS</td>\n",
       "      <td>-0.01803</td>\n",
       "      <td>0.0</td>\n",
       "      <td>8.13699</td>\n",
       "      <td>8.06487</td>\n",
       "      <td>0.01338</td>\n",
       "    </tr>\n",
       "    <tr>\n",
       "      <th>2017-01-05 07:00:00</th>\n",
       "      <td>LOSS</td>\n",
       "      <td>-0.02329</td>\n",
       "      <td>0.0</td>\n",
       "      <td>8.19260</td>\n",
       "      <td>8.09944</td>\n",
       "      <td>0.03019</td>\n",
       "    </tr>\n",
       "    <tr>\n",
       "      <th>2017-04-12 23:00:00</th>\n",
       "      <td>LOSS</td>\n",
       "      <td>-0.01479</td>\n",
       "      <td>1.0</td>\n",
       "      <td>8.29723</td>\n",
       "      <td>8.23807</td>\n",
       "      <td>0.01350</td>\n",
       "    </tr>\n",
       "    <tr>\n",
       "      <th>2017-05-16 14:00:00</th>\n",
       "      <td>LOSS</td>\n",
       "      <td>-0.01618</td>\n",
       "      <td>0.0</td>\n",
       "      <td>8.62094</td>\n",
       "      <td>8.55622</td>\n",
       "      <td>0.01139</td>\n",
       "    </tr>\n",
       "  </tbody>\n",
       "</table>\n",
       "</div>"
      ],
      "text/plain": [
       "                       PL       gv  nswaps       sl       tp     size\n",
       "date                                                                 \n",
       "2017-01-04 18:00:00  LOSS -0.01803     0.0  8.13699  8.06487  0.01338\n",
       "2017-01-05 07:00:00  LOSS -0.02329     0.0  8.19260  8.09944  0.03019\n",
       "2017-04-12 23:00:00  LOSS -0.01479     1.0  8.29723  8.23807  0.01350\n",
       "2017-05-16 14:00:00  LOSS -0.01618     0.0  8.62094  8.55622  0.01139"
      ]
     },
     "metadata": {},
     "output_type": "display_data"
    },
    {
     "data": {
      "text/html": [
       "<h3>EURNOK</h3>"
      ],
      "text/plain": [
       "<IPython.core.display.HTML object>"
      ]
     },
     "metadata": {},
     "output_type": "display_data"
    },
    {
     "data": {
      "text/html": [
       "<b>Balance: </b> -0.175860 &nbsp;&nbsp;&nbsp;&nbsp; <b>Trades:</b>{'PROFIT': 1, 'LOSS': 10}"
      ],
      "text/plain": [
       "<IPython.core.display.HTML object>"
      ]
     },
     "metadata": {},
     "output_type": "display_data"
    },
    {
     "data": {
      "text/html": [
       "<b>Success rate: </b> 9.09%"
      ],
      "text/plain": [
       "<IPython.core.display.HTML object>"
      ]
     },
     "metadata": {},
     "output_type": "display_data"
    },
    {
     "name": "stdout",
     "output_type": "stream",
     "text": [
      "One month details:\n"
     ]
    },
    {
     "data": {
      "text/html": [
       "<div>\n",
       "<table border=\"1\" class=\"dataframe\">\n",
       "  <thead>\n",
       "    <tr style=\"text-align: right;\">\n",
       "      <th></th>\n",
       "      <th>PL</th>\n",
       "      <th>gv</th>\n",
       "      <th>nswaps</th>\n",
       "      <th>sl</th>\n",
       "      <th>tp</th>\n",
       "      <th>size</th>\n",
       "    </tr>\n",
       "    <tr>\n",
       "      <th>date</th>\n",
       "      <th></th>\n",
       "      <th></th>\n",
       "      <th></th>\n",
       "      <th></th>\n",
       "      <th></th>\n",
       "      <th></th>\n",
       "    </tr>\n",
       "  </thead>\n",
       "  <tbody>\n",
       "    <tr>\n",
       "      <th>2017-01-09 16:00:00</th>\n",
       "      <td>LOSS</td>\n",
       "      <td>-0.02362</td>\n",
       "      <td>1.0</td>\n",
       "      <td>9.04242</td>\n",
       "      <td>8.94794</td>\n",
       "      <td>0.01433</td>\n",
       "    </tr>\n",
       "    <tr>\n",
       "      <th>2017-01-09 17:00:00</th>\n",
       "      <td>LOSS</td>\n",
       "      <td>-0.01996</td>\n",
       "      <td>1.0</td>\n",
       "      <td>9.03916</td>\n",
       "      <td>8.95932</td>\n",
       "      <td>0.00902</td>\n",
       "    </tr>\n",
       "    <tr>\n",
       "      <th>2017-03-02 19:00:00</th>\n",
       "      <td>LOSS</td>\n",
       "      <td>-0.01881</td>\n",
       "      <td>1.0</td>\n",
       "      <td>8.91850</td>\n",
       "      <td>8.84326</td>\n",
       "      <td>0.00960</td>\n",
       "    </tr>\n",
       "    <tr>\n",
       "      <th>2017-03-09 11:00:00</th>\n",
       "      <td>LOSS</td>\n",
       "      <td>-0.02466</td>\n",
       "      <td>0.0</td>\n",
       "      <td>9.05046</td>\n",
       "      <td>8.95182</td>\n",
       "      <td>0.02000</td>\n",
       "    </tr>\n",
       "    <tr>\n",
       "      <th>2017-03-10 09:00:00</th>\n",
       "      <td>LOSS</td>\n",
       "      <td>-0.03113</td>\n",
       "      <td>0.0</td>\n",
       "      <td>9.12730</td>\n",
       "      <td>9.00278</td>\n",
       "      <td>0.03253</td>\n",
       "    </tr>\n",
       "    <tr>\n",
       "      <th>2017-03-10 13:00:00</th>\n",
       "      <td>LOSS</td>\n",
       "      <td>-0.02900</td>\n",
       "      <td>0.0</td>\n",
       "      <td>9.15992</td>\n",
       "      <td>9.04392</td>\n",
       "      <td>0.02155</td>\n",
       "    </tr>\n",
       "    <tr>\n",
       "      <th>2017-03-10 14:00:00</th>\n",
       "      <td>LOSS</td>\n",
       "      <td>-0.02608</td>\n",
       "      <td>0.0</td>\n",
       "      <td>9.15782</td>\n",
       "      <td>9.05350</td>\n",
       "      <td>0.01631</td>\n",
       "    </tr>\n",
       "    <tr>\n",
       "      <th>2017-03-27 17:00:00</th>\n",
       "      <td>LOSS</td>\n",
       "      <td>-0.02527</td>\n",
       "      <td>1.0</td>\n",
       "      <td>9.24178</td>\n",
       "      <td>9.14070</td>\n",
       "      <td>0.01428</td>\n",
       "    </tr>\n",
       "    <tr>\n",
       "      <th>2017-04-19 15:00:00</th>\n",
       "      <td>LOSS</td>\n",
       "      <td>-0.01826</td>\n",
       "      <td>0.0</td>\n",
       "      <td>9.16309</td>\n",
       "      <td>9.09005</td>\n",
       "      <td>0.00931</td>\n",
       "    </tr>\n",
       "    <tr>\n",
       "      <th>2017-04-24 06:00:00</th>\n",
       "      <td>PROFIT</td>\n",
       "      <td>0.06348</td>\n",
       "      <td>0.0</td>\n",
       "      <td>9.33905</td>\n",
       "      <td>9.25441</td>\n",
       "      <td>0.01418</td>\n",
       "    </tr>\n",
       "    <tr>\n",
       "      <th>2017-05-04 19:00:00</th>\n",
       "      <td>LOSS</td>\n",
       "      <td>-0.02255</td>\n",
       "      <td>1.0</td>\n",
       "      <td>9.53499</td>\n",
       "      <td>9.44479</td>\n",
       "      <td>0.01393</td>\n",
       "    </tr>\n",
       "  </tbody>\n",
       "</table>\n",
       "</div>"
      ],
      "text/plain": [
       "                         PL       gv  nswaps       sl       tp     size\n",
       "date                                                                   \n",
       "2017-01-09 16:00:00    LOSS -0.02362     1.0  9.04242  8.94794  0.01433\n",
       "2017-01-09 17:00:00    LOSS -0.01996     1.0  9.03916  8.95932  0.00902\n",
       "2017-03-02 19:00:00    LOSS -0.01881     1.0  8.91850  8.84326  0.00960\n",
       "2017-03-09 11:00:00    LOSS -0.02466     0.0  9.05046  8.95182  0.02000\n",
       "2017-03-10 09:00:00    LOSS -0.03113     0.0  9.12730  9.00278  0.03253\n",
       "2017-03-10 13:00:00    LOSS -0.02900     0.0  9.15992  9.04392  0.02155\n",
       "2017-03-10 14:00:00    LOSS -0.02608     0.0  9.15782  9.05350  0.01631\n",
       "2017-03-27 17:00:00    LOSS -0.02527     1.0  9.24178  9.14070  0.01428\n",
       "2017-04-19 15:00:00    LOSS -0.01826     0.0  9.16309  9.09005  0.00931\n",
       "2017-04-24 06:00:00  PROFIT  0.06348     0.0  9.33905  9.25441  0.01418\n",
       "2017-05-04 19:00:00    LOSS -0.02255     1.0  9.53499  9.44479  0.01393"
      ]
     },
     "metadata": {},
     "output_type": "display_data"
    },
    {
     "data": {
      "text/html": [
       "<h3>EURPLN</h3>"
      ],
      "text/plain": [
       "<IPython.core.display.HTML object>"
      ]
     },
     "metadata": {},
     "output_type": "display_data"
    },
    {
     "data": {
      "text/html": [
       "<b>Balance: </b> -0.027260 &nbsp;&nbsp;&nbsp;&nbsp; <b>Trades:</b>{'LOSS': 2}"
      ],
      "text/plain": [
       "<IPython.core.display.HTML object>"
      ]
     },
     "metadata": {},
     "output_type": "display_data"
    },
    {
     "data": {
      "text/html": [
       "<b>Success rate: </b> 0.00%"
      ],
      "text/plain": [
       "<IPython.core.display.HTML object>"
      ]
     },
     "metadata": {},
     "output_type": "display_data"
    },
    {
     "name": "stdout",
     "output_type": "stream",
     "text": [
      "One month details:\n"
     ]
    },
    {
     "data": {
      "text/html": [
       "<div>\n",
       "<table border=\"1\" class=\"dataframe\">\n",
       "  <thead>\n",
       "    <tr style=\"text-align: right;\">\n",
       "      <th></th>\n",
       "      <th>PL</th>\n",
       "      <th>gv</th>\n",
       "      <th>nswaps</th>\n",
       "      <th>sl</th>\n",
       "      <th>tp</th>\n",
       "      <th>size</th>\n",
       "    </tr>\n",
       "    <tr>\n",
       "      <th>date</th>\n",
       "      <th></th>\n",
       "      <th></th>\n",
       "      <th></th>\n",
       "      <th></th>\n",
       "      <th></th>\n",
       "      <th></th>\n",
       "    </tr>\n",
       "  </thead>\n",
       "  <tbody>\n",
       "    <tr>\n",
       "      <th>2017-04-19 18:00:00</th>\n",
       "      <td>LOSS</td>\n",
       "      <td>-0.01351</td>\n",
       "      <td>1.0</td>\n",
       "      <td>4.25821</td>\n",
       "      <td>4.20417</td>\n",
       "      <td>0.00846</td>\n",
       "    </tr>\n",
       "    <tr>\n",
       "      <th>2017-06-01 19:00:00</th>\n",
       "      <td>LOSS</td>\n",
       "      <td>-0.01375</td>\n",
       "      <td>4.0</td>\n",
       "      <td>4.20615</td>\n",
       "      <td>4.15115</td>\n",
       "      <td>0.00774</td>\n",
       "    </tr>\n",
       "  </tbody>\n",
       "</table>\n",
       "</div>"
      ],
      "text/plain": [
       "                       PL       gv  nswaps       sl       tp     size\n",
       "date                                                                 \n",
       "2017-04-19 18:00:00  LOSS -0.01351     1.0  4.25821  4.20417  0.00846\n",
       "2017-06-01 19:00:00  LOSS -0.01375     4.0  4.20615  4.15115  0.00774"
      ]
     },
     "metadata": {},
     "output_type": "display_data"
    },
    {
     "data": {
      "text/html": [
       "<h3>EURRUB</h3>"
      ],
      "text/plain": [
       "<IPython.core.display.HTML object>"
      ]
     },
     "metadata": {},
     "output_type": "display_data"
    },
    {
     "data": {
      "text/html": [
       "<b>Balance: </b> -4.602900 &nbsp;&nbsp;&nbsp;&nbsp; <b>Trades:</b>{'PROFIT': 1, 'LOSS': 7}"
      ],
      "text/plain": [
       "<IPython.core.display.HTML object>"
      ]
     },
     "metadata": {},
     "output_type": "display_data"
    },
    {
     "data": {
      "text/html": [
       "<b>Success rate: </b> 12.50%"
      ],
      "text/plain": [
       "<IPython.core.display.HTML object>"
      ]
     },
     "metadata": {},
     "output_type": "display_data"
    },
    {
     "name": "stdout",
     "output_type": "stream",
     "text": [
      "One month details:\n"
     ]
    },
    {
     "data": {
      "text/html": [
       "<div>\n",
       "<table border=\"1\" class=\"dataframe\">\n",
       "  <thead>\n",
       "    <tr style=\"text-align: right;\">\n",
       "      <th></th>\n",
       "      <th>PL</th>\n",
       "      <th>gv</th>\n",
       "      <th>nswaps</th>\n",
       "      <th>sl</th>\n",
       "      <th>tp</th>\n",
       "      <th>size</th>\n",
       "    </tr>\n",
       "    <tr>\n",
       "      <th>date</th>\n",
       "      <th></th>\n",
       "      <th></th>\n",
       "      <th></th>\n",
       "      <th></th>\n",
       "      <th></th>\n",
       "      <th></th>\n",
       "    </tr>\n",
       "  </thead>\n",
       "  <tbody>\n",
       "    <tr>\n",
       "      <th>2017-03-13 09:00:00</th>\n",
       "      <td>PROFIT</td>\n",
       "      <td>3.3162</td>\n",
       "      <td>17.0</td>\n",
       "      <td>63.6445</td>\n",
       "      <td>59.2229</td>\n",
       "      <td>0.2601</td>\n",
       "    </tr>\n",
       "    <tr>\n",
       "      <th>2017-04-26 10:00:00</th>\n",
       "      <td>LOSS</td>\n",
       "      <td>-1.0705</td>\n",
       "      <td>0.0</td>\n",
       "      <td>61.8122</td>\n",
       "      <td>57.5302</td>\n",
       "      <td>0.2525</td>\n",
       "    </tr>\n",
       "    <tr>\n",
       "      <th>2017-04-26 17:00:00</th>\n",
       "      <td>LOSS</td>\n",
       "      <td>-1.1607</td>\n",
       "      <td>6.0</td>\n",
       "      <td>62.3528</td>\n",
       "      <td>57.7100</td>\n",
       "      <td>0.3010</td>\n",
       "    </tr>\n",
       "    <tr>\n",
       "      <th>2017-04-27 10:00:00</th>\n",
       "      <td>LOSS</td>\n",
       "      <td>-1.0948</td>\n",
       "      <td>5.0</td>\n",
       "      <td>62.5525</td>\n",
       "      <td>58.1733</td>\n",
       "      <td>0.3416</td>\n",
       "    </tr>\n",
       "    <tr>\n",
       "      <th>2017-05-18 11:00:00</th>\n",
       "      <td>LOSS</td>\n",
       "      <td>-1.1634</td>\n",
       "      <td>22.0</td>\n",
       "      <td>64.5364</td>\n",
       "      <td>59.8828</td>\n",
       "      <td>0.2929</td>\n",
       "    </tr>\n",
       "    <tr>\n",
       "      <th>2017-05-18 15:00:00</th>\n",
       "      <td>LOSS</td>\n",
       "      <td>-1.2370</td>\n",
       "      <td>22.0</td>\n",
       "      <td>64.9065</td>\n",
       "      <td>59.9585</td>\n",
       "      <td>0.3854</td>\n",
       "    </tr>\n",
       "    <tr>\n",
       "      <th>2017-06-20 15:00:00</th>\n",
       "      <td>LOSS</td>\n",
       "      <td>-1.1341</td>\n",
       "      <td>1.0</td>\n",
       "      <td>66.5674</td>\n",
       "      <td>62.0310</td>\n",
       "      <td>0.2635</td>\n",
       "    </tr>\n",
       "    <tr>\n",
       "      <th>2017-06-20 17:00:00</th>\n",
       "      <td>LOSS</td>\n",
       "      <td>-1.0586</td>\n",
       "      <td>1.0</td>\n",
       "      <td>66.7710</td>\n",
       "      <td>62.5366</td>\n",
       "      <td>0.3499</td>\n",
       "    </tr>\n",
       "  </tbody>\n",
       "</table>\n",
       "</div>"
      ],
      "text/plain": [
       "                         PL      gv  nswaps       sl       tp    size\n",
       "date                                                                 \n",
       "2017-03-13 09:00:00  PROFIT  3.3162    17.0  63.6445  59.2229  0.2601\n",
       "2017-04-26 10:00:00    LOSS -1.0705     0.0  61.8122  57.5302  0.2525\n",
       "2017-04-26 17:00:00    LOSS -1.1607     6.0  62.3528  57.7100  0.3010\n",
       "2017-04-27 10:00:00    LOSS -1.0948     5.0  62.5525  58.1733  0.3416\n",
       "2017-05-18 11:00:00    LOSS -1.1634    22.0  64.5364  59.8828  0.2929\n",
       "2017-05-18 15:00:00    LOSS -1.2370    22.0  64.9065  59.9585  0.3854\n",
       "2017-06-20 15:00:00    LOSS -1.1341     1.0  66.5674  62.0310  0.2635\n",
       "2017-06-20 17:00:00    LOSS -1.0586     1.0  66.7710  62.5366  0.3499"
      ]
     },
     "metadata": {},
     "output_type": "display_data"
    },
    {
     "data": {
      "text/html": [
       "<h3>EURSEK</h3>"
      ],
      "text/plain": [
       "<IPython.core.display.HTML object>"
      ]
     },
     "metadata": {},
     "output_type": "display_data"
    },
    {
     "data": {
      "text/html": [
       "<b>Balance: </b> 0.039610 &nbsp;&nbsp;&nbsp;&nbsp; <b>Trades:</b>{'PROFIT': 1, 'LOSS': 1}"
      ],
      "text/plain": [
       "<IPython.core.display.HTML object>"
      ]
     },
     "metadata": {},
     "output_type": "display_data"
    },
    {
     "data": {
      "text/html": [
       "<b>Success rate: </b> 50.00%"
      ],
      "text/plain": [
       "<IPython.core.display.HTML object>"
      ]
     },
     "metadata": {},
     "output_type": "display_data"
    },
    {
     "name": "stdout",
     "output_type": "stream",
     "text": [
      "One month details:\n"
     ]
    },
    {
     "data": {
      "text/html": [
       "<div>\n",
       "<table border=\"1\" class=\"dataframe\">\n",
       "  <thead>\n",
       "    <tr style=\"text-align: right;\">\n",
       "      <th></th>\n",
       "      <th>PL</th>\n",
       "      <th>gv</th>\n",
       "      <th>nswaps</th>\n",
       "      <th>sl</th>\n",
       "      <th>tp</th>\n",
       "      <th>size</th>\n",
       "    </tr>\n",
       "    <tr>\n",
       "      <th>date</th>\n",
       "      <th></th>\n",
       "      <th></th>\n",
       "      <th></th>\n",
       "      <th></th>\n",
       "      <th></th>\n",
       "      <th></th>\n",
       "    </tr>\n",
       "  </thead>\n",
       "  <tbody>\n",
       "    <tr>\n",
       "      <th>2017-02-23 15:00:00</th>\n",
       "      <td>LOSS</td>\n",
       "      <td>-0.01646</td>\n",
       "      <td>0.0</td>\n",
       "      <td>9.50395</td>\n",
       "      <td>9.43811</td>\n",
       "      <td>0.00954</td>\n",
       "    </tr>\n",
       "    <tr>\n",
       "      <th>2017-05-04 22:00:00</th>\n",
       "      <td>PROFIT</td>\n",
       "      <td>0.05607</td>\n",
       "      <td>5.0</td>\n",
       "      <td>9.71510</td>\n",
       "      <td>9.64034</td>\n",
       "      <td>0.01515</td>\n",
       "    </tr>\n",
       "  </tbody>\n",
       "</table>\n",
       "</div>"
      ],
      "text/plain": [
       "                         PL       gv  nswaps       sl       tp     size\n",
       "date                                                                   \n",
       "2017-02-23 15:00:00    LOSS -0.01646     0.0  9.50395  9.43811  0.00954\n",
       "2017-05-04 22:00:00  PROFIT  0.05607     5.0  9.71510  9.64034  0.01515"
      ]
     },
     "metadata": {},
     "output_type": "display_data"
    },
    {
     "data": {
      "text/html": [
       "<h3>EURUSD</h3>"
      ],
      "text/plain": [
       "<IPython.core.display.HTML object>"
      ]
     },
     "metadata": {},
     "output_type": "display_data"
    },
    {
     "data": {
      "text/html": [
       "<b>Balance: </b> 0.001140 &nbsp;&nbsp;&nbsp;&nbsp; <b>Trades:</b>{'PROFIT': 1, 'LOSS': 3}"
      ],
      "text/plain": [
       "<IPython.core.display.HTML object>"
      ]
     },
     "metadata": {},
     "output_type": "display_data"
    },
    {
     "data": {
      "text/html": [
       "<b>Success rate: </b> 25.00%"
      ],
      "text/plain": [
       "<IPython.core.display.HTML object>"
      ]
     },
     "metadata": {},
     "output_type": "display_data"
    },
    {
     "name": "stdout",
     "output_type": "stream",
     "text": [
      "One month details:\n"
     ]
    },
    {
     "data": {
      "text/html": [
       "<div>\n",
       "<table border=\"1\" class=\"dataframe\">\n",
       "  <thead>\n",
       "    <tr style=\"text-align: right;\">\n",
       "      <th></th>\n",
       "      <th>PL</th>\n",
       "      <th>gv</th>\n",
       "      <th>nswaps</th>\n",
       "      <th>sl</th>\n",
       "      <th>tp</th>\n",
       "      <th>size</th>\n",
       "    </tr>\n",
       "    <tr>\n",
       "      <th>date</th>\n",
       "      <th></th>\n",
       "      <th></th>\n",
       "      <th></th>\n",
       "      <th></th>\n",
       "      <th></th>\n",
       "      <th></th>\n",
       "    </tr>\n",
       "  </thead>\n",
       "  <tbody>\n",
       "    <tr>\n",
       "      <th>2017-03-09 16:00:00</th>\n",
       "      <td>LOSS</td>\n",
       "      <td>-0.00251</td>\n",
       "      <td>1.0</td>\n",
       "      <td>1.06162</td>\n",
       "      <td>1.05158</td>\n",
       "      <td>0.00354</td>\n",
       "    </tr>\n",
       "    <tr>\n",
       "      <th>2017-04-12 23:00:00</th>\n",
       "      <td>LOSS</td>\n",
       "      <td>-0.00151</td>\n",
       "      <td>1.0</td>\n",
       "      <td>1.06763</td>\n",
       "      <td>1.06159</td>\n",
       "      <td>0.00175</td>\n",
       "    </tr>\n",
       "    <tr>\n",
       "      <th>2017-04-13 00:00:00</th>\n",
       "      <td>LOSS</td>\n",
       "      <td>-0.00087</td>\n",
       "      <td>0.0</td>\n",
       "      <td>1.06742</td>\n",
       "      <td>1.06394</td>\n",
       "      <td>0.00108</td>\n",
       "    </tr>\n",
       "    <tr>\n",
       "      <th>2017-06-14 17:00:00</th>\n",
       "      <td>PROFIT</td>\n",
       "      <td>0.00603</td>\n",
       "      <td>0.0</td>\n",
       "      <td>1.12970</td>\n",
       "      <td>1.12166</td>\n",
       "      <td>0.00257</td>\n",
       "    </tr>\n",
       "  </tbody>\n",
       "</table>\n",
       "</div>"
      ],
      "text/plain": [
       "                         PL       gv  nswaps       sl       tp     size\n",
       "date                                                                   \n",
       "2017-03-09 16:00:00    LOSS -0.00251     1.0  1.06162  1.05158  0.00354\n",
       "2017-04-12 23:00:00    LOSS -0.00151     1.0  1.06763  1.06159  0.00175\n",
       "2017-04-13 00:00:00    LOSS -0.00087     0.0  1.06742  1.06394  0.00108\n",
       "2017-06-14 17:00:00  PROFIT  0.00603     0.0  1.12970  1.12166  0.00257"
      ]
     },
     "metadata": {},
     "output_type": "display_data"
    },
    {
     "data": {
      "text/html": [
       "<h3>GBPCAD</h3>"
      ],
      "text/plain": [
       "<IPython.core.display.HTML object>"
      ]
     },
     "metadata": {},
     "output_type": "display_data"
    },
    {
     "data": {
      "text/html": [
       "<b>Balance: </b> -0.024440 &nbsp;&nbsp;&nbsp;&nbsp; <b>Trades:</b>{'LOSS': 4}"
      ],
      "text/plain": [
       "<IPython.core.display.HTML object>"
      ]
     },
     "metadata": {},
     "output_type": "display_data"
    },
    {
     "data": {
      "text/html": [
       "<b>Success rate: </b> 0.00%"
      ],
      "text/plain": [
       "<IPython.core.display.HTML object>"
      ]
     },
     "metadata": {},
     "output_type": "display_data"
    },
    {
     "name": "stdout",
     "output_type": "stream",
     "text": [
      "One month details:\n"
     ]
    },
    {
     "data": {
      "text/html": [
       "<div>\n",
       "<table border=\"1\" class=\"dataframe\">\n",
       "  <thead>\n",
       "    <tr style=\"text-align: right;\">\n",
       "      <th></th>\n",
       "      <th>PL</th>\n",
       "      <th>gv</th>\n",
       "      <th>nswaps</th>\n",
       "      <th>sl</th>\n",
       "      <th>tp</th>\n",
       "      <th>size</th>\n",
       "    </tr>\n",
       "    <tr>\n",
       "      <th>date</th>\n",
       "      <th></th>\n",
       "      <th></th>\n",
       "      <th></th>\n",
       "      <th></th>\n",
       "      <th></th>\n",
       "      <th></th>\n",
       "    </tr>\n",
       "  </thead>\n",
       "  <tbody>\n",
       "    <tr>\n",
       "      <th>2017-04-18 20:00:00</th>\n",
       "      <td>LOSS</td>\n",
       "      <td>-0.01196</td>\n",
       "      <td>2.0</td>\n",
       "      <td>1.72821</td>\n",
       "      <td>1.68037</td>\n",
       "      <td>0.01846</td>\n",
       "    </tr>\n",
       "    <tr>\n",
       "      <th>2017-04-19 15:00:00</th>\n",
       "      <td>LOSS</td>\n",
       "      <td>-0.00511</td>\n",
       "      <td>1.0</td>\n",
       "      <td>1.72844</td>\n",
       "      <td>1.70800</td>\n",
       "      <td>0.00439</td>\n",
       "    </tr>\n",
       "    <tr>\n",
       "      <th>2017-04-19 16:00:00</th>\n",
       "      <td>LOSS</td>\n",
       "      <td>-0.00389</td>\n",
       "      <td>1.0</td>\n",
       "      <td>1.72616</td>\n",
       "      <td>1.71060</td>\n",
       "      <td>0.00323</td>\n",
       "    </tr>\n",
       "    <tr>\n",
       "      <th>2017-04-25 12:00:00</th>\n",
       "      <td>LOSS</td>\n",
       "      <td>-0.00348</td>\n",
       "      <td>0.0</td>\n",
       "      <td>1.73982</td>\n",
       "      <td>1.72590</td>\n",
       "      <td>0.00262</td>\n",
       "    </tr>\n",
       "  </tbody>\n",
       "</table>\n",
       "</div>"
      ],
      "text/plain": [
       "                       PL       gv  nswaps       sl       tp     size\n",
       "date                                                                 \n",
       "2017-04-18 20:00:00  LOSS -0.01196     2.0  1.72821  1.68037  0.01846\n",
       "2017-04-19 15:00:00  LOSS -0.00511     1.0  1.72844  1.70800  0.00439\n",
       "2017-04-19 16:00:00  LOSS -0.00389     1.0  1.72616  1.71060  0.00323\n",
       "2017-04-25 12:00:00  LOSS -0.00348     0.0  1.73982  1.72590  0.00262"
      ]
     },
     "metadata": {},
     "output_type": "display_data"
    },
    {
     "data": {
      "text/html": [
       "<h3>GER30Cash</h3>"
      ],
      "text/plain": [
       "<IPython.core.display.HTML object>"
      ]
     },
     "metadata": {},
     "output_type": "display_data"
    },
    {
     "data": {
      "text/html": [
       "<b>Balance: </b> -40.610000 &nbsp;&nbsp;&nbsp;&nbsp; <b>Trades:</b>{'PROFIT': 1, 'LOSS': 4}"
      ],
      "text/plain": [
       "<IPython.core.display.HTML object>"
      ]
     },
     "metadata": {},
     "output_type": "display_data"
    },
    {
     "data": {
      "text/html": [
       "<b>Success rate: </b> 20.00%"
      ],
      "text/plain": [
       "<IPython.core.display.HTML object>"
      ]
     },
     "metadata": {},
     "output_type": "display_data"
    },
    {
     "name": "stdout",
     "output_type": "stream",
     "text": [
      "One month details:\n"
     ]
    },
    {
     "data": {
      "text/html": [
       "<div>\n",
       "<table border=\"1\" class=\"dataframe\">\n",
       "  <thead>\n",
       "    <tr style=\"text-align: right;\">\n",
       "      <th></th>\n",
       "      <th>PL</th>\n",
       "      <th>gv</th>\n",
       "      <th>nswaps</th>\n",
       "      <th>sl</th>\n",
       "      <th>tp</th>\n",
       "      <th>size</th>\n",
       "    </tr>\n",
       "    <tr>\n",
       "      <th>date</th>\n",
       "      <th></th>\n",
       "      <th></th>\n",
       "      <th></th>\n",
       "      <th></th>\n",
       "      <th></th>\n",
       "      <th></th>\n",
       "    </tr>\n",
       "  </thead>\n",
       "  <tbody>\n",
       "    <tr>\n",
       "      <th>2017-03-28 21:00:00</th>\n",
       "      <td>LOSS</td>\n",
       "      <td>-25.31</td>\n",
       "      <td>1.0</td>\n",
       "      <td>12186.41</td>\n",
       "      <td>12085.17</td>\n",
       "      <td>21.3</td>\n",
       "    </tr>\n",
       "    <tr>\n",
       "      <th>2017-03-31 20:00:00</th>\n",
       "      <td>LOSS</td>\n",
       "      <td>-19.51</td>\n",
       "      <td>1.0</td>\n",
       "      <td>12343.11</td>\n",
       "      <td>12265.07</td>\n",
       "      <td>27.0</td>\n",
       "    </tr>\n",
       "    <tr>\n",
       "      <th>2017-03-31 22:00:00</th>\n",
       "      <td>LOSS</td>\n",
       "      <td>-24.01</td>\n",
       "      <td>1.0</td>\n",
       "      <td>12340.11</td>\n",
       "      <td>12244.07</td>\n",
       "      <td>21.8</td>\n",
       "    </tr>\n",
       "    <tr>\n",
       "      <th>2017-06-19 16:00:00</th>\n",
       "      <td>LOSS</td>\n",
       "      <td>-24.31</td>\n",
       "      <td>0.0</td>\n",
       "      <td>12901.81</td>\n",
       "      <td>12804.57</td>\n",
       "      <td>30.3</td>\n",
       "    </tr>\n",
       "    <tr>\n",
       "      <th>2017-06-20 11:00:00</th>\n",
       "      <td>PROFIT</td>\n",
       "      <td>52.53</td>\n",
       "      <td>0.0</td>\n",
       "      <td>12951.01</td>\n",
       "      <td>12880.97</td>\n",
       "      <td>19.0</td>\n",
       "    </tr>\n",
       "  </tbody>\n",
       "</table>\n",
       "</div>"
      ],
      "text/plain": [
       "                         PL     gv  nswaps        sl        tp  size\n",
       "date                                                                \n",
       "2017-03-28 21:00:00    LOSS -25.31     1.0  12186.41  12085.17  21.3\n",
       "2017-03-31 20:00:00    LOSS -19.51     1.0  12343.11  12265.07  27.0\n",
       "2017-03-31 22:00:00    LOSS -24.01     1.0  12340.11  12244.07  21.8\n",
       "2017-06-19 16:00:00    LOSS -24.31     0.0  12901.81  12804.57  30.3\n",
       "2017-06-20 11:00:00  PROFIT  52.53     0.0  12951.01  12880.97  19.0"
      ]
     },
     "metadata": {},
     "output_type": "display_data"
    },
    {
     "data": {
      "text/html": [
       "<h3>GOLD</h3>"
      ],
      "text/plain": [
       "<IPython.core.display.HTML object>"
      ]
     },
     "metadata": {},
     "output_type": "display_data"
    },
    {
     "data": {
      "text/html": [
       "<b>Balance: </b> -23.600000 &nbsp;&nbsp;&nbsp;&nbsp; <b>Trades:</b>{'LOSS': 7}"
      ],
      "text/plain": [
       "<IPython.core.display.HTML object>"
      ]
     },
     "metadata": {},
     "output_type": "display_data"
    },
    {
     "data": {
      "text/html": [
       "<b>Success rate: </b> 0.00%"
      ],
      "text/plain": [
       "<IPython.core.display.HTML object>"
      ]
     },
     "metadata": {},
     "output_type": "display_data"
    },
    {
     "name": "stdout",
     "output_type": "stream",
     "text": [
      "One month details:\n"
     ]
    },
    {
     "data": {
      "text/html": [
       "<div>\n",
       "<table border=\"1\" class=\"dataframe\">\n",
       "  <thead>\n",
       "    <tr style=\"text-align: right;\">\n",
       "      <th></th>\n",
       "      <th>PL</th>\n",
       "      <th>gv</th>\n",
       "      <th>nswaps</th>\n",
       "      <th>sl</th>\n",
       "      <th>tp</th>\n",
       "      <th>size</th>\n",
       "    </tr>\n",
       "    <tr>\n",
       "      <th>date</th>\n",
       "      <th></th>\n",
       "      <th></th>\n",
       "      <th></th>\n",
       "      <th></th>\n",
       "      <th></th>\n",
       "      <th></th>\n",
       "    </tr>\n",
       "  </thead>\n",
       "  <tbody>\n",
       "    <tr>\n",
       "      <th>2017-03-16 02:00:00</th>\n",
       "      <td>LOSS</td>\n",
       "      <td>-2.54</td>\n",
       "      <td>0.0</td>\n",
       "      <td>1223.81</td>\n",
       "      <td>1213.65</td>\n",
       "      <td>3.47</td>\n",
       "    </tr>\n",
       "    <tr>\n",
       "      <th>2017-04-04 11:00:00</th>\n",
       "      <td>LOSS</td>\n",
       "      <td>-2.95</td>\n",
       "      <td>0.0</td>\n",
       "      <td>1260.35</td>\n",
       "      <td>1248.55</td>\n",
       "      <td>2.35</td>\n",
       "    </tr>\n",
       "    <tr>\n",
       "      <th>2017-04-07 05:00:00</th>\n",
       "      <td>LOSS</td>\n",
       "      <td>-5.46</td>\n",
       "      <td>0.0</td>\n",
       "      <td>1269.68</td>\n",
       "      <td>1247.84</td>\n",
       "      <td>4.94</td>\n",
       "    </tr>\n",
       "    <tr>\n",
       "      <th>2017-04-11 21:00:00</th>\n",
       "      <td>LOSS</td>\n",
       "      <td>-2.28</td>\n",
       "      <td>1.0</td>\n",
       "      <td>1275.37</td>\n",
       "      <td>1266.25</td>\n",
       "      <td>2.54</td>\n",
       "    </tr>\n",
       "    <tr>\n",
       "      <th>2017-04-12 04:00:00</th>\n",
       "      <td>LOSS</td>\n",
       "      <td>-3.47</td>\n",
       "      <td>0.0</td>\n",
       "      <td>1280.09</td>\n",
       "      <td>1266.21</td>\n",
       "      <td>3.40</td>\n",
       "    </tr>\n",
       "    <tr>\n",
       "      <th>2017-05-17 13:00:00</th>\n",
       "      <td>LOSS</td>\n",
       "      <td>-4.11</td>\n",
       "      <td>0.0</td>\n",
       "      <td>1249.09</td>\n",
       "      <td>1232.65</td>\n",
       "      <td>3.57</td>\n",
       "    </tr>\n",
       "    <tr>\n",
       "      <th>2017-06-05 04:00:00</th>\n",
       "      <td>LOSS</td>\n",
       "      <td>-2.79</td>\n",
       "      <td>0.0</td>\n",
       "      <td>1282.28</td>\n",
       "      <td>1271.12</td>\n",
       "      <td>2.20</td>\n",
       "    </tr>\n",
       "  </tbody>\n",
       "</table>\n",
       "</div>"
      ],
      "text/plain": [
       "                       PL    gv  nswaps       sl       tp  size\n",
       "date                                                           \n",
       "2017-03-16 02:00:00  LOSS -2.54     0.0  1223.81  1213.65  3.47\n",
       "2017-04-04 11:00:00  LOSS -2.95     0.0  1260.35  1248.55  2.35\n",
       "2017-04-07 05:00:00  LOSS -5.46     0.0  1269.68  1247.84  4.94\n",
       "2017-04-11 21:00:00  LOSS -2.28     1.0  1275.37  1266.25  2.54\n",
       "2017-04-12 04:00:00  LOSS -3.47     0.0  1280.09  1266.21  3.40\n",
       "2017-05-17 13:00:00  LOSS -4.11     0.0  1249.09  1232.65  3.57\n",
       "2017-06-05 04:00:00  LOSS -2.79     0.0  1282.28  1271.12  2.20"
      ]
     },
     "metadata": {},
     "output_type": "display_data"
    },
    {
     "data": {
      "text/html": [
       "<h3>POL20Cash</h3>"
      ],
      "text/plain": [
       "<IPython.core.display.HTML object>"
      ]
     },
     "metadata": {},
     "output_type": "display_data"
    },
    {
     "data": {
      "text/html": [
       "<b>Balance: </b> -40.000000 &nbsp;&nbsp;&nbsp;&nbsp; <b>Trades:</b>{'PROFIT': 1, 'LOSS': 5}"
      ],
      "text/plain": [
       "<IPython.core.display.HTML object>"
      ]
     },
     "metadata": {},
     "output_type": "display_data"
    },
    {
     "data": {
      "text/html": [
       "<b>Success rate: </b> 16.67%"
      ],
      "text/plain": [
       "<IPython.core.display.HTML object>"
      ]
     },
     "metadata": {},
     "output_type": "display_data"
    },
    {
     "name": "stdout",
     "output_type": "stream",
     "text": [
      "One month details:\n"
     ]
    },
    {
     "data": {
      "text/html": [
       "<div>\n",
       "<table border=\"1\" class=\"dataframe\">\n",
       "  <thead>\n",
       "    <tr style=\"text-align: right;\">\n",
       "      <th></th>\n",
       "      <th>PL</th>\n",
       "      <th>gv</th>\n",
       "      <th>nswaps</th>\n",
       "      <th>sl</th>\n",
       "      <th>tp</th>\n",
       "      <th>size</th>\n",
       "    </tr>\n",
       "    <tr>\n",
       "      <th>date</th>\n",
       "      <th></th>\n",
       "      <th></th>\n",
       "      <th></th>\n",
       "      <th></th>\n",
       "      <th></th>\n",
       "      <th></th>\n",
       "    </tr>\n",
       "  </thead>\n",
       "  <tbody>\n",
       "    <tr>\n",
       "      <th>2017-01-04 16:00:00</th>\n",
       "      <td>LOSS</td>\n",
       "      <td>-11.0</td>\n",
       "      <td>1.0</td>\n",
       "      <td>1998.0</td>\n",
       "      <td>1954.0</td>\n",
       "      <td>8.0</td>\n",
       "    </tr>\n",
       "    <tr>\n",
       "      <th>2017-02-10 10:00:00</th>\n",
       "      <td>LOSS</td>\n",
       "      <td>-18.0</td>\n",
       "      <td>1.0</td>\n",
       "      <td>2162.0</td>\n",
       "      <td>2090.0</td>\n",
       "      <td>12.0</td>\n",
       "    </tr>\n",
       "    <tr>\n",
       "      <th>2017-02-13 12:00:00</th>\n",
       "      <td>LOSS</td>\n",
       "      <td>-12.0</td>\n",
       "      <td>2.0</td>\n",
       "      <td>2189.0</td>\n",
       "      <td>2141.0</td>\n",
       "      <td>10.0</td>\n",
       "    </tr>\n",
       "    <tr>\n",
       "      <th>2017-02-22 10:00:00</th>\n",
       "      <td>LOSS</td>\n",
       "      <td>-22.0</td>\n",
       "      <td>1.0</td>\n",
       "      <td>2264.0</td>\n",
       "      <td>2176.0</td>\n",
       "      <td>15.0</td>\n",
       "    </tr>\n",
       "    <tr>\n",
       "      <th>2017-04-05 16:45:00</th>\n",
       "      <td>PROFIT</td>\n",
       "      <td>39.0</td>\n",
       "      <td>4.0</td>\n",
       "      <td>2268.0</td>\n",
       "      <td>2216.0</td>\n",
       "      <td>10.0</td>\n",
       "    </tr>\n",
       "    <tr>\n",
       "      <th>2017-04-28 10:45:00</th>\n",
       "      <td>LOSS</td>\n",
       "      <td>-16.0</td>\n",
       "      <td>2.0</td>\n",
       "      <td>2403.0</td>\n",
       "      <td>2339.0</td>\n",
       "      <td>13.0</td>\n",
       "    </tr>\n",
       "  </tbody>\n",
       "</table>\n",
       "</div>"
      ],
      "text/plain": [
       "                         PL    gv  nswaps      sl      tp  size\n",
       "date                                                           \n",
       "2017-01-04 16:00:00    LOSS -11.0     1.0  1998.0  1954.0   8.0\n",
       "2017-02-10 10:00:00    LOSS -18.0     1.0  2162.0  2090.0  12.0\n",
       "2017-02-13 12:00:00    LOSS -12.0     2.0  2189.0  2141.0  10.0\n",
       "2017-02-22 10:00:00    LOSS -22.0     1.0  2264.0  2176.0  15.0\n",
       "2017-04-05 16:45:00  PROFIT  39.0     4.0  2268.0  2216.0  10.0\n",
       "2017-04-28 10:45:00    LOSS -16.0     2.0  2403.0  2339.0  13.0"
      ]
     },
     "metadata": {},
     "output_type": "display_data"
    },
    {
     "data": {
      "text/html": [
       "<h3>SILVER</h3>"
      ],
      "text/plain": [
       "<IPython.core.display.HTML object>"
      ]
     },
     "metadata": {},
     "output_type": "display_data"
    },
    {
     "data": {
      "text/html": [
       "<b>Balance: </b> -0.582000 &nbsp;&nbsp;&nbsp;&nbsp; <b>Trades:</b>{'LOSS': 4}"
      ],
      "text/plain": [
       "<IPython.core.display.HTML object>"
      ]
     },
     "metadata": {},
     "output_type": "display_data"
    },
    {
     "data": {
      "text/html": [
       "<b>Success rate: </b> 0.00%"
      ],
      "text/plain": [
       "<IPython.core.display.HTML object>"
      ]
     },
     "metadata": {},
     "output_type": "display_data"
    },
    {
     "name": "stdout",
     "output_type": "stream",
     "text": [
      "One month details:\n"
     ]
    },
    {
     "data": {
      "text/html": [
       "<div>\n",
       "<table border=\"1\" class=\"dataframe\">\n",
       "  <thead>\n",
       "    <tr style=\"text-align: right;\">\n",
       "      <th></th>\n",
       "      <th>PL</th>\n",
       "      <th>gv</th>\n",
       "      <th>nswaps</th>\n",
       "      <th>sl</th>\n",
       "      <th>tp</th>\n",
       "      <th>size</th>\n",
       "    </tr>\n",
       "    <tr>\n",
       "      <th>date</th>\n",
       "      <th></th>\n",
       "      <th></th>\n",
       "      <th></th>\n",
       "      <th></th>\n",
       "      <th></th>\n",
       "      <th></th>\n",
       "    </tr>\n",
       "  </thead>\n",
       "  <tbody>\n",
       "    <tr>\n",
       "      <th>2017-03-16 02:00:00</th>\n",
       "      <td>LOSS</td>\n",
       "      <td>-0.134</td>\n",
       "      <td>0.0</td>\n",
       "      <td>17.430</td>\n",
       "      <td>16.894</td>\n",
       "      <td>0.077</td>\n",
       "    </tr>\n",
       "    <tr>\n",
       "      <th>2017-03-24 16:00:00</th>\n",
       "      <td>LOSS</td>\n",
       "      <td>-0.139</td>\n",
       "      <td>1.0</td>\n",
       "      <td>17.796</td>\n",
       "      <td>17.240</td>\n",
       "      <td>0.066</td>\n",
       "    </tr>\n",
       "    <tr>\n",
       "      <th>2017-03-28 18:00:00</th>\n",
       "      <td>LOSS</td>\n",
       "      <td>-0.158</td>\n",
       "      <td>2.0</td>\n",
       "      <td>18.261</td>\n",
       "      <td>17.629</td>\n",
       "      <td>0.072</td>\n",
       "    </tr>\n",
       "    <tr>\n",
       "      <th>2017-04-12 04:00:00</th>\n",
       "      <td>LOSS</td>\n",
       "      <td>-0.151</td>\n",
       "      <td>0.0</td>\n",
       "      <td>18.452</td>\n",
       "      <td>17.848</td>\n",
       "      <td>0.065</td>\n",
       "    </tr>\n",
       "  </tbody>\n",
       "</table>\n",
       "</div>"
      ],
      "text/plain": [
       "                       PL     gv  nswaps      sl      tp   size\n",
       "date                                                           \n",
       "2017-03-16 02:00:00  LOSS -0.134     0.0  17.430  16.894  0.077\n",
       "2017-03-24 16:00:00  LOSS -0.139     1.0  17.796  17.240  0.066\n",
       "2017-03-28 18:00:00  LOSS -0.158     2.0  18.261  17.629  0.072\n",
       "2017-04-12 04:00:00  LOSS -0.151     0.0  18.452  17.848  0.065"
      ]
     },
     "metadata": {},
     "output_type": "display_data"
    },
    {
     "data": {
      "text/html": [
       "<h3>SUGAR-JUL17</h3>"
      ],
      "text/plain": [
       "<IPython.core.display.HTML object>"
      ]
     },
     "metadata": {},
     "output_type": "display_data"
    },
    {
     "data": {
      "text/html": [
       "<b>Balance: </b> 0.000000 &nbsp;&nbsp;&nbsp;&nbsp; <b>Trades:</b>{}"
      ],
      "text/plain": [
       "<IPython.core.display.HTML object>"
      ]
     },
     "metadata": {},
     "output_type": "display_data"
    },
    {
     "data": {
      "text/html": [
       "<b>Success rate: </b> 0.00%"
      ],
      "text/plain": [
       "<IPython.core.display.HTML object>"
      ]
     },
     "metadata": {},
     "output_type": "display_data"
    },
    {
     "name": "stdout",
     "output_type": "stream",
     "text": [
      "One month details:\n"
     ]
    },
    {
     "data": {
      "text/html": [
       "<div>\n",
       "<table border=\"1\" class=\"dataframe\">\n",
       "  <thead>\n",
       "    <tr style=\"text-align: right;\">\n",
       "      <th></th>\n",
       "      <th>PL</th>\n",
       "      <th>gv</th>\n",
       "      <th>nswaps</th>\n",
       "      <th>sl</th>\n",
       "      <th>tp</th>\n",
       "      <th>size</th>\n",
       "    </tr>\n",
       "    <tr>\n",
       "      <th>date</th>\n",
       "      <th></th>\n",
       "      <th></th>\n",
       "      <th></th>\n",
       "      <th></th>\n",
       "      <th></th>\n",
       "      <th></th>\n",
       "    </tr>\n",
       "  </thead>\n",
       "  <tbody>\n",
       "  </tbody>\n",
       "</table>\n",
       "</div>"
      ],
      "text/plain": [
       "Empty DataFrame\n",
       "Columns: [PL, gv, nswaps, sl, tp, size]\n",
       "Index: []"
      ]
     },
     "metadata": {},
     "output_type": "display_data"
    },
    {
     "data": {
      "text/html": [
       "<h3>US30Cash</h3>"
      ],
      "text/plain": [
       "<IPython.core.display.HTML object>"
      ]
     },
     "metadata": {},
     "output_type": "display_data"
    },
    {
     "data": {
      "text/html": [
       "<b>Balance: </b> -83.330000 &nbsp;&nbsp;&nbsp;&nbsp; <b>Trades:</b>{'LOSS': 3}"
      ],
      "text/plain": [
       "<IPython.core.display.HTML object>"
      ]
     },
     "metadata": {},
     "output_type": "display_data"
    },
    {
     "data": {
      "text/html": [
       "<b>Success rate: </b> 0.00%"
      ],
      "text/plain": [
       "<IPython.core.display.HTML object>"
      ]
     },
     "metadata": {},
     "output_type": "display_data"
    },
    {
     "name": "stdout",
     "output_type": "stream",
     "text": [
      "One month details:\n"
     ]
    },
    {
     "data": {
      "text/html": [
       "<div>\n",
       "<table border=\"1\" class=\"dataframe\">\n",
       "  <thead>\n",
       "    <tr style=\"text-align: right;\">\n",
       "      <th></th>\n",
       "      <th>PL</th>\n",
       "      <th>gv</th>\n",
       "      <th>nswaps</th>\n",
       "      <th>sl</th>\n",
       "      <th>tp</th>\n",
       "      <th>size</th>\n",
       "    </tr>\n",
       "    <tr>\n",
       "      <th>date</th>\n",
       "      <th></th>\n",
       "      <th></th>\n",
       "      <th></th>\n",
       "      <th></th>\n",
       "      <th></th>\n",
       "      <th></th>\n",
       "    </tr>\n",
       "  </thead>\n",
       "  <tbody>\n",
       "    <tr>\n",
       "      <th>2017-04-24 02:00:00</th>\n",
       "      <td>LOSS</td>\n",
       "      <td>-30.61</td>\n",
       "      <td>0.0</td>\n",
       "      <td>20741.81</td>\n",
       "      <td>20619.37</td>\n",
       "      <td>26.5</td>\n",
       "    </tr>\n",
       "    <tr>\n",
       "      <th>2017-04-25 22:00:00</th>\n",
       "      <td>LOSS</td>\n",
       "      <td>-31.11</td>\n",
       "      <td>1.0</td>\n",
       "      <td>21025.31</td>\n",
       "      <td>20900.87</td>\n",
       "      <td>28.0</td>\n",
       "    </tr>\n",
       "    <tr>\n",
       "      <th>2017-06-19 20:00:00</th>\n",
       "      <td>LOSS</td>\n",
       "      <td>-21.61</td>\n",
       "      <td>0.0</td>\n",
       "      <td>21522.01</td>\n",
       "      <td>21435.57</td>\n",
       "      <td>20.5</td>\n",
       "    </tr>\n",
       "  </tbody>\n",
       "</table>\n",
       "</div>"
      ],
      "text/plain": [
       "                       PL     gv  nswaps        sl        tp  size\n",
       "date                                                              \n",
       "2017-04-24 02:00:00  LOSS -30.61     0.0  20741.81  20619.37  26.5\n",
       "2017-04-25 22:00:00  LOSS -31.11     1.0  21025.31  20900.87  28.0\n",
       "2017-06-19 20:00:00  LOSS -21.61     0.0  21522.01  21435.57  20.5"
      ]
     },
     "metadata": {},
     "output_type": "display_data"
    },
    {
     "data": {
      "text/html": [
       "<h3>USDCAD</h3>"
      ],
      "text/plain": [
       "<IPython.core.display.HTML object>"
      ]
     },
     "metadata": {},
     "output_type": "display_data"
    },
    {
     "data": {
      "text/html": [
       "<b>Balance: </b> -0.003350 &nbsp;&nbsp;&nbsp;&nbsp; <b>Trades:</b>{'LOSS': 2}"
      ],
      "text/plain": [
       "<IPython.core.display.HTML object>"
      ]
     },
     "metadata": {},
     "output_type": "display_data"
    },
    {
     "data": {
      "text/html": [
       "<b>Success rate: </b> 0.00%"
      ],
      "text/plain": [
       "<IPython.core.display.HTML object>"
      ]
     },
     "metadata": {},
     "output_type": "display_data"
    },
    {
     "name": "stdout",
     "output_type": "stream",
     "text": [
      "One month details:\n"
     ]
    },
    {
     "data": {
      "text/html": [
       "<div>\n",
       "<table border=\"1\" class=\"dataframe\">\n",
       "  <thead>\n",
       "    <tr style=\"text-align: right;\">\n",
       "      <th></th>\n",
       "      <th>PL</th>\n",
       "      <th>gv</th>\n",
       "      <th>nswaps</th>\n",
       "      <th>sl</th>\n",
       "      <th>tp</th>\n",
       "      <th>size</th>\n",
       "    </tr>\n",
       "    <tr>\n",
       "      <th>date</th>\n",
       "      <th></th>\n",
       "      <th></th>\n",
       "      <th></th>\n",
       "      <th></th>\n",
       "      <th></th>\n",
       "      <th></th>\n",
       "    </tr>\n",
       "  </thead>\n",
       "  <tbody>\n",
       "    <tr>\n",
       "      <th>2017-02-28 20:00:00</th>\n",
       "      <td>LOSS</td>\n",
       "      <td>-0.00199</td>\n",
       "      <td>0.0</td>\n",
       "      <td>1.32883</td>\n",
       "      <td>1.32087</td>\n",
       "      <td>0.00157</td>\n",
       "    </tr>\n",
       "    <tr>\n",
       "      <th>2017-04-19 15:00:00</th>\n",
       "      <td>LOSS</td>\n",
       "      <td>-0.00136</td>\n",
       "      <td>0.0</td>\n",
       "      <td>1.34447</td>\n",
       "      <td>1.33903</td>\n",
       "      <td>0.00151</td>\n",
       "    </tr>\n",
       "  </tbody>\n",
       "</table>\n",
       "</div>"
      ],
      "text/plain": [
       "                       PL       gv  nswaps       sl       tp     size\n",
       "date                                                                 \n",
       "2017-02-28 20:00:00  LOSS -0.00199     0.0  1.32883  1.32087  0.00157\n",
       "2017-04-19 15:00:00  LOSS -0.00136     0.0  1.34447  1.33903  0.00151"
      ]
     },
     "metadata": {},
     "output_type": "display_data"
    },
    {
     "data": {
      "text/html": [
       "<h3>USDCHF</h3>"
      ],
      "text/plain": [
       "<IPython.core.display.HTML object>"
      ]
     },
     "metadata": {},
     "output_type": "display_data"
    },
    {
     "data": {
      "text/html": [
       "<b>Balance: </b> -0.001090 &nbsp;&nbsp;&nbsp;&nbsp; <b>Trades:</b>{'LOSS': 1}"
      ],
      "text/plain": [
       "<IPython.core.display.HTML object>"
      ]
     },
     "metadata": {},
     "output_type": "display_data"
    },
    {
     "data": {
      "text/html": [
       "<b>Success rate: </b> 0.00%"
      ],
      "text/plain": [
       "<IPython.core.display.HTML object>"
      ]
     },
     "metadata": {},
     "output_type": "display_data"
    },
    {
     "name": "stdout",
     "output_type": "stream",
     "text": [
      "One month details:\n"
     ]
    },
    {
     "data": {
      "text/html": [
       "<div>\n",
       "<table border=\"1\" class=\"dataframe\">\n",
       "  <thead>\n",
       "    <tr style=\"text-align: right;\">\n",
       "      <th></th>\n",
       "      <th>PL</th>\n",
       "      <th>gv</th>\n",
       "      <th>nswaps</th>\n",
       "      <th>sl</th>\n",
       "      <th>tp</th>\n",
       "      <th>size</th>\n",
       "    </tr>\n",
       "    <tr>\n",
       "      <th>date</th>\n",
       "      <th></th>\n",
       "      <th></th>\n",
       "      <th></th>\n",
       "      <th></th>\n",
       "      <th></th>\n",
       "      <th></th>\n",
       "    </tr>\n",
       "  </thead>\n",
       "  <tbody>\n",
       "    <tr>\n",
       "      <th>2017-05-10 18:00:00</th>\n",
       "      <td>LOSS</td>\n",
       "      <td>-0.00109</td>\n",
       "      <td>1.0</td>\n",
       "      <td>1.00963</td>\n",
       "      <td>1.00527</td>\n",
       "      <td>0.0013</td>\n",
       "    </tr>\n",
       "  </tbody>\n",
       "</table>\n",
       "</div>"
      ],
      "text/plain": [
       "                       PL       gv  nswaps       sl       tp    size\n",
       "date                                                                \n",
       "2017-05-10 18:00:00  LOSS -0.00109     1.0  1.00963  1.00527  0.0013"
      ]
     },
     "metadata": {},
     "output_type": "display_data"
    }
   ],
   "source": [
    "for iname in sorted(INSTRUMENTS.keys()):\n",
    "    inst = INSTRUMENTS[iname]\n",
    "    if inst.results is not None:\n",
    "        display(HTML('<h3>%s</h3>' % iname))\n",
    "        display(HTML('<b>Balance: </b> %f &nbsp;&nbsp;&nbsp;&nbsp; <b>Trades:</b>%s' % (inst.balance, inst.stats)))\n",
    "        display(HTML('<b>Success rate: </b> %.2f%%' % (100. * inst.success_rate)))\n",
    "        print(\"One month details:\")\n",
    "        #display(inst.results['2017/06/01':])        \n",
    "        display(inst.results[:])        "
   ]
  },
  {
   "cell_type": "markdown",
   "metadata": {},
   "source": [
    "<a id=\"eksperyment4summary\"></a>\n",
    "### Podsumowanie zbiorcze - spadające gwiazdy"
   ]
  },
  {
   "cell_type": "code",
   "execution_count": 68,
   "metadata": {
    "scrolled": false
   },
   "outputs": [
    {
     "name": "stdout",
     "output_type": "stream",
     "text": [
      "     AUDCAD   -0.00454\n",
      "     AUDCHF   -0.00376\n",
      "     AUDJPY   0.286\n",
      "     AUDNZD   -0.00191\n",
      "BRENT-AUG17   -0.9\n",
      "     CADJPY   0.45\n",
      "COCOA-SEP17   0\n",
      "     EURAUD   -0.00227\n",
      "     EURCHF   0.00051\n",
      "     EURDKK   -0.00434\n",
      "     EURHKD   -0.07229\n",
      "     EURNOK   -0.17586\n",
      "     EURPLN   -0.02726\n",
      "     EURRUB   -4.6029\n",
      "     EURSEK   0.03961\n",
      "     EURUSD   0.00114\n",
      "     GBPCAD   -0.02444\n",
      "  GER30Cash   -40.61\n",
      "       GOLD   -23.6\n",
      "  POL20Cash   -40\n",
      "     SILVER   -0.582\n",
      "SUGAR-JUL17   0\n",
      "   US30Cash   -83.33\n",
      "     USDCAD   -0.00335\n",
      "     USDCHF   -0.00109\n",
      "\n",
      "5/25 (20.00%)\n",
      "\n",
      "12 90\n"
     ]
    }
   ],
   "source": [
    "posivite_instruments = 0\n",
    "for iname in sorted(INSTRUMENTS.keys()):\n",
    "    print('%11s   %g' % (iname, INSTRUMENTS[iname].balance))\n",
    "    if INSTRUMENTS[iname].balance > 0:\n",
    "        posivite_instruments += 1\n",
    "print()\n",
    "print(\"%d/%d (%.2f%%)\" % (posivite_instruments, len(INSTRUMENTS),  100. * posivite_instruments / len(INSTRUMENTS)))\n",
    "print()\n",
    "\n",
    "total_nloss = 0\n",
    "total_nprofit = 0\n",
    "for iname in sorted(INSTRUMENTS.keys()):\n",
    "    total_nloss += INSTRUMENTS[iname].stats.get('LOSS', 0)\n",
    "    total_nprofit += INSTRUMENTS[iname].stats.get('PROFIT', 0)\n",
    "    #print(iname, str(INSTRUMENTS[iname].stats))\n",
    "    #if INSTRUMENTS[iname].balance > 0:\n",
    "    #    posivite_instruments += 1\n",
    "print(\"%d %d\" % (total_nprofit, total_nprofit + total_nloss))"
   ]
  },
  {
   "cell_type": "code",
   "execution_count": null,
   "metadata": {
    "collapsed": true
   },
   "outputs": [],
   "source": []
  }
 ],
 "metadata": {
  "kernelspec": {
   "display_name": "Python 3",
   "language": "python",
   "name": "python3"
  },
  "language_info": {
   "codemirror_mode": {
    "name": "ipython",
    "version": 3
   },
   "file_extension": ".py",
   "mimetype": "text/x-python",
   "name": "python",
   "nbconvert_exporter": "python",
   "pygments_lexer": "ipython3",
   "version": "3.5.2"
  }
 },
 "nbformat": 4,
 "nbformat_minor": 2
}
