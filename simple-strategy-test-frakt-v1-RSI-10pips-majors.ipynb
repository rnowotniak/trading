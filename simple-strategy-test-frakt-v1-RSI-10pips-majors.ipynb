{
 "cells": [
  {
   "cell_type": "markdown",
   "metadata": {},
   "source": [
    "# Analiza - sprawdzenie bardzo prostej strategii opartej jedynie na dwóch formacjach świecowych + \"zasada 11/20\" + dodatkowo RSI\n",
    "\n",
    "<h3>\n",
    "<center>\n",
    "Robert Nowotniak <rnowotniak@gmail.com><br/>\n",
    "w oparciu o metodykę Fraktal Trader Moduł 1, formacje świecowe\n",
    "</center>\n",
    "</h3>"
   ]
  },
  {
   "cell_type": "markdown",
   "metadata": {},
   "source": [
    "* [Eksperyment 1) Analiza młotków - EURUSD 1h](#eksperyment1)\n",
    "\n",
    "* [Eksperyment 2) Spadające gwiazdy - Dow Jones 1h](#eksperyment2)\n",
    "\n",
    "* [Eksperyment 3) Analiza zbiorcza dla wszystkich walorów - Młotki](#eksperyment3)\n",
    "\n",
    "* [Eksperyment 3) - Podsumowanie zbiorcze](#eksperyment3summary)\n",
    " \n",
    "* [Eksperyment 4) Analiza zbiorcza dla wszystkich walorów - Spadające gwiazdy](#eksperyment4)\n",
    "\n",
    "* [Eksperyment 4) - Podsumowanie zbiorcze](#eksperyment4summary)"
   ]
  },
  {
   "cell_type": "code",
   "execution_count": 5,
   "metadata": {
    "collapsed": true
   },
   "outputs": [],
   "source": [
    "import pandas as pd\n",
    "import numpy as np\n",
    "import pandas_datareader.data as web\n",
    "import talib\n",
    "import talib.abstract as ta\n",
    "from datetime import datetime\n",
    "import matplotlib.pyplot as plt\n",
    "from IPython.core.display import HTML\n",
    "import seaborn as sns\n",
    "import glob, os.path\n",
    "sns.set_style('whitegrid')\n",
    "%matplotlib inline"
   ]
  },
  {
   "cell_type": "code",
   "execution_count": 6,
   "metadata": {
    "collapsed": true
   },
   "outputs": [],
   "source": [
    "def ohlc(r):\n",
    "    return r['open'], r['high'], r['low'], r['close']"
   ]
  },
  {
   "cell_type": "markdown",
   "metadata": {},
   "source": [
    "## Wczytanie specyfikacji wszystkich instrumentów"
   ]
  },
  {
   "cell_type": "markdown",
   "metadata": {},
   "source": [
    "Specyfikacja instrumentów wygenerowana w MetaTraderze skryptem MQL allmarketdata.ex4"
   ]
  },
  {
   "cell_type": "code",
   "execution_count": 7,
   "metadata": {
    "scrolled": false
   },
   "outputs": [],
   "source": [
    "specs = pd.read_csv('instruments.csv', sep=';', index_col=0)\n",
    "\n",
    "# XXX - nie da się tego wyciągnąć bezpośrednio ze specyfikacji ??\n",
    "def setPipSize(x):\n",
    "    if x['Pr. Mode'] == 'Forex':\n",
    "        return 0.0001\n",
    "    return float(x['Tick Size']) # XXX - uproszczenie, nie jestem pewien, czy to jest prawidłowe\n",
    "    if x['Symbol'].endswith('JPY'):\n",
    "            return 0.01\n",
    "        # elif x['Symbol'].endswith('HUF'):  # XXX Hungarian Forint ???\n",
    "        #return 0.0001\n",
    "    return 1\n",
    "\n",
    "specs['Pip'] = specs.apply(setPipSize, axis=1)"
   ]
  },
  {
   "cell_type": "markdown",
   "metadata": {},
   "source": [
    "### Wczytanie historycznych danych wszystkich walorów do klasy Instrument"
   ]
  },
  {
   "cell_type": "code",
   "execution_count": 8,
   "metadata": {},
   "outputs": [
    {
     "name": "stdout",
     "output_type": "stream",
     "text": [
      "USDCHF\n",
      "EURDKK\n",
      "EURUSD\n",
      "EURPLN\n",
      "EURNOK\n",
      "COCOA-SEP17\n",
      "GER30Cash\n",
      "EURCHF\n",
      "BRENT-AUG17\n",
      "POL20Cash\n",
      "GBPCAD\n",
      "SUGAR-JUL17\n",
      "CADJPY\n",
      "GOLD\n",
      "EURRUB\n",
      "SILVER\n",
      "AUDCAD\n",
      "US30Cash\n",
      "EURSEK\n",
      "AUDJPY\n",
      "AUDCHF\n",
      "EURAUD\n",
      "USDCAD\n",
      "EURHKD\n",
      "AUDNZD\n"
     ]
    }
   ],
   "source": [
    "class Instrument:\n",
    "    def __init__(self, name):\n",
    "        self.name = name\n",
    "        self.spec = None\n",
    "        self.results = None\n",
    "        self.balance = 0  # +/- gain value\n",
    "        self.stats = {} # PROFIT: ...,  LOSS: ...\n",
    "        self.success_rate = None\n",
    "        self.data = pd.read_csv('data/%s60.csv' % name, index_col = False,\n",
    "                   names=['day', 'hour', 'open', 'high', 'low', 'close', 'volume'],\n",
    "                               dtype={'open':np.float64,'high':np.float64,\n",
    "                                     'low':np.float64,'close':np.float64,'volume':np.float64}\n",
    "                               )\n",
    "        self.data['date'] = pd.DatetimeIndex(self.data.day + ' ' + self.data.hour)\n",
    "        del self.data['day']\n",
    "        del self.data['hour']\n",
    "        self.data.set_index('date', inplace = True)\n",
    "        \n",
    "        # Calculate RSI14 for this instrument\n",
    "        self.rsi = ta.RSI(self.data, 14)\n",
    "    \n",
    "    def __str__(self):\n",
    "        s = self.name\n",
    "        if self.data is not None:\n",
    "            s = s + ' ' + str(self.data.shape)\n",
    "        return s\n",
    "\n",
    "INSTRUMENTS = {}        \n",
    "        \n",
    "for f in glob.glob('data/*60.csv'):\n",
    "    name = os.path.basename(f).replace('60.csv', '')\n",
    "    print(name)\n",
    "    inst = Instrument(name)\n",
    "    inst.spec = specs.ix[name]\n",
    "    INSTRUMENTS[name] = inst\n",
    " "
   ]
  },
  {
   "cell_type": "code",
   "execution_count": 40,
   "metadata": {},
   "outputs": [
    {
     "data": {
      "text/plain": [
       "67.19948864159953"
      ]
     },
     "execution_count": 40,
     "metadata": {},
     "output_type": "execute_result"
    }
   ],
   "source": [
    "INSTRUMENTS['EURRUB'].rsi['2017/06/16 10:00']"
   ]
  },
  {
   "cell_type": "code",
   "execution_count": 9,
   "metadata": {},
   "outputs": [
    {
     "data": {
      "text/plain": [
       "Description      Euro vs Norwegian Krone\n",
       "Digits                                 5\n",
       "Spread                               614\n",
       "Swap Long                         -85.69\n",
       "Swap Short                        -30.59\n",
       "Swap Type                         points\n",
       "Stop Level                           620\n",
       "Lot Size                          100000\n",
       "Lot Min                             0.01\n",
       "Lot Step                            0.01\n",
       "Tick Value                      0.443566\n",
       "Tick Size                          1e-05\n",
       "Trade Allowed                        yes\n",
       "Pr. Mode                           Forex\n",
       "Pip                               0.0001\n",
       "Name: EURNOK, dtype: object"
      ]
     },
     "execution_count": 9,
     "metadata": {},
     "output_type": "execute_result"
    }
   ],
   "source": [
    "INSTRUMENTS['EURNOK'].spec"
   ]
  },
  {
   "cell_type": "markdown",
   "metadata": {},
   "source": [
    "Delete all non-currencies:"
   ]
  },
  {
   "cell_type": "code",
   "execution_count": 27,
   "metadata": {},
   "outputs": [
    {
     "name": "stdout",
     "output_type": "stream",
     "text": [
      "EURSEK\n",
      "AUDJPY\n",
      "USDCHF\n",
      "EURUSD\n",
      "GBPCAD\n",
      "EURAUD\n",
      "AUDCAD\n",
      "EURPLN\n",
      "USDCAD\n",
      "EURNOK\n",
      "EURCHF\n",
      "AUDCHF\n",
      "AUDNZD\n",
      "CADJPY\n"
     ]
    }
   ],
   "source": [
    "todelete = []\n",
    "for iname in INSTRUMENTS:\n",
    "    if INSTRUMENTS[iname].spec['Pr. Mode'] != 'Forex':\n",
    "        todelete.append(iname)\n",
    "for iname in todelete:\n",
    "    del INSTRUMENTS[iname]\n",
    "for iname in INSTRUMENTS:\n",
    "    print(iname)"
   ]
  },
  {
   "cell_type": "markdown",
   "metadata": {},
   "source": [
    "## Zasada 11 / 20 - porównywanie rozmiaru świecy z 20 poprzednimi"
   ]
  },
  {
   "cell_type": "code",
   "execution_count": 14,
   "metadata": {},
   "outputs": [
    {
     "data": {
      "text/plain": [
       "True"
      ]
     },
     "execution_count": 14,
     "metadata": {},
     "output_type": "execute_result"
    }
   ],
   "source": [
    "def zasada1120(inst, t):\n",
    "    \n",
    "    BACKSIZE = 20         # XXX Wyciągnąć gdzieś do konfiguracji\n",
    "    CANDLES_REQUIRED = 11 # XXX\n",
    "    \n",
    "    t = pd.Timestamp(t)\n",
    "    i = inst.data.index.get_loc(t, 'nearest')\n",
    "    o, h, l, c = ohlc(inst.data.iloc[i])\n",
    "    size = h - l\n",
    "   \n",
    "    j = 1\n",
    "    smaller_candles = 0\n",
    "    while j <= BACKSIZE and i - j >= 0 and smaller_candles < CANDLES_REQUIRED:\n",
    "        o, h, l, c = ohlc(inst.data.iloc[i - j])\n",
    "        if size > h - l:\n",
    "            smaller_candles += 1\n",
    "        j += 1\n",
    "    if smaller_candles >= CANDLES_REQUIRED:\n",
    "        return True\n",
    "    \n",
    "    return False\n",
    "    \n",
    "zasada1120(INSTRUMENTS['US30Cash'], '2017/06/20 22:00')"
   ]
  },
  {
   "cell_type": "markdown",
   "metadata": {},
   "source": [
    "## Sprawdzanie, czy dany sygnał był prawidłowy(czy zarobił) -- B. WAŻNY FRAGMENT\n",
    "### (ta funkcja docelowo byłaby jednym z głównych elementów pełnego symulatora strategii)"
   ]
  },
  {
   "cell_type": "code",
   "execution_count": 47,
   "metadata": {},
   "outputs": [
    {
     "name": "stdout",
     "output_type": "stream",
     "text": [
      "('LOSS', -0.00042000000000001802, 0, 1.11635, 1.1180300000000001, 0.00029000000000012349)\n"
     ]
    }
   ],
   "source": [
    "# returns:\n",
    "#   (PROFIT/LOSS, gain value, nswaps, sp, tp, size)\n",
    "def sprawdz(inst, t, buysell = 'buy'):\n",
    "    t = pd.Timestamp(t)\n",
    "    i = inst.data.index.get_loc(t, 'nearest')\n",
    "    o, h, l, c = ohlc(inst.data.iloc[i])\n",
    "    c0 = c\n",
    "    size = h - l\n",
    "    \n",
    "    spread = 3 # XXX  US30\n",
    "    spread = 0.0003 # XXX EURUSD\n",
    "    spread = float(inst.spec['Spread']) / 10**int(inst.spec['Digits'])  # XXX\n",
    "    #print(spread)\n",
    "    PROFIT_TO_RISK = 3  # XXX Wyciagnac do konfiguracji\n",
    "    \n",
    "    if buysell == 'buy':\n",
    "        sl = l - inst.spec['Pip'] # 1 punkt pod formacja\n",
    "        risk = c - sl + spread # -> mozliwa strata = roznica poziomow + spread\n",
    "        tp = c + spread + risk * PROFIT_TO_RISK # -> mozliwy zysk = roznica poziomow - spread = risk*PTR\n",
    "    elif buysell == 'sell':\n",
    "        sl = h + inst.spec['Pip'] + spread # 1 punkt nad formacja + spread (chyba z zalozenia ze spada szybciej)\n",
    "        risk = sl - c + spread # mozliwa strata = roznica poziomow + spread\n",
    "        tp = c - risk * PROFIT_TO_RISK - spread  # -> mozliwy zysk = roznica poziomow - spread = risk*PTR\n",
    "    else:\n",
    "        raise Exception('buysell')\n",
    "    # print(sl, tp)\n",
    "    \n",
    "    before_midnght = inst.data.index[i].hour > 12\n",
    "    nswaps = 0\n",
    "    while i < inst.data.shape[0] - 1:\n",
    "        i += 1\n",
    "        o, h, l, c = ohlc(inst.data.iloc[i])\n",
    "        \n",
    "        if before_midnght and inst.data.index[i].hour < 12:\n",
    "            # print('SWAP')\n",
    "            nswaps += 1\n",
    "        before_midnght = inst.data.index[i].hour > 12\n",
    "        \n",
    "        result = None\n",
    "        if (buysell == 'buy' and h >= tp) or (buysell == 'sell' and l <= tp):\n",
    "            # print(inst.data.index[i])\n",
    "            result = 'PROFIT'\n",
    "            \n",
    "        # Sprawdzenie warunku 10pips\n",
    "        how_many_pips = 10.\n",
    "        if h - c0 >= how_many_pips * inst.spec['Pip'] and buysell == 'buy':\n",
    "            result = 'PROFIT'\n",
    "            return result, how_many_pips * inst.spec['Pip'] - spread, nswaps, sl, tp, size \n",
    "        if c0 - l >= 10. * inst.spec['Pip'] and buysell == 'sell':\n",
    "            result = 'PROFIT'\n",
    "            return result, how_many_pips * inst.spec['Pip'] - spread, nswaps, sl, tp, size     \n",
    "        #################################\n",
    "            \n",
    "        if (buysell == 'buy' and l <= sl) or (buysell == 'sell' and h >= sl):\n",
    "            # print(inst.data.index[i])\n",
    "            if result == 'PROFIT':\n",
    "                return 'Unknown'\n",
    "            result = 'LOSS'\n",
    "        if result == 'PROFIT':\n",
    "            return result, PROFIT_TO_RISK * risk, nswaps, sl, tp, size #, zasada1120(inst, t)\n",
    "        if result == 'LOSS':\n",
    "            return result, -risk, nswaps, sl, tp, size #, zasada1120(inst, t)\n",
    "\n",
    "t = '2017/06/22 01:00'\n",
    "print(sprawdz(INSTRUMENTS['EURUSD'], t))"
   ]
  },
  {
   "cell_type": "markdown",
   "metadata": {},
   "source": [
    "## Definicja wybranych formacji świecowych - funkcje wykrywające"
   ]
  },
  {
   "cell_type": "code",
   "execution_count": 30,
   "metadata": {
    "collapsed": true
   },
   "outputs": [],
   "source": [
    "def jestMlotek(row):\n",
    "    o, h, l, c = ohlc(row)\n",
    "    if c > o and c - o <= 0.4 * (h - l):\n",
    "        if h - c <= 0.14 * (h - l):\n",
    "            return True\n",
    "    if c < o and o - c <= 0.4 * (h - l):\n",
    "        if h - o <= 0.14 * (h - l):\n",
    "            return True    \n",
    "    return False\n",
    "\n",
    "def jestSpadajacaGwiazda(row):\n",
    "    o, h, l, c = ohlc(row)\n",
    "    if c > o and c - o <= 0.4 * (h - l):\n",
    "        if o - l <= 0.14 * (h - l):\n",
    "            return True\n",
    "    if c < o and o - c <= 0.4 * (h - l):\n",
    "        if c - l <= 0.14 * (h - l):\n",
    "            return True    \n",
    "    return False\n",
    "\n",
    "# ...\n",
    "# Tutaj dalej docelowo powinny być zaimplementowane inne formacje (przenikania, zasłona ciemnej chmury itp)\n",
    "# ..."
   ]
  },
  {
   "cell_type": "markdown",
   "metadata": {},
   "source": [
    "<a id=\"eksperyment1\"></a>\n",
    "## Eksperyment 1) Analiza młotków - EURUSD 1h"
   ]
  },
  {
   "cell_type": "code",
   "execution_count": 48,
   "metadata": {
    "scrolled": false
   },
   "outputs": [
    {
     "name": "stdout",
     "output_type": "stream",
     "text": [
      "2017-02-07 10:00:00     LOSS  -0.00154  0.00000  1.06597  1.07213  0.00226  \n",
      "2017-02-10 16:00:00   PROFIT  0.00082  0.00000  1.06060  1.06748  0.00167  \n",
      "2017-02-22 12:00:00   PROFIT  0.00082  0.00000  1.04924  1.05516  0.00164  \n",
      "2017-06-15 19:00:00   PROFIT  0.00082  1.00000  1.11375  1.11851  0.00121  \n",
      "0.00092\n",
      "{'LOSS': 1, 'PROFIT': 3}\n",
      "Success rate: 75.00%\n"
     ]
    }
   ],
   "source": [
    "inst = INSTRUMENTS['EURUSD']\n",
    "\n",
    "stats = {}\n",
    "balance = 0.\n",
    "for idx, row in inst.data['2017/01/01':'2017/07/01'].iterrows():\n",
    "    if jestMlotek(row) and zasada1120(inst,idx) and inst.rsi[idx] <= 30:\n",
    "        res = sprawdz(inst, idx)\n",
    "        if not res:\n",
    "            print(idx, ' ', res)\n",
    "            continue        \n",
    "        print(idx, ' ', '%6s'%res[0], ' ', end='')\n",
    "        for _ in res[1:]:\n",
    "            print('%.5f'%_, ' ', end='')\n",
    "        print()\n",
    "        if type(res) == tuple:\n",
    "            balance += res[1] # XXX tu ewentualnie uwzgledniac swap * nswaps\n",
    "            if res[0] not in stats:\n",
    "                stats[res[0]] = 0\n",
    "            stats[res[0]] += 1\n",
    "print(balance)\n",
    "print(stats)\n",
    "if 'PROFIT' in stats:\n",
    "    print(\"Success rate: %.2f%%\" % (100.0*stats['PROFIT']/ sum(stats.values())))"
   ]
  },
  {
   "cell_type": "markdown",
   "metadata": {},
   "source": [
    "<a id=\"eksperyment2\"></a>\n",
    "## Eksperyment 2) Spadające gwiazdy - EURUSD 1h"
   ]
  },
  {
   "cell_type": "code",
   "execution_count": 49,
   "metadata": {},
   "outputs": [
    {
     "name": "stdout",
     "output_type": "stream",
     "text": [
      "2017-03-09 16:00:00   PROFIT  0.00082  0.00000  1.06171  1.05131  0.00354  \n",
      "2017-04-12 23:00:00   PROFIT  0.00082  1.00000  1.06772  1.06132  0.00175  \n",
      "2017-04-13 00:00:00     LOSS  -0.00096  0.00000  1.06751  1.06367  0.00108  \n",
      "2017-06-14 17:00:00   PROFIT  0.00082  0.00000  1.12979  1.12139  0.00257  \n",
      "0.0015\n",
      "{'LOSS': 1, 'PROFIT': 3}\n",
      "Success rate: 75.00%\n"
     ]
    }
   ],
   "source": [
    "inst = INSTRUMENTS['EURUSD']\n",
    "\n",
    "balance = 0.\n",
    "stats = {}\n",
    "for idx, row in inst.data['2017/01/01':'2017/07/01'].iterrows():\n",
    "    if jestSpadajacaGwiazda(row) and zasada1120(inst,idx) and inst.rsi[idx] >= 70:\n",
    "        res = sprawdz(inst, idx, 'sell') # XXX <- SELL\n",
    "        if not res:\n",
    "            print(idx, ' ', res)\n",
    "            continue\n",
    "        print(idx, ' ', '%6s'%res[0], ' ', end='')\n",
    "        for _ in res[1:]:\n",
    "            print('%.5f'%_, ' ', end='')\n",
    "        print()\n",
    "        if type(res) == tuple:\n",
    "            balance += res[1] # XXX tu ewentualnie uwzgledniac swap * nswaps\n",
    "            if res[0] not in stats:\n",
    "                stats[res[0]] = 0\n",
    "            stats[res[0]] += 1\n",
    "print(balance)  \n",
    "print(stats)\n",
    "if 'PROFIT' in stats:\n",
    "    print(\"Success rate: %.2f%%\" % (100.0*stats['PROFIT']/ sum(stats.values())))"
   ]
  },
  {
   "cell_type": "markdown",
   "metadata": {},
   "source": [
    "\n",
    "\n",
    "\n",
    "\n",
    "\n",
    "\n",
    "\n",
    "\n",
    "\n",
    "\n",
    "\n",
    "\n",
    "\n",
    "\n",
    "\n",
    "\n",
    "\n",
    "\n",
    "\n",
    "\n",
    "\n"
   ]
  },
  {
   "cell_type": "markdown",
   "metadata": {},
   "source": [
    "<a id=\"eksperyment3\"></a>\n",
    "## Eksperyment 3) Analiza zbiorcza dla wszystkich walorów - Młotki"
   ]
  },
  {
   "cell_type": "code",
   "execution_count": 50,
   "metadata": {},
   "outputs": [
    {
     "name": "stdout",
     "output_type": "stream",
     "text": [
      "EURSEK\n",
      "AUDJPY\n",
      "USDCHF\n",
      "EURUSD\n",
      "GBPCAD\n",
      "EURAUD\n",
      "AUDCAD\n",
      "EURPLN\n",
      "USDCAD\n",
      "EURNOK\n",
      "EURCHF\n",
      "AUDCHF\n",
      "AUDNZD\n",
      "CADJPY\n",
      "CPU times: user 15.7 s, sys: 16.7 ms, total: 15.7 s\n",
      "Wall time: 15.7 s\n"
     ]
    }
   ],
   "source": [
    "%%time\n",
    "\n",
    "for name in INSTRUMENTS:\n",
    "    print(name)\n",
    "    inst = INSTRUMENTS[name]\n",
    "    inst.results = pd.DataFrame( columns = range(7) )\n",
    "\n",
    "    stats = {}\n",
    "    balance = 0.\n",
    "    for idx, row in inst.data['2017/01/01':].iterrows():  # XXX Month\n",
    "        if jestMlotek(row) and zasada1120(inst,idx)  and inst.rsi[idx] <= 30: # XXX jestMlotek\n",
    "            res = sprawdz(inst, idx) # XXX buy/sell\n",
    "            if not res or type(res) == str:\n",
    "                continue        \n",
    "            inst.results = inst.results.append([ (idx,) + res ])\n",
    "            if type(res) == tuple:\n",
    "                balance += res[1] # XXX tu ewentualnie uwzgledniac swap * nswaps\n",
    "                if res[0] not in stats:\n",
    "                    stats[res[0]] = 0\n",
    "                stats[res[0]] += 1\n",
    "    inst.results.columns = ['date', 'PL', 'gv', 'nswaps', 'sl', 'tp', 'size']\n",
    "    inst.results.set_index('date', inplace=True)\n",
    "    inst.balance = balance\n",
    "    inst.stats = stats\n",
    "    inst.success_rate = 0\n",
    "    if 'PROFIT' in stats:\n",
    "        inst.success_rate = stats['PROFIT']/ sum(stats.values())"
   ]
  },
  {
   "cell_type": "code",
   "execution_count": 51,
   "metadata": {
    "scrolled": false
   },
   "outputs": [
    {
     "data": {
      "text/html": [
       "<h3>AUDCAD</h3>"
      ],
      "text/plain": [
       "<IPython.core.display.HTML object>"
      ]
     },
     "metadata": {},
     "output_type": "display_data"
    },
    {
     "data": {
      "text/html": [
       "<b>Balance: </b> -0.001730 &nbsp;&nbsp;&nbsp;&nbsp; <b>Trades:</b>{'LOSS': 2, 'PROFIT': 2}"
      ],
      "text/plain": [
       "<IPython.core.display.HTML object>"
      ]
     },
     "metadata": {},
     "output_type": "display_data"
    },
    {
     "data": {
      "text/html": [
       "<b>Success rate: </b> 50.00%"
      ],
      "text/plain": [
       "<IPython.core.display.HTML object>"
      ]
     },
     "metadata": {},
     "output_type": "display_data"
    },
    {
     "name": "stdout",
     "output_type": "stream",
     "text": [
      "One month details:\n"
     ]
    },
    {
     "data": {
      "text/html": [
       "<div>\n",
       "<table border=\"1\" class=\"dataframe\">\n",
       "  <thead>\n",
       "    <tr style=\"text-align: right;\">\n",
       "      <th></th>\n",
       "      <th>PL</th>\n",
       "      <th>gv</th>\n",
       "      <th>nswaps</th>\n",
       "      <th>sl</th>\n",
       "      <th>tp</th>\n",
       "      <th>size</th>\n",
       "    </tr>\n",
       "    <tr>\n",
       "      <th>date</th>\n",
       "      <th></th>\n",
       "      <th></th>\n",
       "      <th></th>\n",
       "      <th></th>\n",
       "      <th></th>\n",
       "      <th></th>\n",
       "    </tr>\n",
       "  </thead>\n",
       "  <tbody>\n",
       "    <tr>\n",
       "      <th>2017-05-04 00:00:00</th>\n",
       "      <td>LOSS</td>\n",
       "      <td>-0.00182</td>\n",
       "      <td>0.0</td>\n",
       "      <td>1.01766</td>\n",
       "      <td>1.02494</td>\n",
       "      <td>0.00160</td>\n",
       "    </tr>\n",
       "    <tr>\n",
       "      <th>2017-05-09 12:00:00</th>\n",
       "      <td>PROFIT</td>\n",
       "      <td>0.00068</td>\n",
       "      <td>0.0</td>\n",
       "      <td>1.00357</td>\n",
       "      <td>1.01121</td>\n",
       "      <td>0.00161</td>\n",
       "    </tr>\n",
       "    <tr>\n",
       "      <th>2017-06-09 16:00:00</th>\n",
       "      <td>LOSS</td>\n",
       "      <td>-0.00127</td>\n",
       "      <td>0.0</td>\n",
       "      <td>1.01175</td>\n",
       "      <td>1.01683</td>\n",
       "      <td>0.00124</td>\n",
       "    </tr>\n",
       "    <tr>\n",
       "      <th>2017-06-22 19:00:00</th>\n",
       "      <td>PROFIT</td>\n",
       "      <td>0.00068</td>\n",
       "      <td>1.0</td>\n",
       "      <td>0.99678</td>\n",
       "      <td>1.00454</td>\n",
       "      <td>0.00155</td>\n",
       "    </tr>\n",
       "  </tbody>\n",
       "</table>\n",
       "</div>"
      ],
      "text/plain": [
       "                         PL       gv  nswaps       sl       tp     size\n",
       "date                                                                   \n",
       "2017-05-04 00:00:00    LOSS -0.00182     0.0  1.01766  1.02494  0.00160\n",
       "2017-05-09 12:00:00  PROFIT  0.00068     0.0  1.00357  1.01121  0.00161\n",
       "2017-06-09 16:00:00    LOSS -0.00127     0.0  1.01175  1.01683  0.00124\n",
       "2017-06-22 19:00:00  PROFIT  0.00068     1.0  0.99678  1.00454  0.00155"
      ]
     },
     "metadata": {},
     "output_type": "display_data"
    },
    {
     "data": {
      "text/html": [
       "<h3>AUDCHF</h3>"
      ],
      "text/plain": [
       "<IPython.core.display.HTML object>"
      ]
     },
     "metadata": {},
     "output_type": "display_data"
    },
    {
     "data": {
      "text/html": [
       "<b>Balance: </b> -0.010240 &nbsp;&nbsp;&nbsp;&nbsp; <b>Trades:</b>{'LOSS': 7, 'PROFIT': 1}"
      ],
      "text/plain": [
       "<IPython.core.display.HTML object>"
      ]
     },
     "metadata": {},
     "output_type": "display_data"
    },
    {
     "data": {
      "text/html": [
       "<b>Success rate: </b> 12.50%"
      ],
      "text/plain": [
       "<IPython.core.display.HTML object>"
      ]
     },
     "metadata": {},
     "output_type": "display_data"
    },
    {
     "name": "stdout",
     "output_type": "stream",
     "text": [
      "One month details:\n"
     ]
    },
    {
     "data": {
      "text/html": [
       "<div>\n",
       "<table border=\"1\" class=\"dataframe\">\n",
       "  <thead>\n",
       "    <tr style=\"text-align: right;\">\n",
       "      <th></th>\n",
       "      <th>PL</th>\n",
       "      <th>gv</th>\n",
       "      <th>nswaps</th>\n",
       "      <th>sl</th>\n",
       "      <th>tp</th>\n",
       "      <th>size</th>\n",
       "    </tr>\n",
       "    <tr>\n",
       "      <th>date</th>\n",
       "      <th></th>\n",
       "      <th></th>\n",
       "      <th></th>\n",
       "      <th></th>\n",
       "      <th></th>\n",
       "      <th></th>\n",
       "    </tr>\n",
       "  </thead>\n",
       "  <tbody>\n",
       "    <tr>\n",
       "      <th>2017-03-09 00:00:00</th>\n",
       "      <td>LOSS</td>\n",
       "      <td>-0.00129</td>\n",
       "      <td>0.0</td>\n",
       "      <td>0.76241</td>\n",
       "      <td>0.76757</td>\n",
       "      <td>0.00115</td>\n",
       "    </tr>\n",
       "    <tr>\n",
       "      <th>2017-03-27 17:00:00</th>\n",
       "      <td>PROFIT</td>\n",
       "      <td>0.00064</td>\n",
       "      <td>0.0</td>\n",
       "      <td>0.74725</td>\n",
       "      <td>0.75321</td>\n",
       "      <td>0.00159</td>\n",
       "    </tr>\n",
       "    <tr>\n",
       "      <th>2017-04-18 16:00:00</th>\n",
       "      <td>LOSS</td>\n",
       "      <td>-0.00159</td>\n",
       "      <td>0.0</td>\n",
       "      <td>0.75320</td>\n",
       "      <td>0.75956</td>\n",
       "      <td>0.00130</td>\n",
       "    </tr>\n",
       "    <tr>\n",
       "      <th>2017-04-18 20:00:00</th>\n",
       "      <td>LOSS</td>\n",
       "      <td>-0.00153</td>\n",
       "      <td>1.0</td>\n",
       "      <td>0.75169</td>\n",
       "      <td>0.75781</td>\n",
       "      <td>0.00126</td>\n",
       "    </tr>\n",
       "    <tr>\n",
       "      <th>2017-04-26 15:00:00</th>\n",
       "      <td>LOSS</td>\n",
       "      <td>-0.00161</td>\n",
       "      <td>0.0</td>\n",
       "      <td>0.74288</td>\n",
       "      <td>0.74932</td>\n",
       "      <td>0.00139</td>\n",
       "    </tr>\n",
       "    <tr>\n",
       "      <th>2017-04-26 17:00:00</th>\n",
       "      <td>LOSS</td>\n",
       "      <td>-0.00180</td>\n",
       "      <td>1.0</td>\n",
       "      <td>0.74154</td>\n",
       "      <td>0.74874</td>\n",
       "      <td>0.00136</td>\n",
       "    </tr>\n",
       "    <tr>\n",
       "      <th>2017-05-04 19:00:00</th>\n",
       "      <td>LOSS</td>\n",
       "      <td>-0.00124</td>\n",
       "      <td>0.0</td>\n",
       "      <td>0.73051</td>\n",
       "      <td>0.73547</td>\n",
       "      <td>0.00148</td>\n",
       "    </tr>\n",
       "    <tr>\n",
       "      <th>2017-05-31 18:00:00</th>\n",
       "      <td>LOSS</td>\n",
       "      <td>-0.00182</td>\n",
       "      <td>1.0</td>\n",
       "      <td>0.71859</td>\n",
       "      <td>0.72587</td>\n",
       "      <td>0.00165</td>\n",
       "    </tr>\n",
       "  </tbody>\n",
       "</table>\n",
       "</div>"
      ],
      "text/plain": [
       "                         PL       gv  nswaps       sl       tp     size\n",
       "date                                                                   \n",
       "2017-03-09 00:00:00    LOSS -0.00129     0.0  0.76241  0.76757  0.00115\n",
       "2017-03-27 17:00:00  PROFIT  0.00064     0.0  0.74725  0.75321  0.00159\n",
       "2017-04-18 16:00:00    LOSS -0.00159     0.0  0.75320  0.75956  0.00130\n",
       "2017-04-18 20:00:00    LOSS -0.00153     1.0  0.75169  0.75781  0.00126\n",
       "2017-04-26 15:00:00    LOSS -0.00161     0.0  0.74288  0.74932  0.00139\n",
       "2017-04-26 17:00:00    LOSS -0.00180     1.0  0.74154  0.74874  0.00136\n",
       "2017-05-04 19:00:00    LOSS -0.00124     0.0  0.73051  0.73547  0.00148\n",
       "2017-05-31 18:00:00    LOSS -0.00182     1.0  0.71859  0.72587  0.00165"
      ]
     },
     "metadata": {},
     "output_type": "display_data"
    },
    {
     "data": {
      "text/html": [
       "<h3>AUDJPY</h3>"
      ],
      "text/plain": [
       "<IPython.core.display.HTML object>"
      ]
     },
     "metadata": {},
     "output_type": "display_data"
    },
    {
     "data": {
      "text/html": [
       "<b>Balance: </b> -0.056000 &nbsp;&nbsp;&nbsp;&nbsp; <b>Trades:</b>{'PROFIT': 2}"
      ],
      "text/plain": [
       "<IPython.core.display.HTML object>"
      ]
     },
     "metadata": {},
     "output_type": "display_data"
    },
    {
     "data": {
      "text/html": [
       "<b>Success rate: </b> 100.00%"
      ],
      "text/plain": [
       "<IPython.core.display.HTML object>"
      ]
     },
     "metadata": {},
     "output_type": "display_data"
    },
    {
     "name": "stdout",
     "output_type": "stream",
     "text": [
      "One month details:\n"
     ]
    },
    {
     "data": {
      "text/html": [
       "<div>\n",
       "<table border=\"1\" class=\"dataframe\">\n",
       "  <thead>\n",
       "    <tr style=\"text-align: right;\">\n",
       "      <th></th>\n",
       "      <th>PL</th>\n",
       "      <th>gv</th>\n",
       "      <th>nswaps</th>\n",
       "      <th>sl</th>\n",
       "      <th>tp</th>\n",
       "      <th>size</th>\n",
       "    </tr>\n",
       "    <tr>\n",
       "      <th>date</th>\n",
       "      <th></th>\n",
       "      <th></th>\n",
       "      <th></th>\n",
       "      <th></th>\n",
       "      <th></th>\n",
       "      <th></th>\n",
       "    </tr>\n",
       "  </thead>\n",
       "  <tbody>\n",
       "    <tr>\n",
       "      <th>2017-03-22 04:00:00</th>\n",
       "      <td>PROFIT</td>\n",
       "      <td>-0.028</td>\n",
       "      <td>0.0</td>\n",
       "      <td>85.3119</td>\n",
       "      <td>86.1003</td>\n",
       "      <td>0.176</td>\n",
       "    </tr>\n",
       "    <tr>\n",
       "      <th>2017-06-06 05:00:00</th>\n",
       "      <td>PROFIT</td>\n",
       "      <td>-0.028</td>\n",
       "      <td>0.0</td>\n",
       "      <td>81.8909</td>\n",
       "      <td>82.6153</td>\n",
       "      <td>0.191</td>\n",
       "    </tr>\n",
       "  </tbody>\n",
       "</table>\n",
       "</div>"
      ],
      "text/plain": [
       "                         PL     gv  nswaps       sl       tp   size\n",
       "date                                                               \n",
       "2017-03-22 04:00:00  PROFIT -0.028     0.0  85.3119  86.1003  0.176\n",
       "2017-06-06 05:00:00  PROFIT -0.028     0.0  81.8909  82.6153  0.191"
      ]
     },
     "metadata": {},
     "output_type": "display_data"
    },
    {
     "data": {
      "text/html": [
       "<h3>AUDNZD</h3>"
      ],
      "text/plain": [
       "<IPython.core.display.HTML object>"
      ]
     },
     "metadata": {},
     "output_type": "display_data"
    },
    {
     "data": {
      "text/html": [
       "<b>Balance: </b> 0.001180 &nbsp;&nbsp;&nbsp;&nbsp; <b>Trades:</b>{'PROFIT': 2}"
      ],
      "text/plain": [
       "<IPython.core.display.HTML object>"
      ]
     },
     "metadata": {},
     "output_type": "display_data"
    },
    {
     "data": {
      "text/html": [
       "<b>Success rate: </b> 100.00%"
      ],
      "text/plain": [
       "<IPython.core.display.HTML object>"
      ]
     },
     "metadata": {},
     "output_type": "display_data"
    },
    {
     "name": "stdout",
     "output_type": "stream",
     "text": [
      "One month details:\n"
     ]
    },
    {
     "data": {
      "text/html": [
       "<div>\n",
       "<table border=\"1\" class=\"dataframe\">\n",
       "  <thead>\n",
       "    <tr style=\"text-align: right;\">\n",
       "      <th></th>\n",
       "      <th>PL</th>\n",
       "      <th>gv</th>\n",
       "      <th>nswaps</th>\n",
       "      <th>sl</th>\n",
       "      <th>tp</th>\n",
       "      <th>size</th>\n",
       "    </tr>\n",
       "    <tr>\n",
       "      <th>date</th>\n",
       "      <th></th>\n",
       "      <th></th>\n",
       "      <th></th>\n",
       "      <th></th>\n",
       "      <th></th>\n",
       "      <th></th>\n",
       "    </tr>\n",
       "  </thead>\n",
       "  <tbody>\n",
       "    <tr>\n",
       "      <th>2017-03-23 10:00:00</th>\n",
       "      <td>PROFIT</td>\n",
       "      <td>0.00059</td>\n",
       "      <td>0.0</td>\n",
       "      <td>1.08214</td>\n",
       "      <td>1.09034</td>\n",
       "      <td>0.00214</td>\n",
       "    </tr>\n",
       "    <tr>\n",
       "      <th>2017-04-18 16:00:00</th>\n",
       "      <td>PROFIT</td>\n",
       "      <td>0.00059</td>\n",
       "      <td>0.0</td>\n",
       "      <td>1.07205</td>\n",
       "      <td>1.07905</td>\n",
       "      <td>0.00131</td>\n",
       "    </tr>\n",
       "  </tbody>\n",
       "</table>\n",
       "</div>"
      ],
      "text/plain": [
       "                         PL       gv  nswaps       sl       tp     size\n",
       "date                                                                   \n",
       "2017-03-23 10:00:00  PROFIT  0.00059     0.0  1.08214  1.09034  0.00214\n",
       "2017-04-18 16:00:00  PROFIT  0.00059     0.0  1.07205  1.07905  0.00131"
      ]
     },
     "metadata": {},
     "output_type": "display_data"
    },
    {
     "data": {
      "text/html": [
       "<h3>CADJPY</h3>"
      ],
      "text/plain": [
       "<IPython.core.display.HTML object>"
      ]
     },
     "metadata": {},
     "output_type": "display_data"
    },
    {
     "data": {
      "text/html": [
       "<b>Balance: </b> -0.155000 &nbsp;&nbsp;&nbsp;&nbsp; <b>Trades:</b>{'PROFIT': 5}"
      ],
      "text/plain": [
       "<IPython.core.display.HTML object>"
      ]
     },
     "metadata": {},
     "output_type": "display_data"
    },
    {
     "data": {
      "text/html": [
       "<b>Success rate: </b> 100.00%"
      ],
      "text/plain": [
       "<IPython.core.display.HTML object>"
      ]
     },
     "metadata": {},
     "output_type": "display_data"
    },
    {
     "name": "stdout",
     "output_type": "stream",
     "text": [
      "One month details:\n"
     ]
    },
    {
     "data": {
      "text/html": [
       "<div>\n",
       "<table border=\"1\" class=\"dataframe\">\n",
       "  <thead>\n",
       "    <tr style=\"text-align: right;\">\n",
       "      <th></th>\n",
       "      <th>PL</th>\n",
       "      <th>gv</th>\n",
       "      <th>nswaps</th>\n",
       "      <th>sl</th>\n",
       "      <th>tp</th>\n",
       "      <th>size</th>\n",
       "    </tr>\n",
       "    <tr>\n",
       "      <th>date</th>\n",
       "      <th></th>\n",
       "      <th></th>\n",
       "      <th></th>\n",
       "      <th></th>\n",
       "      <th></th>\n",
       "      <th></th>\n",
       "    </tr>\n",
       "  </thead>\n",
       "  <tbody>\n",
       "    <tr>\n",
       "      <th>2017-03-22 11:00:00</th>\n",
       "      <td>PROFIT</td>\n",
       "      <td>-0.031</td>\n",
       "      <td>0.0</td>\n",
       "      <td>82.8919</td>\n",
       "      <td>83.9923</td>\n",
       "      <td>0.276</td>\n",
       "    </tr>\n",
       "    <tr>\n",
       "      <th>2017-05-17 21:00:00</th>\n",
       "      <td>PROFIT</td>\n",
       "      <td>-0.031</td>\n",
       "      <td>0.0</td>\n",
       "      <td>81.3159</td>\n",
       "      <td>82.3163</td>\n",
       "      <td>0.237</td>\n",
       "    </tr>\n",
       "    <tr>\n",
       "      <th>2017-05-18 00:00:00</th>\n",
       "      <td>PROFIT</td>\n",
       "      <td>-0.031</td>\n",
       "      <td>0.0</td>\n",
       "      <td>81.2859</td>\n",
       "      <td>82.1863</td>\n",
       "      <td>0.205</td>\n",
       "    </tr>\n",
       "    <tr>\n",
       "      <th>2017-06-06 14:00:00</th>\n",
       "      <td>PROFIT</td>\n",
       "      <td>-0.031</td>\n",
       "      <td>0.0</td>\n",
       "      <td>81.1239</td>\n",
       "      <td>81.7403</td>\n",
       "      <td>0.211</td>\n",
       "    </tr>\n",
       "    <tr>\n",
       "      <th>2017-06-06 15:00:00</th>\n",
       "      <td>PROFIT</td>\n",
       "      <td>-0.031</td>\n",
       "      <td>0.0</td>\n",
       "      <td>81.0689</td>\n",
       "      <td>81.7253</td>\n",
       "      <td>0.184</td>\n",
       "    </tr>\n",
       "  </tbody>\n",
       "</table>\n",
       "</div>"
      ],
      "text/plain": [
       "                         PL     gv  nswaps       sl       tp   size\n",
       "date                                                               \n",
       "2017-03-22 11:00:00  PROFIT -0.031     0.0  82.8919  83.9923  0.276\n",
       "2017-05-17 21:00:00  PROFIT -0.031     0.0  81.3159  82.3163  0.237\n",
       "2017-05-18 00:00:00  PROFIT -0.031     0.0  81.2859  82.1863  0.205\n",
       "2017-06-06 14:00:00  PROFIT -0.031     0.0  81.1239  81.7403  0.211\n",
       "2017-06-06 15:00:00  PROFIT -0.031     0.0  81.0689  81.7253  0.184"
      ]
     },
     "metadata": {},
     "output_type": "display_data"
    },
    {
     "data": {
      "text/html": [
       "<h3>EURAUD</h3>"
      ],
      "text/plain": [
       "<IPython.core.display.HTML object>"
      ]
     },
     "metadata": {},
     "output_type": "display_data"
    },
    {
     "data": {
      "text/html": [
       "<b>Balance: </b> -0.002100 &nbsp;&nbsp;&nbsp;&nbsp; <b>Trades:</b>{'LOSS': 1, 'PROFIT': 1}"
      ],
      "text/plain": [
       "<IPython.core.display.HTML object>"
      ]
     },
     "metadata": {},
     "output_type": "display_data"
    },
    {
     "data": {
      "text/html": [
       "<b>Success rate: </b> 50.00%"
      ],
      "text/plain": [
       "<IPython.core.display.HTML object>"
      ]
     },
     "metadata": {},
     "output_type": "display_data"
    },
    {
     "name": "stdout",
     "output_type": "stream",
     "text": [
      "One month details:\n"
     ]
    },
    {
     "data": {
      "text/html": [
       "<div>\n",
       "<table border=\"1\" class=\"dataframe\">\n",
       "  <thead>\n",
       "    <tr style=\"text-align: right;\">\n",
       "      <th></th>\n",
       "      <th>PL</th>\n",
       "      <th>gv</th>\n",
       "      <th>nswaps</th>\n",
       "      <th>sl</th>\n",
       "      <th>tp</th>\n",
       "      <th>size</th>\n",
       "    </tr>\n",
       "    <tr>\n",
       "      <th>date</th>\n",
       "      <th></th>\n",
       "      <th></th>\n",
       "      <th></th>\n",
       "      <th></th>\n",
       "      <th></th>\n",
       "      <th></th>\n",
       "    </tr>\n",
       "  </thead>\n",
       "  <tbody>\n",
       "    <tr>\n",
       "      <th>2017-03-28 21:00:00</th>\n",
       "      <td>PROFIT</td>\n",
       "      <td>0.00062</td>\n",
       "      <td>0.0</td>\n",
       "      <td>1.41326</td>\n",
       "      <td>1.42238</td>\n",
       "      <td>0.00285</td>\n",
       "    </tr>\n",
       "    <tr>\n",
       "      <th>2017-06-05 11:00:00</th>\n",
       "      <td>LOSS</td>\n",
       "      <td>-0.00272</td>\n",
       "      <td>0.0</td>\n",
       "      <td>1.50472</td>\n",
       "      <td>1.51560</td>\n",
       "      <td>0.00382</td>\n",
       "    </tr>\n",
       "  </tbody>\n",
       "</table>\n",
       "</div>"
      ],
      "text/plain": [
       "                         PL       gv  nswaps       sl       tp     size\n",
       "date                                                                   \n",
       "2017-03-28 21:00:00  PROFIT  0.00062     0.0  1.41326  1.42238  0.00285\n",
       "2017-06-05 11:00:00    LOSS -0.00272     0.0  1.50472  1.51560  0.00382"
      ]
     },
     "metadata": {},
     "output_type": "display_data"
    },
    {
     "data": {
      "text/html": [
       "<h3>EURCHF</h3>"
      ],
      "text/plain": [
       "<IPython.core.display.HTML object>"
      ]
     },
     "metadata": {},
     "output_type": "display_data"
    },
    {
     "data": {
      "text/html": [
       "<b>Balance: </b> 0.000000 &nbsp;&nbsp;&nbsp;&nbsp; <b>Trades:</b>{}"
      ],
      "text/plain": [
       "<IPython.core.display.HTML object>"
      ]
     },
     "metadata": {},
     "output_type": "display_data"
    },
    {
     "data": {
      "text/html": [
       "<b>Success rate: </b> 0.00%"
      ],
      "text/plain": [
       "<IPython.core.display.HTML object>"
      ]
     },
     "metadata": {},
     "output_type": "display_data"
    },
    {
     "name": "stdout",
     "output_type": "stream",
     "text": [
      "One month details:\n"
     ]
    },
    {
     "data": {
      "text/html": [
       "<div>\n",
       "<table border=\"1\" class=\"dataframe\">\n",
       "  <thead>\n",
       "    <tr style=\"text-align: right;\">\n",
       "      <th></th>\n",
       "      <th>PL</th>\n",
       "      <th>gv</th>\n",
       "      <th>nswaps</th>\n",
       "      <th>sl</th>\n",
       "      <th>tp</th>\n",
       "      <th>size</th>\n",
       "    </tr>\n",
       "    <tr>\n",
       "      <th>date</th>\n",
       "      <th></th>\n",
       "      <th></th>\n",
       "      <th></th>\n",
       "      <th></th>\n",
       "      <th></th>\n",
       "      <th></th>\n",
       "    </tr>\n",
       "  </thead>\n",
       "  <tbody>\n",
       "  </tbody>\n",
       "</table>\n",
       "</div>"
      ],
      "text/plain": [
       "Empty DataFrame\n",
       "Columns: [PL, gv, nswaps, sl, tp, size]\n",
       "Index: []"
      ]
     },
     "metadata": {},
     "output_type": "display_data"
    },
    {
     "data": {
      "text/html": [
       "<h3>EURNOK</h3>"
      ],
      "text/plain": [
       "<IPython.core.display.HTML object>"
      ]
     },
     "metadata": {},
     "output_type": "display_data"
    },
    {
     "data": {
      "text/html": [
       "<b>Balance: </b> -0.063880 &nbsp;&nbsp;&nbsp;&nbsp; <b>Trades:</b>{'LOSS': 2, 'PROFIT': 6}"
      ],
      "text/plain": [
       "<IPython.core.display.HTML object>"
      ]
     },
     "metadata": {},
     "output_type": "display_data"
    },
    {
     "data": {
      "text/html": [
       "<b>Success rate: </b> 75.00%"
      ],
      "text/plain": [
       "<IPython.core.display.HTML object>"
      ]
     },
     "metadata": {},
     "output_type": "display_data"
    },
    {
     "name": "stdout",
     "output_type": "stream",
     "text": [
      "One month details:\n"
     ]
    },
    {
     "data": {
      "text/html": [
       "<div>\n",
       "<table border=\"1\" class=\"dataframe\">\n",
       "  <thead>\n",
       "    <tr style=\"text-align: right;\">\n",
       "      <th></th>\n",
       "      <th>PL</th>\n",
       "      <th>gv</th>\n",
       "      <th>nswaps</th>\n",
       "      <th>sl</th>\n",
       "      <th>tp</th>\n",
       "      <th>size</th>\n",
       "    </tr>\n",
       "    <tr>\n",
       "      <th>date</th>\n",
       "      <th></th>\n",
       "      <th></th>\n",
       "      <th></th>\n",
       "      <th></th>\n",
       "      <th></th>\n",
       "      <th></th>\n",
       "    </tr>\n",
       "  </thead>\n",
       "  <tbody>\n",
       "    <tr>\n",
       "      <th>2017-01-03 13:00:00</th>\n",
       "      <td>LOSS</td>\n",
       "      <td>-0.01666</td>\n",
       "      <td>0.0</td>\n",
       "      <td>9.00019</td>\n",
       "      <td>9.06683</td>\n",
       "      <td>0.01163</td>\n",
       "    </tr>\n",
       "    <tr>\n",
       "      <th>2017-01-24 11:00:00</th>\n",
       "      <td>LOSS</td>\n",
       "      <td>-0.01638</td>\n",
       "      <td>0.0</td>\n",
       "      <td>8.95696</td>\n",
       "      <td>9.02248</td>\n",
       "      <td>0.01676</td>\n",
       "    </tr>\n",
       "    <tr>\n",
       "      <th>2017-01-24 12:00:00</th>\n",
       "      <td>PROFIT</td>\n",
       "      <td>-0.00514</td>\n",
       "      <td>0.0</td>\n",
       "      <td>8.95963</td>\n",
       "      <td>9.00607</td>\n",
       "      <td>0.00813</td>\n",
       "    </tr>\n",
       "    <tr>\n",
       "      <th>2017-02-02 10:00:00</th>\n",
       "      <td>PROFIT</td>\n",
       "      <td>-0.00514</td>\n",
       "      <td>0.0</td>\n",
       "      <td>8.83850</td>\n",
       "      <td>8.91806</td>\n",
       "      <td>0.01675</td>\n",
       "    </tr>\n",
       "    <tr>\n",
       "      <th>2017-02-03 17:00:00</th>\n",
       "      <td>PROFIT</td>\n",
       "      <td>-0.00514</td>\n",
       "      <td>0.0</td>\n",
       "      <td>8.83453</td>\n",
       "      <td>8.89857</td>\n",
       "      <td>0.01673</td>\n",
       "    </tr>\n",
       "    <tr>\n",
       "      <th>2017-02-15 16:00:00</th>\n",
       "      <td>PROFIT</td>\n",
       "      <td>-0.00514</td>\n",
       "      <td>0.0</td>\n",
       "      <td>8.84634</td>\n",
       "      <td>8.90014</td>\n",
       "      <td>0.00827</td>\n",
       "    </tr>\n",
       "    <tr>\n",
       "      <th>2017-05-11 11:00:00</th>\n",
       "      <td>PROFIT</td>\n",
       "      <td>-0.00514</td>\n",
       "      <td>0.0</td>\n",
       "      <td>9.33129</td>\n",
       "      <td>9.40561</td>\n",
       "      <td>0.02560</td>\n",
       "    </tr>\n",
       "    <tr>\n",
       "      <th>2017-05-19 11:00:00</th>\n",
       "      <td>PROFIT</td>\n",
       "      <td>-0.00514</td>\n",
       "      <td>0.0</td>\n",
       "      <td>9.31338</td>\n",
       "      <td>9.51034</td>\n",
       "      <td>0.07439</td>\n",
       "    </tr>\n",
       "  </tbody>\n",
       "</table>\n",
       "</div>"
      ],
      "text/plain": [
       "                         PL       gv  nswaps       sl       tp     size\n",
       "date                                                                   \n",
       "2017-01-03 13:00:00    LOSS -0.01666     0.0  9.00019  9.06683  0.01163\n",
       "2017-01-24 11:00:00    LOSS -0.01638     0.0  8.95696  9.02248  0.01676\n",
       "2017-01-24 12:00:00  PROFIT -0.00514     0.0  8.95963  9.00607  0.00813\n",
       "2017-02-02 10:00:00  PROFIT -0.00514     0.0  8.83850  8.91806  0.01675\n",
       "2017-02-03 17:00:00  PROFIT -0.00514     0.0  8.83453  8.89857  0.01673\n",
       "2017-02-15 16:00:00  PROFIT -0.00514     0.0  8.84634  8.90014  0.00827\n",
       "2017-05-11 11:00:00  PROFIT -0.00514     0.0  9.33129  9.40561  0.02560\n",
       "2017-05-19 11:00:00  PROFIT -0.00514     0.0  9.31338  9.51034  0.07439"
      ]
     },
     "metadata": {},
     "output_type": "display_data"
    },
    {
     "data": {
      "text/html": [
       "<h3>EURPLN</h3>"
      ],
      "text/plain": [
       "<IPython.core.display.HTML object>"
      ]
     },
     "metadata": {},
     "output_type": "display_data"
    },
    {
     "data": {
      "text/html": [
       "<b>Balance: </b> -0.040330 &nbsp;&nbsp;&nbsp;&nbsp; <b>Trades:</b>{'LOSS': 1, 'PROFIT': 9}"
      ],
      "text/plain": [
       "<IPython.core.display.HTML object>"
      ]
     },
     "metadata": {},
     "output_type": "display_data"
    },
    {
     "data": {
      "text/html": [
       "<b>Success rate: </b> 90.00%"
      ],
      "text/plain": [
       "<IPython.core.display.HTML object>"
      ]
     },
     "metadata": {},
     "output_type": "display_data"
    },
    {
     "name": "stdout",
     "output_type": "stream",
     "text": [
      "One month details:\n"
     ]
    },
    {
     "data": {
      "text/html": [
       "<div>\n",
       "<table border=\"1\" class=\"dataframe\">\n",
       "  <thead>\n",
       "    <tr style=\"text-align: right;\">\n",
       "      <th></th>\n",
       "      <th>PL</th>\n",
       "      <th>gv</th>\n",
       "      <th>nswaps</th>\n",
       "      <th>sl</th>\n",
       "      <th>tp</th>\n",
       "      <th>size</th>\n",
       "    </tr>\n",
       "    <tr>\n",
       "      <th>date</th>\n",
       "      <th></th>\n",
       "      <th></th>\n",
       "      <th></th>\n",
       "      <th></th>\n",
       "      <th></th>\n",
       "      <th></th>\n",
       "    </tr>\n",
       "  </thead>\n",
       "  <tbody>\n",
       "    <tr>\n",
       "      <th>2017-03-17 22:00:00</th>\n",
       "      <td>PROFIT</td>\n",
       "      <td>-0.00345</td>\n",
       "      <td>0.0</td>\n",
       "      <td>4.27181</td>\n",
       "      <td>4.32097</td>\n",
       "      <td>0.00804</td>\n",
       "    </tr>\n",
       "    <tr>\n",
       "      <th>2017-03-20 23:00:00</th>\n",
       "      <td>PROFIT</td>\n",
       "      <td>-0.00345</td>\n",
       "      <td>1.0</td>\n",
       "      <td>4.25332</td>\n",
       "      <td>4.31404</td>\n",
       "      <td>0.01233</td>\n",
       "    </tr>\n",
       "    <tr>\n",
       "      <th>2017-05-03 04:00:00</th>\n",
       "      <td>PROFIT</td>\n",
       "      <td>-0.00345</td>\n",
       "      <td>0.0</td>\n",
       "      <td>4.18894</td>\n",
       "      <td>4.22438</td>\n",
       "      <td>0.00781</td>\n",
       "    </tr>\n",
       "    <tr>\n",
       "      <th>2017-05-16 00:00:00</th>\n",
       "      <td>PROFIT</td>\n",
       "      <td>-0.00345</td>\n",
       "      <td>0.0</td>\n",
       "      <td>4.18742</td>\n",
       "      <td>4.23014</td>\n",
       "      <td>0.00613</td>\n",
       "    </tr>\n",
       "    <tr>\n",
       "      <th>2017-05-16 09:00:00</th>\n",
       "      <td>LOSS</td>\n",
       "      <td>-0.00928</td>\n",
       "      <td>0.0</td>\n",
       "      <td>4.18755</td>\n",
       "      <td>4.22467</td>\n",
       "      <td>0.00700</td>\n",
       "    </tr>\n",
       "    <tr>\n",
       "      <th>2017-05-16 21:00:00</th>\n",
       "      <td>PROFIT</td>\n",
       "      <td>-0.00345</td>\n",
       "      <td>0.0</td>\n",
       "      <td>4.15625</td>\n",
       "      <td>4.23525</td>\n",
       "      <td>0.03007</td>\n",
       "    </tr>\n",
       "    <tr>\n",
       "      <th>2017-05-17 00:00:00</th>\n",
       "      <td>PROFIT</td>\n",
       "      <td>-0.00345</td>\n",
       "      <td>0.0</td>\n",
       "      <td>4.16175</td>\n",
       "      <td>4.21035</td>\n",
       "      <td>0.01020</td>\n",
       "    </tr>\n",
       "    <tr>\n",
       "      <th>2017-05-17 01:00:00</th>\n",
       "      <td>PROFIT</td>\n",
       "      <td>-0.00345</td>\n",
       "      <td>0.0</td>\n",
       "      <td>4.16405</td>\n",
       "      <td>4.21265</td>\n",
       "      <td>0.00800</td>\n",
       "    </tr>\n",
       "    <tr>\n",
       "      <th>2017-05-24 18:00:00</th>\n",
       "      <td>PROFIT</td>\n",
       "      <td>-0.00345</td>\n",
       "      <td>0.0</td>\n",
       "      <td>4.17320</td>\n",
       "      <td>4.21624</td>\n",
       "      <td>0.01035</td>\n",
       "    </tr>\n",
       "    <tr>\n",
       "      <th>2017-05-25 02:00:00</th>\n",
       "      <td>PROFIT</td>\n",
       "      <td>-0.00345</td>\n",
       "      <td>0.0</td>\n",
       "      <td>4.16800</td>\n",
       "      <td>4.20520</td>\n",
       "      <td>0.00495</td>\n",
       "    </tr>\n",
       "  </tbody>\n",
       "</table>\n",
       "</div>"
      ],
      "text/plain": [
       "                         PL       gv  nswaps       sl       tp     size\n",
       "date                                                                   \n",
       "2017-03-17 22:00:00  PROFIT -0.00345     0.0  4.27181  4.32097  0.00804\n",
       "2017-03-20 23:00:00  PROFIT -0.00345     1.0  4.25332  4.31404  0.01233\n",
       "2017-05-03 04:00:00  PROFIT -0.00345     0.0  4.18894  4.22438  0.00781\n",
       "2017-05-16 00:00:00  PROFIT -0.00345     0.0  4.18742  4.23014  0.00613\n",
       "2017-05-16 09:00:00    LOSS -0.00928     0.0  4.18755  4.22467  0.00700\n",
       "2017-05-16 21:00:00  PROFIT -0.00345     0.0  4.15625  4.23525  0.03007\n",
       "2017-05-17 00:00:00  PROFIT -0.00345     0.0  4.16175  4.21035  0.01020\n",
       "2017-05-17 01:00:00  PROFIT -0.00345     0.0  4.16405  4.21265  0.00800\n",
       "2017-05-24 18:00:00  PROFIT -0.00345     0.0  4.17320  4.21624  0.01035\n",
       "2017-05-25 02:00:00  PROFIT -0.00345     0.0  4.16800  4.20520  0.00495"
      ]
     },
     "metadata": {},
     "output_type": "display_data"
    },
    {
     "data": {
      "text/html": [
       "<h3>EURSEK</h3>"
      ],
      "text/plain": [
       "<IPython.core.display.HTML object>"
      ]
     },
     "metadata": {},
     "output_type": "display_data"
    },
    {
     "data": {
      "text/html": [
       "<b>Balance: </b> -0.003100 &nbsp;&nbsp;&nbsp;&nbsp; <b>Trades:</b>{'PROFIT': 1}"
      ],
      "text/plain": [
       "<IPython.core.display.HTML object>"
      ]
     },
     "metadata": {},
     "output_type": "display_data"
    },
    {
     "data": {
      "text/html": [
       "<b>Success rate: </b> 100.00%"
      ],
      "text/plain": [
       "<IPython.core.display.HTML object>"
      ]
     },
     "metadata": {},
     "output_type": "display_data"
    },
    {
     "name": "stdout",
     "output_type": "stream",
     "text": [
      "One month details:\n"
     ]
    },
    {
     "data": {
      "text/html": [
       "<div>\n",
       "<table border=\"1\" class=\"dataframe\">\n",
       "  <thead>\n",
       "    <tr style=\"text-align: right;\">\n",
       "      <th></th>\n",
       "      <th>PL</th>\n",
       "      <th>gv</th>\n",
       "      <th>nswaps</th>\n",
       "      <th>sl</th>\n",
       "      <th>tp</th>\n",
       "      <th>size</th>\n",
       "    </tr>\n",
       "    <tr>\n",
       "      <th>date</th>\n",
       "      <th></th>\n",
       "      <th></th>\n",
       "      <th></th>\n",
       "      <th></th>\n",
       "      <th></th>\n",
       "      <th></th>\n",
       "    </tr>\n",
       "  </thead>\n",
       "  <tbody>\n",
       "    <tr>\n",
       "      <th>2017-05-11 11:00:00</th>\n",
       "      <td>PROFIT</td>\n",
       "      <td>-0.0031</td>\n",
       "      <td>0.0</td>\n",
       "      <td>9.62283</td>\n",
       "      <td>9.68867</td>\n",
       "      <td>0.02059</td>\n",
       "    </tr>\n",
       "  </tbody>\n",
       "</table>\n",
       "</div>"
      ],
      "text/plain": [
       "                         PL      gv  nswaps       sl       tp     size\n",
       "date                                                                  \n",
       "2017-05-11 11:00:00  PROFIT -0.0031     0.0  9.62283  9.68867  0.02059"
      ]
     },
     "metadata": {},
     "output_type": "display_data"
    },
    {
     "data": {
      "text/html": [
       "<h3>EURUSD</h3>"
      ],
      "text/plain": [
       "<IPython.core.display.HTML object>"
      ]
     },
     "metadata": {},
     "output_type": "display_data"
    },
    {
     "data": {
      "text/html": [
       "<b>Balance: </b> 0.000920 &nbsp;&nbsp;&nbsp;&nbsp; <b>Trades:</b>{'LOSS': 1, 'PROFIT': 3}"
      ],
      "text/plain": [
       "<IPython.core.display.HTML object>"
      ]
     },
     "metadata": {},
     "output_type": "display_data"
    },
    {
     "data": {
      "text/html": [
       "<b>Success rate: </b> 75.00%"
      ],
      "text/plain": [
       "<IPython.core.display.HTML object>"
      ]
     },
     "metadata": {},
     "output_type": "display_data"
    },
    {
     "name": "stdout",
     "output_type": "stream",
     "text": [
      "One month details:\n"
     ]
    },
    {
     "data": {
      "text/html": [
       "<div>\n",
       "<table border=\"1\" class=\"dataframe\">\n",
       "  <thead>\n",
       "    <tr style=\"text-align: right;\">\n",
       "      <th></th>\n",
       "      <th>PL</th>\n",
       "      <th>gv</th>\n",
       "      <th>nswaps</th>\n",
       "      <th>sl</th>\n",
       "      <th>tp</th>\n",
       "      <th>size</th>\n",
       "    </tr>\n",
       "    <tr>\n",
       "      <th>date</th>\n",
       "      <th></th>\n",
       "      <th></th>\n",
       "      <th></th>\n",
       "      <th></th>\n",
       "      <th></th>\n",
       "      <th></th>\n",
       "    </tr>\n",
       "  </thead>\n",
       "  <tbody>\n",
       "    <tr>\n",
       "      <th>2017-02-07 10:00:00</th>\n",
       "      <td>LOSS</td>\n",
       "      <td>-0.00154</td>\n",
       "      <td>0.0</td>\n",
       "      <td>1.06597</td>\n",
       "      <td>1.07213</td>\n",
       "      <td>0.00226</td>\n",
       "    </tr>\n",
       "    <tr>\n",
       "      <th>2017-02-10 16:00:00</th>\n",
       "      <td>PROFIT</td>\n",
       "      <td>0.00082</td>\n",
       "      <td>0.0</td>\n",
       "      <td>1.06060</td>\n",
       "      <td>1.06748</td>\n",
       "      <td>0.00167</td>\n",
       "    </tr>\n",
       "    <tr>\n",
       "      <th>2017-02-22 12:00:00</th>\n",
       "      <td>PROFIT</td>\n",
       "      <td>0.00082</td>\n",
       "      <td>0.0</td>\n",
       "      <td>1.04924</td>\n",
       "      <td>1.05516</td>\n",
       "      <td>0.00164</td>\n",
       "    </tr>\n",
       "    <tr>\n",
       "      <th>2017-06-15 19:00:00</th>\n",
       "      <td>PROFIT</td>\n",
       "      <td>0.00082</td>\n",
       "      <td>1.0</td>\n",
       "      <td>1.11375</td>\n",
       "      <td>1.11851</td>\n",
       "      <td>0.00121</td>\n",
       "    </tr>\n",
       "  </tbody>\n",
       "</table>\n",
       "</div>"
      ],
      "text/plain": [
       "                         PL       gv  nswaps       sl       tp     size\n",
       "date                                                                   \n",
       "2017-02-07 10:00:00    LOSS -0.00154     0.0  1.06597  1.07213  0.00226\n",
       "2017-02-10 16:00:00  PROFIT  0.00082     0.0  1.06060  1.06748  0.00167\n",
       "2017-02-22 12:00:00  PROFIT  0.00082     0.0  1.04924  1.05516  0.00164\n",
       "2017-06-15 19:00:00  PROFIT  0.00082     1.0  1.11375  1.11851  0.00121"
      ]
     },
     "metadata": {},
     "output_type": "display_data"
    },
    {
     "data": {
      "text/html": [
       "<h3>GBPCAD</h3>"
      ],
      "text/plain": [
       "<IPython.core.display.HTML object>"
      ]
     },
     "metadata": {},
     "output_type": "display_data"
    },
    {
     "data": {
      "text/html": [
       "<b>Balance: </b> -0.000830 &nbsp;&nbsp;&nbsp;&nbsp; <b>Trades:</b>{'LOSS': 1, 'PROFIT': 6}"
      ],
      "text/plain": [
       "<IPython.core.display.HTML object>"
      ]
     },
     "metadata": {},
     "output_type": "display_data"
    },
    {
     "data": {
      "text/html": [
       "<b>Success rate: </b> 85.71%"
      ],
      "text/plain": [
       "<IPython.core.display.HTML object>"
      ]
     },
     "metadata": {},
     "output_type": "display_data"
    },
    {
     "name": "stdout",
     "output_type": "stream",
     "text": [
      "One month details:\n"
     ]
    },
    {
     "data": {
      "text/html": [
       "<div>\n",
       "<table border=\"1\" class=\"dataframe\">\n",
       "  <thead>\n",
       "    <tr style=\"text-align: right;\">\n",
       "      <th></th>\n",
       "      <th>PL</th>\n",
       "      <th>gv</th>\n",
       "      <th>nswaps</th>\n",
       "      <th>sl</th>\n",
       "      <th>tp</th>\n",
       "      <th>size</th>\n",
       "    </tr>\n",
       "    <tr>\n",
       "      <th>date</th>\n",
       "      <th></th>\n",
       "      <th></th>\n",
       "      <th></th>\n",
       "      <th></th>\n",
       "      <th></th>\n",
       "      <th></th>\n",
       "    </tr>\n",
       "  </thead>\n",
       "  <tbody>\n",
       "    <tr>\n",
       "      <th>2017-02-27 10:00:00</th>\n",
       "      <td>PROFIT</td>\n",
       "      <td>0.00050</td>\n",
       "      <td>0.0</td>\n",
       "      <td>1.62355</td>\n",
       "      <td>1.63751</td>\n",
       "      <td>0.00331</td>\n",
       "    </tr>\n",
       "    <tr>\n",
       "      <th>2017-03-14 09:00:00</th>\n",
       "      <td>LOSS</td>\n",
       "      <td>-0.00383</td>\n",
       "      <td>0.0</td>\n",
       "      <td>1.63119</td>\n",
       "      <td>1.64651</td>\n",
       "      <td>0.00359</td>\n",
       "    </tr>\n",
       "    <tr>\n",
       "      <th>2017-03-14 10:00:00</th>\n",
       "      <td>PROFIT</td>\n",
       "      <td>0.00050</td>\n",
       "      <td>0.0</td>\n",
       "      <td>1.63122</td>\n",
       "      <td>1.64462</td>\n",
       "      <td>0.00338</td>\n",
       "    </tr>\n",
       "    <tr>\n",
       "      <th>2017-03-29 03:00:00</th>\n",
       "      <td>PROFIT</td>\n",
       "      <td>0.00050</td>\n",
       "      <td>0.0</td>\n",
       "      <td>1.65639</td>\n",
       "      <td>1.67675</td>\n",
       "      <td>0.00496</td>\n",
       "    </tr>\n",
       "    <tr>\n",
       "      <th>2017-04-07 13:00:00</th>\n",
       "      <td>PROFIT</td>\n",
       "      <td>0.00050</td>\n",
       "      <td>0.0</td>\n",
       "      <td>1.66194</td>\n",
       "      <td>1.67566</td>\n",
       "      <td>0.00293</td>\n",
       "    </tr>\n",
       "    <tr>\n",
       "      <th>2017-06-12 15:00:00</th>\n",
       "      <td>PROFIT</td>\n",
       "      <td>0.00050</td>\n",
       "      <td>0.0</td>\n",
       "      <td>1.70046</td>\n",
       "      <td>1.71282</td>\n",
       "      <td>0.00374</td>\n",
       "    </tr>\n",
       "    <tr>\n",
       "      <th>2017-06-13 08:00:00</th>\n",
       "      <td>PROFIT</td>\n",
       "      <td>0.00050</td>\n",
       "      <td>0.0</td>\n",
       "      <td>1.67937</td>\n",
       "      <td>1.69349</td>\n",
       "      <td>0.00305</td>\n",
       "    </tr>\n",
       "  </tbody>\n",
       "</table>\n",
       "</div>"
      ],
      "text/plain": [
       "                         PL       gv  nswaps       sl       tp     size\n",
       "date                                                                   \n",
       "2017-02-27 10:00:00  PROFIT  0.00050     0.0  1.62355  1.63751  0.00331\n",
       "2017-03-14 09:00:00    LOSS -0.00383     0.0  1.63119  1.64651  0.00359\n",
       "2017-03-14 10:00:00  PROFIT  0.00050     0.0  1.63122  1.64462  0.00338\n",
       "2017-03-29 03:00:00  PROFIT  0.00050     0.0  1.65639  1.67675  0.00496\n",
       "2017-04-07 13:00:00  PROFIT  0.00050     0.0  1.66194  1.67566  0.00293\n",
       "2017-06-12 15:00:00  PROFIT  0.00050     0.0  1.70046  1.71282  0.00374\n",
       "2017-06-13 08:00:00  PROFIT  0.00050     0.0  1.67937  1.69349  0.00305"
      ]
     },
     "metadata": {},
     "output_type": "display_data"
    },
    {
     "data": {
      "text/html": [
       "<h3>USDCAD</h3>"
      ],
      "text/plain": [
       "<IPython.core.display.HTML object>"
      ]
     },
     "metadata": {},
     "output_type": "display_data"
    },
    {
     "data": {
      "text/html": [
       "<b>Balance: </b> 0.003950 &nbsp;&nbsp;&nbsp;&nbsp; <b>Trades:</b>{'PROFIT': 5}"
      ],
      "text/plain": [
       "<IPython.core.display.HTML object>"
      ]
     },
     "metadata": {},
     "output_type": "display_data"
    },
    {
     "data": {
      "text/html": [
       "<b>Success rate: </b> 100.00%"
      ],
      "text/plain": [
       "<IPython.core.display.HTML object>"
      ]
     },
     "metadata": {},
     "output_type": "display_data"
    },
    {
     "name": "stdout",
     "output_type": "stream",
     "text": [
      "One month details:\n"
     ]
    },
    {
     "data": {
      "text/html": [
       "<div>\n",
       "<table border=\"1\" class=\"dataframe\">\n",
       "  <thead>\n",
       "    <tr style=\"text-align: right;\">\n",
       "      <th></th>\n",
       "      <th>PL</th>\n",
       "      <th>gv</th>\n",
       "      <th>nswaps</th>\n",
       "      <th>sl</th>\n",
       "      <th>tp</th>\n",
       "      <th>size</th>\n",
       "    </tr>\n",
       "    <tr>\n",
       "      <th>date</th>\n",
       "      <th></th>\n",
       "      <th></th>\n",
       "      <th></th>\n",
       "      <th></th>\n",
       "      <th></th>\n",
       "      <th></th>\n",
       "    </tr>\n",
       "  </thead>\n",
       "  <tbody>\n",
       "    <tr>\n",
       "      <th>2017-03-16 02:00:00</th>\n",
       "      <td>PROFIT</td>\n",
       "      <td>0.00079</td>\n",
       "      <td>0.0</td>\n",
       "      <td>1.32812</td>\n",
       "      <td>1.33288</td>\n",
       "      <td>0.00136</td>\n",
       "    </tr>\n",
       "    <tr>\n",
       "      <th>2017-03-16 09:00:00</th>\n",
       "      <td>PROFIT</td>\n",
       "      <td>0.00079</td>\n",
       "      <td>0.0</td>\n",
       "      <td>1.32745</td>\n",
       "      <td>1.33757</td>\n",
       "      <td>0.00264</td>\n",
       "    </tr>\n",
       "    <tr>\n",
       "      <th>2017-03-21 15:00:00</th>\n",
       "      <td>PROFIT</td>\n",
       "      <td>0.00079</td>\n",
       "      <td>0.0</td>\n",
       "      <td>1.32620</td>\n",
       "      <td>1.33400</td>\n",
       "      <td>0.00239</td>\n",
       "    </tr>\n",
       "    <tr>\n",
       "      <th>2017-04-24 13:00:00</th>\n",
       "      <td>PROFIT</td>\n",
       "      <td>0.00079</td>\n",
       "      <td>0.0</td>\n",
       "      <td>1.34089</td>\n",
       "      <td>1.34789</td>\n",
       "      <td>0.00221</td>\n",
       "    </tr>\n",
       "    <tr>\n",
       "      <th>2017-06-22 17:00:00</th>\n",
       "      <td>PROFIT</td>\n",
       "      <td>0.00079</td>\n",
       "      <td>0.0</td>\n",
       "      <td>1.32063</td>\n",
       "      <td>1.32943</td>\n",
       "      <td>0.00295</td>\n",
       "    </tr>\n",
       "  </tbody>\n",
       "</table>\n",
       "</div>"
      ],
      "text/plain": [
       "                         PL       gv  nswaps       sl       tp     size\n",
       "date                                                                   \n",
       "2017-03-16 02:00:00  PROFIT  0.00079     0.0  1.32812  1.33288  0.00136\n",
       "2017-03-16 09:00:00  PROFIT  0.00079     0.0  1.32745  1.33757  0.00264\n",
       "2017-03-21 15:00:00  PROFIT  0.00079     0.0  1.32620  1.33400  0.00239\n",
       "2017-04-24 13:00:00  PROFIT  0.00079     0.0  1.34089  1.34789  0.00221\n",
       "2017-06-22 17:00:00  PROFIT  0.00079     0.0  1.32063  1.32943  0.00295"
      ]
     },
     "metadata": {},
     "output_type": "display_data"
    },
    {
     "data": {
      "text/html": [
       "<h3>USDCHF</h3>"
      ],
      "text/plain": [
       "<IPython.core.display.HTML object>"
      ]
     },
     "metadata": {},
     "output_type": "display_data"
    },
    {
     "data": {
      "text/html": [
       "<b>Balance: </b> -0.002680 &nbsp;&nbsp;&nbsp;&nbsp; <b>Trades:</b>{'LOSS': 4, 'PROFIT': 5}"
      ],
      "text/plain": [
       "<IPython.core.display.HTML object>"
      ]
     },
     "metadata": {},
     "output_type": "display_data"
    },
    {
     "data": {
      "text/html": [
       "<b>Success rate: </b> 55.56%"
      ],
      "text/plain": [
       "<IPython.core.display.HTML object>"
      ]
     },
     "metadata": {},
     "output_type": "display_data"
    },
    {
     "name": "stdout",
     "output_type": "stream",
     "text": [
      "One month details:\n"
     ]
    },
    {
     "data": {
      "text/html": [
       "<div>\n",
       "<table border=\"1\" class=\"dataframe\">\n",
       "  <thead>\n",
       "    <tr style=\"text-align: right;\">\n",
       "      <th></th>\n",
       "      <th>PL</th>\n",
       "      <th>gv</th>\n",
       "      <th>nswaps</th>\n",
       "      <th>sl</th>\n",
       "      <th>tp</th>\n",
       "      <th>size</th>\n",
       "    </tr>\n",
       "    <tr>\n",
       "      <th>date</th>\n",
       "      <th></th>\n",
       "      <th></th>\n",
       "      <th></th>\n",
       "      <th></th>\n",
       "      <th></th>\n",
       "      <th></th>\n",
       "    </tr>\n",
       "  </thead>\n",
       "  <tbody>\n",
       "    <tr>\n",
       "      <th>2017-03-16 02:00:00</th>\n",
       "      <td>PROFIT</td>\n",
       "      <td>0.00080</td>\n",
       "      <td>0.0</td>\n",
       "      <td>0.99825</td>\n",
       "      <td>1.00317</td>\n",
       "      <td>0.00167</td>\n",
       "    </tr>\n",
       "    <tr>\n",
       "      <th>2017-03-16 08:00:00</th>\n",
       "      <td>LOSS</td>\n",
       "      <td>-0.00120</td>\n",
       "      <td>0.0</td>\n",
       "      <td>0.99801</td>\n",
       "      <td>1.00281</td>\n",
       "      <td>0.00142</td>\n",
       "    </tr>\n",
       "    <tr>\n",
       "      <th>2017-03-27 10:00:00</th>\n",
       "      <td>LOSS</td>\n",
       "      <td>-0.00197</td>\n",
       "      <td>0.0</td>\n",
       "      <td>0.98341</td>\n",
       "      <td>0.99129</td>\n",
       "      <td>0.00167</td>\n",
       "    </tr>\n",
       "    <tr>\n",
       "      <th>2017-03-27 11:00:00</th>\n",
       "      <td>LOSS</td>\n",
       "      <td>-0.00140</td>\n",
       "      <td>0.0</td>\n",
       "      <td>0.98409</td>\n",
       "      <td>0.98969</td>\n",
       "      <td>0.00122</td>\n",
       "    </tr>\n",
       "    <tr>\n",
       "      <th>2017-03-27 16:00:00</th>\n",
       "      <td>PROFIT</td>\n",
       "      <td>0.00080</td>\n",
       "      <td>0.0</td>\n",
       "      <td>0.98116</td>\n",
       "      <td>0.99004</td>\n",
       "      <td>0.00211</td>\n",
       "    </tr>\n",
       "    <tr>\n",
       "      <th>2017-05-16 14:00:00</th>\n",
       "      <td>LOSS</td>\n",
       "      <td>-0.00211</td>\n",
       "      <td>0.0</td>\n",
       "      <td>0.98899</td>\n",
       "      <td>0.99743</td>\n",
       "      <td>0.00196</td>\n",
       "    </tr>\n",
       "    <tr>\n",
       "      <th>2017-05-17 17:00:00</th>\n",
       "      <td>PROFIT</td>\n",
       "      <td>0.00080</td>\n",
       "      <td>0.0</td>\n",
       "      <td>0.97726</td>\n",
       "      <td>0.98418</td>\n",
       "      <td>0.00260</td>\n",
       "    </tr>\n",
       "    <tr>\n",
       "      <th>2017-05-31 14:00:00</th>\n",
       "      <td>PROFIT</td>\n",
       "      <td>0.00080</td>\n",
       "      <td>0.0</td>\n",
       "      <td>0.96989</td>\n",
       "      <td>0.97533</td>\n",
       "      <td>0.00123</td>\n",
       "    </tr>\n",
       "    <tr>\n",
       "      <th>2017-06-05 00:00:00</th>\n",
       "      <td>PROFIT</td>\n",
       "      <td>0.00080</td>\n",
       "      <td>0.0</td>\n",
       "      <td>0.96081</td>\n",
       "      <td>0.97009</td>\n",
       "      <td>0.00241</td>\n",
       "    </tr>\n",
       "  </tbody>\n",
       "</table>\n",
       "</div>"
      ],
      "text/plain": [
       "                         PL       gv  nswaps       sl       tp     size\n",
       "date                                                                   \n",
       "2017-03-16 02:00:00  PROFIT  0.00080     0.0  0.99825  1.00317  0.00167\n",
       "2017-03-16 08:00:00    LOSS -0.00120     0.0  0.99801  1.00281  0.00142\n",
       "2017-03-27 10:00:00    LOSS -0.00197     0.0  0.98341  0.99129  0.00167\n",
       "2017-03-27 11:00:00    LOSS -0.00140     0.0  0.98409  0.98969  0.00122\n",
       "2017-03-27 16:00:00  PROFIT  0.00080     0.0  0.98116  0.99004  0.00211\n",
       "2017-05-16 14:00:00    LOSS -0.00211     0.0  0.98899  0.99743  0.00196\n",
       "2017-05-17 17:00:00  PROFIT  0.00080     0.0  0.97726  0.98418  0.00260\n",
       "2017-05-31 14:00:00  PROFIT  0.00080     0.0  0.96989  0.97533  0.00123\n",
       "2017-06-05 00:00:00  PROFIT  0.00080     0.0  0.96081  0.97009  0.00241"
      ]
     },
     "metadata": {},
     "output_type": "display_data"
    }
   ],
   "source": [
    "for iname in sorted(INSTRUMENTS.keys()):\n",
    "    inst = INSTRUMENTS[iname]\n",
    "    if inst.results is not None:\n",
    "        display(HTML('<h3>%s</h3>' % iname))\n",
    "        display(HTML('<b>Balance: </b> %f &nbsp;&nbsp;&nbsp;&nbsp; <b>Trades:</b>%s' % (inst.balance, inst.stats)))\n",
    "        display(HTML('<b>Success rate: </b> %.2f%%' % (100. * inst.success_rate)))\n",
    "        print(\"One month details:\")\n",
    "        #display(inst.results['2017/06/01':])        \n",
    "        display(inst.results[:])        "
   ]
  },
  {
   "cell_type": "code",
   "execution_count": 57,
   "metadata": {},
   "outputs": [
    {
     "data": {
      "text/plain": [
       "-0.0026799999999999971"
      ]
     },
     "execution_count": 57,
     "metadata": {},
     "output_type": "execute_result"
    }
   ],
   "source": [
    "INSTRUMENTS['USDCHF'].results['gv'].sum()"
   ]
  },
  {
   "cell_type": "markdown",
   "metadata": {},
   "source": [
    "<a id=\"eksperyment3summary\"></a>\n",
    "### Podsumowanie zbiorcze - Młotki"
   ]
  },
  {
   "cell_type": "code",
   "execution_count": 58,
   "metadata": {
    "scrolled": false
   },
   "outputs": [
    {
     "name": "stdout",
     "output_type": "stream",
     "text": [
      "     AUDCAD   -0.00173\n",
      "     AUDCHF   -0.01024\n",
      "     AUDJPY   -0.056\n",
      "     AUDNZD   0.00118\n",
      "     CADJPY   -0.155\n",
      "     EURAUD   -0.0021\n",
      "     EURCHF   0\n",
      "     EURNOK   -0.06388\n",
      "     EURPLN   -0.04033\n",
      "     EURSEK   -0.0031\n",
      "     EURUSD   0.00092\n",
      "     GBPCAD   -0.00083\n",
      "     USDCAD   0.00395\n",
      "     USDCHF   -0.00268\n",
      "\n",
      "3/14 (21.43%)\n",
      "\n",
      "48 67\n"
     ]
    }
   ],
   "source": [
    "posivite_instruments = 0\n",
    "for iname in sorted(INSTRUMENTS.keys()):\n",
    "    print('%11s   %g' % (iname, INSTRUMENTS[iname].balance))\n",
    "    if INSTRUMENTS[iname].balance > 0:\n",
    "        posivite_instruments += 1\n",
    "print()\n",
    "print(\"%d/%d (%.2f%%)\" % (posivite_instruments, len(INSTRUMENTS),  100. * posivite_instruments / len(INSTRUMENTS)))\n",
    "print()\n",
    "\n",
    "total_nloss = 0\n",
    "total_nprofit = 0\n",
    "for iname in sorted(INSTRUMENTS.keys()):\n",
    "    total_nloss += INSTRUMENTS[iname].stats.get('LOSS', 0)\n",
    "    total_nprofit += INSTRUMENTS[iname].stats.get('PROFIT', 0)\n",
    "    #print(iname, str(INSTRUMENTS[iname].stats))\n",
    "    #if INSTRUMENTS[iname].balance > 0:\n",
    "    #    posivite_instruments += 1\n",
    "print(\"%d %d\" % (total_nprofit, total_nprofit + total_nloss))"
   ]
  },
  {
   "cell_type": "markdown",
   "metadata": {},
   "source": [
    "<a id='eksperyment4'></a>\n",
    "## Eksperyment 4) Analiza zbiorcza dla wszystkich walorów - Spadające gwiazdy"
   ]
  },
  {
   "cell_type": "code",
   "execution_count": 40,
   "metadata": {},
   "outputs": [
    {
     "name": "stdout",
     "output_type": "stream",
     "text": [
      "AUDCAD\n",
      "AUDCHF\n",
      "AUDJPY\n",
      "AUDNZD\n",
      "CADJPY\n",
      "EURAUD\n",
      "EURCHF\n",
      "EURNOK\n",
      "EURPLN\n",
      "EURSEK\n",
      "EURUSD\n",
      "GBPCAD\n",
      "USDCAD\n",
      "USDCHF\n",
      "CPU times: user 15.3 s, sys: 16.6 ms, total: 15.3 s\n",
      "Wall time: 15.3 s\n"
     ]
    }
   ],
   "source": [
    "%%time\n",
    "\n",
    "for iname in sorted(INSTRUMENTS.keys()):\n",
    "    print(iname)\n",
    "    inst = INSTRUMENTS[iname]\n",
    "    inst.results = pd.DataFrame( columns = range(7) )\n",
    "\n",
    "    stats = {}\n",
    "    balance = 0.\n",
    "    for idx, row in inst.data['2017/01/01':].iterrows():  # XXX Month\n",
    "        if jestSpadajacaGwiazda(row) and zasada1120(inst,idx) and inst.rsi[idx] >= 70: # XXX jestMlotek\n",
    "            res = sprawdz(inst, idx, 'sell') # XXX buy/sell\n",
    "            if not res or type(res) == str:\n",
    "                continue        \n",
    "            inst.results = inst.results.append([ (idx,) + res ])\n",
    "            if type(res) == tuple:\n",
    "                balance += res[1] # XXX tu ewentualnie uwzgledniac swap * nswaps\n",
    "                if res[0] not in stats:\n",
    "                    stats[res[0]] = 0\n",
    "                stats[res[0]] += 1\n",
    "    inst.results.columns = ['date', 'PL', 'gv', 'nswaps', 'sl', 'tp', 'size']\n",
    "    inst.results.set_index('date', inplace=True)\n",
    "    inst.balance = balance\n",
    "    inst.stats = stats\n",
    "    inst.success_rate = 0\n",
    "    if 'PROFIT' in stats:\n",
    "        inst.success_rate = stats['PROFIT']/ sum(stats.values())"
   ]
  },
  {
   "cell_type": "code",
   "execution_count": 41,
   "metadata": {
    "scrolled": false
   },
   "outputs": [
    {
     "data": {
      "text/html": [
       "<h3>AUDCAD</h3>"
      ],
      "text/plain": [
       "<IPython.core.display.HTML object>"
      ]
     },
     "metadata": {},
     "output_type": "display_data"
    },
    {
     "data": {
      "text/html": [
       "<b>Balance: </b> 0.001160 &nbsp;&nbsp;&nbsp;&nbsp; <b>Trades:</b>{'LOSS': 2, 'PROFIT': 4}"
      ],
      "text/plain": [
       "<IPython.core.display.HTML object>"
      ]
     },
     "metadata": {},
     "output_type": "display_data"
    },
    {
     "data": {
      "text/html": [
       "<b>Success rate: </b> 66.67%"
      ],
      "text/plain": [
       "<IPython.core.display.HTML object>"
      ]
     },
     "metadata": {},
     "output_type": "display_data"
    },
    {
     "name": "stdout",
     "output_type": "stream",
     "text": [
      "One month details:\n"
     ]
    },
    {
     "data": {
      "text/html": [
       "<div>\n",
       "<table border=\"1\" class=\"dataframe\">\n",
       "  <thead>\n",
       "    <tr style=\"text-align: right;\">\n",
       "      <th></th>\n",
       "      <th>PL</th>\n",
       "      <th>gv</th>\n",
       "      <th>nswaps</th>\n",
       "      <th>sl</th>\n",
       "      <th>tp</th>\n",
       "      <th>size</th>\n",
       "    </tr>\n",
       "    <tr>\n",
       "      <th>date</th>\n",
       "      <th></th>\n",
       "      <th></th>\n",
       "      <th></th>\n",
       "      <th></th>\n",
       "      <th></th>\n",
       "      <th></th>\n",
       "    </tr>\n",
       "  </thead>\n",
       "  <tbody>\n",
       "    <tr>\n",
       "      <th>2017-03-01 04:00:00</th>\n",
       "      <td>PROFIT</td>\n",
       "      <td>0.00102</td>\n",
       "      <td>0.0</td>\n",
       "      <td>1.02324</td>\n",
       "      <td>1.01000</td>\n",
       "      <td>0.00306</td>\n",
       "    </tr>\n",
       "    <tr>\n",
       "      <th>2017-05-01 14:00:00</th>\n",
       "      <td>LOSS</td>\n",
       "      <td>-0.00193</td>\n",
       "      <td>0.0</td>\n",
       "      <td>1.02839</td>\n",
       "      <td>1.02067</td>\n",
       "      <td>0.00161</td>\n",
       "    </tr>\n",
       "    <tr>\n",
       "      <th>2017-05-01 15:00:00</th>\n",
       "      <td>LOSS</td>\n",
       "      <td>-0.00185</td>\n",
       "      <td>0.0</td>\n",
       "      <td>1.02912</td>\n",
       "      <td>1.02172</td>\n",
       "      <td>0.00194</td>\n",
       "    </tr>\n",
       "    <tr>\n",
       "      <th>2017-05-01 17:00:00</th>\n",
       "      <td>PROFIT</td>\n",
       "      <td>0.00103</td>\n",
       "      <td>0.0</td>\n",
       "      <td>1.03079</td>\n",
       "      <td>1.02131</td>\n",
       "      <td>0.00206</td>\n",
       "    </tr>\n",
       "    <tr>\n",
       "      <th>2017-06-05 17:00:00</th>\n",
       "      <td>PROFIT</td>\n",
       "      <td>0.00108</td>\n",
       "      <td>0.0</td>\n",
       "      <td>1.01055</td>\n",
       "      <td>1.00411</td>\n",
       "      <td>0.00141</td>\n",
       "    </tr>\n",
       "    <tr>\n",
       "      <th>2017-06-23 16:00:00</th>\n",
       "      <td>PROFIT</td>\n",
       "      <td>0.00181</td>\n",
       "      <td>0.0</td>\n",
       "      <td>1.00698</td>\n",
       "      <td>0.99814</td>\n",
       "      <td>0.00198</td>\n",
       "    </tr>\n",
       "  </tbody>\n",
       "</table>\n",
       "</div>"
      ],
      "text/plain": [
       "                         PL       gv  nswaps       sl       tp     size\n",
       "date                                                                   \n",
       "2017-03-01 04:00:00  PROFIT  0.00102     0.0  1.02324  1.01000  0.00306\n",
       "2017-05-01 14:00:00    LOSS -0.00193     0.0  1.02839  1.02067  0.00161\n",
       "2017-05-01 15:00:00    LOSS -0.00185     0.0  1.02912  1.02172  0.00194\n",
       "2017-05-01 17:00:00  PROFIT  0.00103     0.0  1.03079  1.02131  0.00206\n",
       "2017-06-05 17:00:00  PROFIT  0.00108     0.0  1.01055  1.00411  0.00141\n",
       "2017-06-23 16:00:00  PROFIT  0.00181     0.0  1.00698  0.99814  0.00198"
      ]
     },
     "metadata": {},
     "output_type": "display_data"
    },
    {
     "data": {
      "text/html": [
       "<h3>AUDCHF</h3>"
      ],
      "text/plain": [
       "<IPython.core.display.HTML object>"
      ]
     },
     "metadata": {},
     "output_type": "display_data"
    },
    {
     "data": {
      "text/html": [
       "<b>Balance: </b> -0.001150 &nbsp;&nbsp;&nbsp;&nbsp; <b>Trades:</b>{'LOSS': 1, 'PROFIT': 1}"
      ],
      "text/plain": [
       "<IPython.core.display.HTML object>"
      ]
     },
     "metadata": {},
     "output_type": "display_data"
    },
    {
     "data": {
      "text/html": [
       "<b>Success rate: </b> 50.00%"
      ],
      "text/plain": [
       "<IPython.core.display.HTML object>"
      ]
     },
     "metadata": {},
     "output_type": "display_data"
    },
    {
     "name": "stdout",
     "output_type": "stream",
     "text": [
      "One month details:\n"
     ]
    },
    {
     "data": {
      "text/html": [
       "<div>\n",
       "<table border=\"1\" class=\"dataframe\">\n",
       "  <thead>\n",
       "    <tr style=\"text-align: right;\">\n",
       "      <th></th>\n",
       "      <th>PL</th>\n",
       "      <th>gv</th>\n",
       "      <th>nswaps</th>\n",
       "      <th>sl</th>\n",
       "      <th>tp</th>\n",
       "      <th>size</th>\n",
       "    </tr>\n",
       "    <tr>\n",
       "      <th>date</th>\n",
       "      <th></th>\n",
       "      <th></th>\n",
       "      <th></th>\n",
       "      <th></th>\n",
       "      <th></th>\n",
       "      <th></th>\n",
       "    </tr>\n",
       "  </thead>\n",
       "  <tbody>\n",
       "    <tr>\n",
       "      <th>2017-03-07 07:00:00</th>\n",
       "      <td>PROFIT</td>\n",
       "      <td>0.00106</td>\n",
       "      <td>0.0</td>\n",
       "      <td>0.77181</td>\n",
       "      <td>0.76489</td>\n",
       "      <td>0.00098</td>\n",
       "    </tr>\n",
       "    <tr>\n",
       "      <th>2017-03-28 21:00:00</th>\n",
       "      <td>LOSS</td>\n",
       "      <td>-0.00221</td>\n",
       "      <td>1.0</td>\n",
       "      <td>0.75930</td>\n",
       "      <td>0.75046</td>\n",
       "      <td>0.00197</td>\n",
       "    </tr>\n",
       "  </tbody>\n",
       "</table>\n",
       "</div>"
      ],
      "text/plain": [
       "                         PL       gv  nswaps       sl       tp     size\n",
       "date                                                                   \n",
       "2017-03-07 07:00:00  PROFIT  0.00106     0.0  0.77181  0.76489  0.00098\n",
       "2017-03-28 21:00:00    LOSS -0.00221     1.0  0.75930  0.75046  0.00197"
      ]
     },
     "metadata": {},
     "output_type": "display_data"
    },
    {
     "data": {
      "text/html": [
       "<h3>AUDJPY</h3>"
      ],
      "text/plain": [
       "<IPython.core.display.HTML object>"
      ]
     },
     "metadata": {},
     "output_type": "display_data"
    },
    {
     "data": {
      "text/html": [
       "<b>Balance: </b> 0.137800 &nbsp;&nbsp;&nbsp;&nbsp; <b>Trades:</b>{'PROFIT': 2}"
      ],
      "text/plain": [
       "<IPython.core.display.HTML object>"
      ]
     },
     "metadata": {},
     "output_type": "display_data"
    },
    {
     "data": {
      "text/html": [
       "<b>Success rate: </b> 100.00%"
      ],
      "text/plain": [
       "<IPython.core.display.HTML object>"
      ]
     },
     "metadata": {},
     "output_type": "display_data"
    },
    {
     "name": "stdout",
     "output_type": "stream",
     "text": [
      "One month details:\n"
     ]
    },
    {
     "data": {
      "text/html": [
       "<div>\n",
       "<table border=\"1\" class=\"dataframe\">\n",
       "  <thead>\n",
       "    <tr style=\"text-align: right;\">\n",
       "      <th></th>\n",
       "      <th>PL</th>\n",
       "      <th>gv</th>\n",
       "      <th>nswaps</th>\n",
       "      <th>sl</th>\n",
       "      <th>tp</th>\n",
       "      <th>size</th>\n",
       "    </tr>\n",
       "    <tr>\n",
       "      <th>date</th>\n",
       "      <th></th>\n",
       "      <th></th>\n",
       "      <th></th>\n",
       "      <th></th>\n",
       "      <th></th>\n",
       "      <th></th>\n",
       "    </tr>\n",
       "  </thead>\n",
       "  <tbody>\n",
       "    <tr>\n",
       "      <th>2017-05-15 13:00:00</th>\n",
       "      <td>PROFIT</td>\n",
       "      <td>0.0329</td>\n",
       "      <td>0.0</td>\n",
       "      <td>84.5281</td>\n",
       "      <td>83.9317</td>\n",
       "      <td>0.136</td>\n",
       "    </tr>\n",
       "    <tr>\n",
       "      <th>2017-06-16 14:00:00</th>\n",
       "      <td>PROFIT</td>\n",
       "      <td>0.1049</td>\n",
       "      <td>0.0</td>\n",
       "      <td>84.8271</td>\n",
       "      <td>84.1747</td>\n",
       "      <td>0.149</td>\n",
       "    </tr>\n",
       "  </tbody>\n",
       "</table>\n",
       "</div>"
      ],
      "text/plain": [
       "                         PL      gv  nswaps       sl       tp   size\n",
       "date                                                                \n",
       "2017-05-15 13:00:00  PROFIT  0.0329     0.0  84.5281  83.9317  0.136\n",
       "2017-06-16 14:00:00  PROFIT  0.1049     0.0  84.8271  84.1747  0.149"
      ]
     },
     "metadata": {},
     "output_type": "display_data"
    },
    {
     "data": {
      "text/html": [
       "<h3>AUDNZD</h3>"
      ],
      "text/plain": [
       "<IPython.core.display.HTML object>"
      ]
     },
     "metadata": {},
     "output_type": "display_data"
    },
    {
     "data": {
      "text/html": [
       "<b>Balance: </b> 0.001270 &nbsp;&nbsp;&nbsp;&nbsp; <b>Trades:</b>{'PROFIT': 1}"
      ],
      "text/plain": [
       "<IPython.core.display.HTML object>"
      ]
     },
     "metadata": {},
     "output_type": "display_data"
    },
    {
     "data": {
      "text/html": [
       "<b>Success rate: </b> 100.00%"
      ],
      "text/plain": [
       "<IPython.core.display.HTML object>"
      ]
     },
     "metadata": {},
     "output_type": "display_data"
    },
    {
     "name": "stdout",
     "output_type": "stream",
     "text": [
      "One month details:\n"
     ]
    },
    {
     "data": {
      "text/html": [
       "<div>\n",
       "<table border=\"1\" class=\"dataframe\">\n",
       "  <thead>\n",
       "    <tr style=\"text-align: right;\">\n",
       "      <th></th>\n",
       "      <th>PL</th>\n",
       "      <th>gv</th>\n",
       "      <th>nswaps</th>\n",
       "      <th>sl</th>\n",
       "      <th>tp</th>\n",
       "      <th>size</th>\n",
       "    </tr>\n",
       "    <tr>\n",
       "      <th>date</th>\n",
       "      <th></th>\n",
       "      <th></th>\n",
       "      <th></th>\n",
       "      <th></th>\n",
       "      <th></th>\n",
       "      <th></th>\n",
       "    </tr>\n",
       "  </thead>\n",
       "  <tbody>\n",
       "    <tr>\n",
       "      <th>2017-04-25 11:00:00</th>\n",
       "      <td>PROFIT</td>\n",
       "      <td>0.00127</td>\n",
       "      <td>0.0</td>\n",
       "      <td>1.0849</td>\n",
       "      <td>1.0769</td>\n",
       "      <td>0.00137</td>\n",
       "    </tr>\n",
       "  </tbody>\n",
       "</table>\n",
       "</div>"
      ],
      "text/plain": [
       "                         PL       gv  nswaps      sl      tp     size\n",
       "date                                                                 \n",
       "2017-04-25 11:00:00  PROFIT  0.00127     0.0  1.0849  1.0769  0.00137"
      ]
     },
     "metadata": {},
     "output_type": "display_data"
    },
    {
     "data": {
      "text/html": [
       "<h3>CADJPY</h3>"
      ],
      "text/plain": [
       "<IPython.core.display.HTML object>"
      ]
     },
     "metadata": {},
     "output_type": "display_data"
    },
    {
     "data": {
      "text/html": [
       "<b>Balance: </b> 0.071800 &nbsp;&nbsp;&nbsp;&nbsp; <b>Trades:</b>{'PROFIT': 2}"
      ],
      "text/plain": [
       "<IPython.core.display.HTML object>"
      ]
     },
     "metadata": {},
     "output_type": "display_data"
    },
    {
     "data": {
      "text/html": [
       "<b>Success rate: </b> 100.00%"
      ],
      "text/plain": [
       "<IPython.core.display.HTML object>"
      ]
     },
     "metadata": {},
     "output_type": "display_data"
    },
    {
     "name": "stdout",
     "output_type": "stream",
     "text": [
      "One month details:\n"
     ]
    },
    {
     "data": {
      "text/html": [
       "<div>\n",
       "<table border=\"1\" class=\"dataframe\">\n",
       "  <thead>\n",
       "    <tr style=\"text-align: right;\">\n",
       "      <th></th>\n",
       "      <th>PL</th>\n",
       "      <th>gv</th>\n",
       "      <th>nswaps</th>\n",
       "      <th>sl</th>\n",
       "      <th>tp</th>\n",
       "      <th>size</th>\n",
       "    </tr>\n",
       "    <tr>\n",
       "      <th>date</th>\n",
       "      <th></th>\n",
       "      <th></th>\n",
       "      <th></th>\n",
       "      <th></th>\n",
       "      <th></th>\n",
       "      <th></th>\n",
       "    </tr>\n",
       "  </thead>\n",
       "  <tbody>\n",
       "    <tr>\n",
       "      <th>2017-04-24 13:00:00</th>\n",
       "      <td>PROFIT</td>\n",
       "      <td>0.0559</td>\n",
       "      <td>0.0</td>\n",
       "      <td>82.2301</td>\n",
       "      <td>81.3417</td>\n",
       "      <td>0.176</td>\n",
       "    </tr>\n",
       "    <tr>\n",
       "      <th>2017-06-16 09:00:00</th>\n",
       "      <td>PROFIT</td>\n",
       "      <td>0.0159</td>\n",
       "      <td>0.0</td>\n",
       "      <td>84.0301</td>\n",
       "      <td>83.1577</td>\n",
       "      <td>0.234</td>\n",
       "    </tr>\n",
       "  </tbody>\n",
       "</table>\n",
       "</div>"
      ],
      "text/plain": [
       "                         PL      gv  nswaps       sl       tp   size\n",
       "date                                                                \n",
       "2017-04-24 13:00:00  PROFIT  0.0559     0.0  82.2301  81.3417  0.176\n",
       "2017-06-16 09:00:00  PROFIT  0.0159     0.0  84.0301  83.1577  0.234"
      ]
     },
     "metadata": {},
     "output_type": "display_data"
    },
    {
     "data": {
      "text/html": [
       "<h3>EURAUD</h3>"
      ],
      "text/plain": [
       "<IPython.core.display.HTML object>"
      ]
     },
     "metadata": {},
     "output_type": "display_data"
    },
    {
     "data": {
      "text/html": [
       "<b>Balance: </b> 0.002110 &nbsp;&nbsp;&nbsp;&nbsp; <b>Trades:</b>{'LOSS': 2, 'PROFIT': 3}"
      ],
      "text/plain": [
       "<IPython.core.display.HTML object>"
      ]
     },
     "metadata": {},
     "output_type": "display_data"
    },
    {
     "data": {
      "text/html": [
       "<b>Success rate: </b> 60.00%"
      ],
      "text/plain": [
       "<IPython.core.display.HTML object>"
      ]
     },
     "metadata": {},
     "output_type": "display_data"
    },
    {
     "name": "stdout",
     "output_type": "stream",
     "text": [
      "One month details:\n"
     ]
    },
    {
     "data": {
      "text/html": [
       "<div>\n",
       "<table border=\"1\" class=\"dataframe\">\n",
       "  <thead>\n",
       "    <tr style=\"text-align: right;\">\n",
       "      <th></th>\n",
       "      <th>PL</th>\n",
       "      <th>gv</th>\n",
       "      <th>nswaps</th>\n",
       "      <th>sl</th>\n",
       "      <th>tp</th>\n",
       "      <th>size</th>\n",
       "    </tr>\n",
       "    <tr>\n",
       "      <th>date</th>\n",
       "      <th></th>\n",
       "      <th></th>\n",
       "      <th></th>\n",
       "      <th></th>\n",
       "      <th></th>\n",
       "      <th></th>\n",
       "    </tr>\n",
       "  </thead>\n",
       "  <tbody>\n",
       "    <tr>\n",
       "      <th>2017-03-09 11:00:00</th>\n",
       "      <td>PROFIT</td>\n",
       "      <td>0.00108</td>\n",
       "      <td>0.0</td>\n",
       "      <td>1.41061</td>\n",
       "      <td>1.39621</td>\n",
       "      <td>0.00505</td>\n",
       "    </tr>\n",
       "    <tr>\n",
       "      <th>2017-03-21 20:00:00</th>\n",
       "      <td>LOSS</td>\n",
       "      <td>-0.00243</td>\n",
       "      <td>0.0</td>\n",
       "      <td>1.40423</td>\n",
       "      <td>1.39451</td>\n",
       "      <td>0.00215</td>\n",
       "    </tr>\n",
       "    <tr>\n",
       "      <th>2017-04-25 12:00:00</th>\n",
       "      <td>PROFIT</td>\n",
       "      <td>0.00189</td>\n",
       "      <td>0.0</td>\n",
       "      <td>1.44799</td>\n",
       "      <td>1.43627</td>\n",
       "      <td>0.00239</td>\n",
       "    </tr>\n",
       "    <tr>\n",
       "      <th>2017-05-03 15:00:00</th>\n",
       "      <td>LOSS</td>\n",
       "      <td>-0.00309</td>\n",
       "      <td>0.0</td>\n",
       "      <td>1.46251</td>\n",
       "      <td>1.45015</td>\n",
       "      <td>0.00265</td>\n",
       "    </tr>\n",
       "    <tr>\n",
       "      <th>2017-05-05 08:00:00</th>\n",
       "      <td>PROFIT</td>\n",
       "      <td>0.00466</td>\n",
       "      <td>0.0</td>\n",
       "      <td>1.49144</td>\n",
       "      <td>1.47852</td>\n",
       "      <td>0.00280</td>\n",
       "    </tr>\n",
       "  </tbody>\n",
       "</table>\n",
       "</div>"
      ],
      "text/plain": [
       "                         PL       gv  nswaps       sl       tp     size\n",
       "date                                                                   \n",
       "2017-03-09 11:00:00  PROFIT  0.00108     0.0  1.41061  1.39621  0.00505\n",
       "2017-03-21 20:00:00    LOSS -0.00243     0.0  1.40423  1.39451  0.00215\n",
       "2017-04-25 12:00:00  PROFIT  0.00189     0.0  1.44799  1.43627  0.00239\n",
       "2017-05-03 15:00:00    LOSS -0.00309     0.0  1.46251  1.45015  0.00265\n",
       "2017-05-05 08:00:00  PROFIT  0.00466     0.0  1.49144  1.47852  0.00280"
      ]
     },
     "metadata": {},
     "output_type": "display_data"
    },
    {
     "data": {
      "text/html": [
       "<h3>EURCHF</h3>"
      ],
      "text/plain": [
       "<IPython.core.display.HTML object>"
      ]
     },
     "metadata": {},
     "output_type": "display_data"
    },
    {
     "data": {
      "text/html": [
       "<b>Balance: </b> 0.004590 &nbsp;&nbsp;&nbsp;&nbsp; <b>Trades:</b>{'LOSS': 1, 'PROFIT': 5}"
      ],
      "text/plain": [
       "<IPython.core.display.HTML object>"
      ]
     },
     "metadata": {},
     "output_type": "display_data"
    },
    {
     "data": {
      "text/html": [
       "<b>Success rate: </b> 83.33%"
      ],
      "text/plain": [
       "<IPython.core.display.HTML object>"
      ]
     },
     "metadata": {},
     "output_type": "display_data"
    },
    {
     "name": "stdout",
     "output_type": "stream",
     "text": [
      "One month details:\n"
     ]
    },
    {
     "data": {
      "text/html": [
       "<div>\n",
       "<table border=\"1\" class=\"dataframe\">\n",
       "  <thead>\n",
       "    <tr style=\"text-align: right;\">\n",
       "      <th></th>\n",
       "      <th>PL</th>\n",
       "      <th>gv</th>\n",
       "      <th>nswaps</th>\n",
       "      <th>sl</th>\n",
       "      <th>tp</th>\n",
       "      <th>size</th>\n",
       "    </tr>\n",
       "    <tr>\n",
       "      <th>date</th>\n",
       "      <th></th>\n",
       "      <th></th>\n",
       "      <th></th>\n",
       "      <th></th>\n",
       "      <th></th>\n",
       "      <th></th>\n",
       "    </tr>\n",
       "  </thead>\n",
       "  <tbody>\n",
       "    <tr>\n",
       "      <th>2017-03-03 21:00:00</th>\n",
       "      <td>LOSS</td>\n",
       "      <td>-0.00132</td>\n",
       "      <td>0.0</td>\n",
       "      <td>1.07090</td>\n",
       "      <td>1.06562</td>\n",
       "      <td>0.00133</td>\n",
       "    </tr>\n",
       "    <tr>\n",
       "      <th>2017-03-07 16:00:00</th>\n",
       "      <td>PROFIT</td>\n",
       "      <td>0.00189</td>\n",
       "      <td>0.0</td>\n",
       "      <td>1.07494</td>\n",
       "      <td>1.06970</td>\n",
       "      <td>0.00114</td>\n",
       "    </tr>\n",
       "    <tr>\n",
       "      <th>2017-03-13 00:00:00</th>\n",
       "      <td>PROFIT</td>\n",
       "      <td>0.00108</td>\n",
       "      <td>0.0</td>\n",
       "      <td>1.07972</td>\n",
       "      <td>1.07496</td>\n",
       "      <td>0.00084</td>\n",
       "    </tr>\n",
       "    <tr>\n",
       "      <th>2017-04-24 00:00:00</th>\n",
       "      <td>PROFIT</td>\n",
       "      <td>0.00090</td>\n",
       "      <td>0.0</td>\n",
       "      <td>1.08253</td>\n",
       "      <td>1.07093</td>\n",
       "      <td>0.00238</td>\n",
       "    </tr>\n",
       "    <tr>\n",
       "      <th>2017-04-25 19:00:00</th>\n",
       "      <td>PROFIT</td>\n",
       "      <td>0.00092</td>\n",
       "      <td>0.0</td>\n",
       "      <td>1.08723</td>\n",
       "      <td>1.08219</td>\n",
       "      <td>0.00121</td>\n",
       "    </tr>\n",
       "    <tr>\n",
       "      <th>2017-05-09 21:00:00</th>\n",
       "      <td>PROFIT</td>\n",
       "      <td>0.00112</td>\n",
       "      <td>0.0</td>\n",
       "      <td>1.09745</td>\n",
       "      <td>1.09101</td>\n",
       "      <td>0.00111</td>\n",
       "    </tr>\n",
       "  </tbody>\n",
       "</table>\n",
       "</div>"
      ],
      "text/plain": [
       "                         PL       gv  nswaps       sl       tp     size\n",
       "date                                                                   \n",
       "2017-03-03 21:00:00    LOSS -0.00132     0.0  1.07090  1.06562  0.00133\n",
       "2017-03-07 16:00:00  PROFIT  0.00189     0.0  1.07494  1.06970  0.00114\n",
       "2017-03-13 00:00:00  PROFIT  0.00108     0.0  1.07972  1.07496  0.00084\n",
       "2017-04-24 00:00:00  PROFIT  0.00090     0.0  1.08253  1.07093  0.00238\n",
       "2017-04-25 19:00:00  PROFIT  0.00092     0.0  1.08723  1.08219  0.00121\n",
       "2017-05-09 21:00:00  PROFIT  0.00112     0.0  1.09745  1.09101  0.00111"
      ]
     },
     "metadata": {},
     "output_type": "display_data"
    },
    {
     "data": {
      "text/html": [
       "<h3>EURNOK</h3>"
      ],
      "text/plain": [
       "<IPython.core.display.HTML object>"
      ]
     },
     "metadata": {},
     "output_type": "display_data"
    },
    {
     "data": {
      "text/html": [
       "<b>Balance: </b> 0.093700 &nbsp;&nbsp;&nbsp;&nbsp; <b>Trades:</b>{'LOSS': 1, 'PROFIT': 11}"
      ],
      "text/plain": [
       "<IPython.core.display.HTML object>"
      ]
     },
     "metadata": {},
     "output_type": "display_data"
    },
    {
     "data": {
      "text/html": [
       "<b>Success rate: </b> 91.67%"
      ],
      "text/plain": [
       "<IPython.core.display.HTML object>"
      ]
     },
     "metadata": {},
     "output_type": "display_data"
    },
    {
     "name": "stdout",
     "output_type": "stream",
     "text": [
      "One month details:\n"
     ]
    },
    {
     "data": {
      "text/html": [
       "<div>\n",
       "<table border=\"1\" class=\"dataframe\">\n",
       "  <thead>\n",
       "    <tr style=\"text-align: right;\">\n",
       "      <th></th>\n",
       "      <th>PL</th>\n",
       "      <th>gv</th>\n",
       "      <th>nswaps</th>\n",
       "      <th>sl</th>\n",
       "      <th>tp</th>\n",
       "      <th>size</th>\n",
       "    </tr>\n",
       "    <tr>\n",
       "      <th>date</th>\n",
       "      <th></th>\n",
       "      <th></th>\n",
       "      <th></th>\n",
       "      <th></th>\n",
       "      <th></th>\n",
       "      <th></th>\n",
       "    </tr>\n",
       "  </thead>\n",
       "  <tbody>\n",
       "    <tr>\n",
       "      <th>2017-01-09 16:00:00</th>\n",
       "      <td>PROFIT</td>\n",
       "      <td>0.00320</td>\n",
       "      <td>1.0</td>\n",
       "      <td>9.04251</td>\n",
       "      <td>8.94767</td>\n",
       "      <td>0.01433</td>\n",
       "    </tr>\n",
       "    <tr>\n",
       "      <th>2017-01-09 17:00:00</th>\n",
       "      <td>PROFIT</td>\n",
       "      <td>0.00094</td>\n",
       "      <td>0.0</td>\n",
       "      <td>9.03925</td>\n",
       "      <td>8.95905</td>\n",
       "      <td>0.00902</td>\n",
       "    </tr>\n",
       "    <tr>\n",
       "      <th>2017-03-02 19:00:00</th>\n",
       "      <td>LOSS</td>\n",
       "      <td>-0.01890</td>\n",
       "      <td>1.0</td>\n",
       "      <td>8.91859</td>\n",
       "      <td>8.84299</td>\n",
       "      <td>0.00960</td>\n",
       "    </tr>\n",
       "    <tr>\n",
       "      <th>2017-03-09 11:00:00</th>\n",
       "      <td>PROFIT</td>\n",
       "      <td>0.00108</td>\n",
       "      <td>0.0</td>\n",
       "      <td>9.05055</td>\n",
       "      <td>8.95155</td>\n",
       "      <td>0.02000</td>\n",
       "    </tr>\n",
       "    <tr>\n",
       "      <th>2017-03-10 09:00:00</th>\n",
       "      <td>PROFIT</td>\n",
       "      <td>0.00141</td>\n",
       "      <td>0.0</td>\n",
       "      <td>9.12739</td>\n",
       "      <td>9.00251</td>\n",
       "      <td>0.03253</td>\n",
       "    </tr>\n",
       "    <tr>\n",
       "      <th>2017-03-10 13:00:00</th>\n",
       "      <td>PROFIT</td>\n",
       "      <td>0.00160</td>\n",
       "      <td>0.0</td>\n",
       "      <td>9.16001</td>\n",
       "      <td>9.04365</td>\n",
       "      <td>0.02155</td>\n",
       "    </tr>\n",
       "    <tr>\n",
       "      <th>2017-03-10 14:00:00</th>\n",
       "      <td>PROFIT</td>\n",
       "      <td>0.02643</td>\n",
       "      <td>0.0</td>\n",
       "      <td>9.15791</td>\n",
       "      <td>9.05323</td>\n",
       "      <td>0.01631</td>\n",
       "    </tr>\n",
       "    <tr>\n",
       "      <th>2017-03-27 17:00:00</th>\n",
       "      <td>PROFIT</td>\n",
       "      <td>0.01551</td>\n",
       "      <td>0.0</td>\n",
       "      <td>9.24187</td>\n",
       "      <td>9.14043</td>\n",
       "      <td>0.01428</td>\n",
       "    </tr>\n",
       "    <tr>\n",
       "      <th>2017-04-19 15:00:00</th>\n",
       "      <td>PROFIT</td>\n",
       "      <td>0.00429</td>\n",
       "      <td>0.0</td>\n",
       "      <td>9.16318</td>\n",
       "      <td>9.08978</td>\n",
       "      <td>0.00931</td>\n",
       "    </tr>\n",
       "    <tr>\n",
       "      <th>2017-04-24 06:00:00</th>\n",
       "      <td>PROFIT</td>\n",
       "      <td>0.01979</td>\n",
       "      <td>0.0</td>\n",
       "      <td>9.33914</td>\n",
       "      <td>9.25414</td>\n",
       "      <td>0.01418</td>\n",
       "    </tr>\n",
       "    <tr>\n",
       "      <th>2017-05-04 19:00:00</th>\n",
       "      <td>PROFIT</td>\n",
       "      <td>0.00232</td>\n",
       "      <td>0.0</td>\n",
       "      <td>9.53508</td>\n",
       "      <td>9.44452</td>\n",
       "      <td>0.01393</td>\n",
       "    </tr>\n",
       "    <tr>\n",
       "      <th>2017-05-16 12:00:00</th>\n",
       "      <td>PROFIT</td>\n",
       "      <td>0.03603</td>\n",
       "      <td>0.0</td>\n",
       "      <td>9.46970</td>\n",
       "      <td>9.24754</td>\n",
       "      <td>0.07292</td>\n",
       "    </tr>\n",
       "  </tbody>\n",
       "</table>\n",
       "</div>"
      ],
      "text/plain": [
       "                         PL       gv  nswaps       sl       tp     size\n",
       "date                                                                   \n",
       "2017-01-09 16:00:00  PROFIT  0.00320     1.0  9.04251  8.94767  0.01433\n",
       "2017-01-09 17:00:00  PROFIT  0.00094     0.0  9.03925  8.95905  0.00902\n",
       "2017-03-02 19:00:00    LOSS -0.01890     1.0  8.91859  8.84299  0.00960\n",
       "2017-03-09 11:00:00  PROFIT  0.00108     0.0  9.05055  8.95155  0.02000\n",
       "2017-03-10 09:00:00  PROFIT  0.00141     0.0  9.12739  9.00251  0.03253\n",
       "2017-03-10 13:00:00  PROFIT  0.00160     0.0  9.16001  9.04365  0.02155\n",
       "2017-03-10 14:00:00  PROFIT  0.02643     0.0  9.15791  9.05323  0.01631\n",
       "2017-03-27 17:00:00  PROFIT  0.01551     0.0  9.24187  9.14043  0.01428\n",
       "2017-04-19 15:00:00  PROFIT  0.00429     0.0  9.16318  9.08978  0.00931\n",
       "2017-04-24 06:00:00  PROFIT  0.01979     0.0  9.33914  9.25414  0.01418\n",
       "2017-05-04 19:00:00  PROFIT  0.00232     0.0  9.53508  9.44452  0.01393\n",
       "2017-05-16 12:00:00  PROFIT  0.03603     0.0  9.46970  9.24754  0.07292"
      ]
     },
     "metadata": {},
     "output_type": "display_data"
    },
    {
     "data": {
      "text/html": [
       "<h3>EURPLN</h3>"
      ],
      "text/plain": [
       "<IPython.core.display.HTML object>"
      ]
     },
     "metadata": {},
     "output_type": "display_data"
    },
    {
     "data": {
      "text/html": [
       "<b>Balance: </b> 0.005120 &nbsp;&nbsp;&nbsp;&nbsp; <b>Trades:</b>{'PROFIT': 2}"
      ],
      "text/plain": [
       "<IPython.core.display.HTML object>"
      ]
     },
     "metadata": {},
     "output_type": "display_data"
    },
    {
     "data": {
      "text/html": [
       "<b>Success rate: </b> 100.00%"
      ],
      "text/plain": [
       "<IPython.core.display.HTML object>"
      ]
     },
     "metadata": {},
     "output_type": "display_data"
    },
    {
     "name": "stdout",
     "output_type": "stream",
     "text": [
      "One month details:\n"
     ]
    },
    {
     "data": {
      "text/html": [
       "<div>\n",
       "<table border=\"1\" class=\"dataframe\">\n",
       "  <thead>\n",
       "    <tr style=\"text-align: right;\">\n",
       "      <th></th>\n",
       "      <th>PL</th>\n",
       "      <th>gv</th>\n",
       "      <th>nswaps</th>\n",
       "      <th>sl</th>\n",
       "      <th>tp</th>\n",
       "      <th>size</th>\n",
       "    </tr>\n",
       "    <tr>\n",
       "      <th>date</th>\n",
       "      <th></th>\n",
       "      <th></th>\n",
       "      <th></th>\n",
       "      <th></th>\n",
       "      <th></th>\n",
       "      <th></th>\n",
       "    </tr>\n",
       "  </thead>\n",
       "  <tbody>\n",
       "    <tr>\n",
       "      <th>2017-04-19 18:00:00</th>\n",
       "      <td>PROFIT</td>\n",
       "      <td>0.00160</td>\n",
       "      <td>0.0</td>\n",
       "      <td>4.25830</td>\n",
       "      <td>4.20390</td>\n",
       "      <td>0.00846</td>\n",
       "    </tr>\n",
       "    <tr>\n",
       "      <th>2017-06-01 19:00:00</th>\n",
       "      <td>PROFIT</td>\n",
       "      <td>0.00352</td>\n",
       "      <td>0.0</td>\n",
       "      <td>4.20624</td>\n",
       "      <td>4.15088</td>\n",
       "      <td>0.00774</td>\n",
       "    </tr>\n",
       "  </tbody>\n",
       "</table>\n",
       "</div>"
      ],
      "text/plain": [
       "                         PL       gv  nswaps       sl       tp     size\n",
       "date                                                                   \n",
       "2017-04-19 18:00:00  PROFIT  0.00160     0.0  4.25830  4.20390  0.00846\n",
       "2017-06-01 19:00:00  PROFIT  0.00352     0.0  4.20624  4.15088  0.00774"
      ]
     },
     "metadata": {},
     "output_type": "display_data"
    },
    {
     "data": {
      "text/html": [
       "<h3>EURSEK</h3>"
      ],
      "text/plain": [
       "<IPython.core.display.HTML object>"
      ]
     },
     "metadata": {},
     "output_type": "display_data"
    },
    {
     "data": {
      "text/html": [
       "<b>Balance: </b> 0.009060 &nbsp;&nbsp;&nbsp;&nbsp; <b>Trades:</b>{'PROFIT': 2}"
      ],
      "text/plain": [
       "<IPython.core.display.HTML object>"
      ]
     },
     "metadata": {},
     "output_type": "display_data"
    },
    {
     "data": {
      "text/html": [
       "<b>Success rate: </b> 100.00%"
      ],
      "text/plain": [
       "<IPython.core.display.HTML object>"
      ]
     },
     "metadata": {},
     "output_type": "display_data"
    },
    {
     "name": "stdout",
     "output_type": "stream",
     "text": [
      "One month details:\n"
     ]
    },
    {
     "data": {
      "text/html": [
       "<div>\n",
       "<table border=\"1\" class=\"dataframe\">\n",
       "  <thead>\n",
       "    <tr style=\"text-align: right;\">\n",
       "      <th></th>\n",
       "      <th>PL</th>\n",
       "      <th>gv</th>\n",
       "      <th>nswaps</th>\n",
       "      <th>sl</th>\n",
       "      <th>tp</th>\n",
       "      <th>size</th>\n",
       "    </tr>\n",
       "    <tr>\n",
       "      <th>date</th>\n",
       "      <th></th>\n",
       "      <th></th>\n",
       "      <th></th>\n",
       "      <th></th>\n",
       "      <th></th>\n",
       "      <th></th>\n",
       "    </tr>\n",
       "  </thead>\n",
       "  <tbody>\n",
       "    <tr>\n",
       "      <th>2017-02-23 15:00:00</th>\n",
       "      <td>PROFIT</td>\n",
       "      <td>0.00524</td>\n",
       "      <td>0.0</td>\n",
       "      <td>9.50404</td>\n",
       "      <td>9.43784</td>\n",
       "      <td>0.00954</td>\n",
       "    </tr>\n",
       "    <tr>\n",
       "      <th>2017-05-04 22:00:00</th>\n",
       "      <td>PROFIT</td>\n",
       "      <td>0.00382</td>\n",
       "      <td>0.0</td>\n",
       "      <td>9.71519</td>\n",
       "      <td>9.64007</td>\n",
       "      <td>0.01515</td>\n",
       "    </tr>\n",
       "  </tbody>\n",
       "</table>\n",
       "</div>"
      ],
      "text/plain": [
       "                         PL       gv  nswaps       sl       tp     size\n",
       "date                                                                   \n",
       "2017-02-23 15:00:00  PROFIT  0.00524     0.0  9.50404  9.43784  0.00954\n",
       "2017-05-04 22:00:00  PROFIT  0.00382     0.0  9.71519  9.64007  0.01515"
      ]
     },
     "metadata": {},
     "output_type": "display_data"
    },
    {
     "data": {
      "text/html": [
       "<h3>EURUSD</h3>"
      ],
      "text/plain": [
       "<IPython.core.display.HTML object>"
      ]
     },
     "metadata": {},
     "output_type": "display_data"
    },
    {
     "data": {
      "text/html": [
       "<b>Balance: </b> 0.003090 &nbsp;&nbsp;&nbsp;&nbsp; <b>Trades:</b>{'LOSS': 1, 'PROFIT': 3}"
      ],
      "text/plain": [
       "<IPython.core.display.HTML object>"
      ]
     },
     "metadata": {},
     "output_type": "display_data"
    },
    {
     "data": {
      "text/html": [
       "<b>Success rate: </b> 75.00%"
      ],
      "text/plain": [
       "<IPython.core.display.HTML object>"
      ]
     },
     "metadata": {},
     "output_type": "display_data"
    },
    {
     "name": "stdout",
     "output_type": "stream",
     "text": [
      "One month details:\n"
     ]
    },
    {
     "data": {
      "text/html": [
       "<div>\n",
       "<table border=\"1\" class=\"dataframe\">\n",
       "  <thead>\n",
       "    <tr style=\"text-align: right;\">\n",
       "      <th></th>\n",
       "      <th>PL</th>\n",
       "      <th>gv</th>\n",
       "      <th>nswaps</th>\n",
       "      <th>sl</th>\n",
       "      <th>tp</th>\n",
       "      <th>size</th>\n",
       "    </tr>\n",
       "    <tr>\n",
       "      <th>date</th>\n",
       "      <th></th>\n",
       "      <th></th>\n",
       "      <th></th>\n",
       "      <th></th>\n",
       "      <th></th>\n",
       "      <th></th>\n",
       "    </tr>\n",
       "  </thead>\n",
       "  <tbody>\n",
       "    <tr>\n",
       "      <th>2017-03-09 16:00:00</th>\n",
       "      <td>PROFIT</td>\n",
       "      <td>0.00164</td>\n",
       "      <td>0.0</td>\n",
       "      <td>1.06171</td>\n",
       "      <td>1.05131</td>\n",
       "      <td>0.00354</td>\n",
       "    </tr>\n",
       "    <tr>\n",
       "      <th>2017-04-12 23:00:00</th>\n",
       "      <td>PROFIT</td>\n",
       "      <td>0.00112</td>\n",
       "      <td>1.0</td>\n",
       "      <td>1.06772</td>\n",
       "      <td>1.06132</td>\n",
       "      <td>0.00175</td>\n",
       "    </tr>\n",
       "    <tr>\n",
       "      <th>2017-04-13 00:00:00</th>\n",
       "      <td>LOSS</td>\n",
       "      <td>-0.00096</td>\n",
       "      <td>0.0</td>\n",
       "      <td>1.06751</td>\n",
       "      <td>1.06367</td>\n",
       "      <td>0.00108</td>\n",
       "    </tr>\n",
       "    <tr>\n",
       "      <th>2017-06-14 17:00:00</th>\n",
       "      <td>PROFIT</td>\n",
       "      <td>0.00129</td>\n",
       "      <td>0.0</td>\n",
       "      <td>1.12979</td>\n",
       "      <td>1.12139</td>\n",
       "      <td>0.00257</td>\n",
       "    </tr>\n",
       "  </tbody>\n",
       "</table>\n",
       "</div>"
      ],
      "text/plain": [
       "                         PL       gv  nswaps       sl       tp     size\n",
       "date                                                                   \n",
       "2017-03-09 16:00:00  PROFIT  0.00164     0.0  1.06171  1.05131  0.00354\n",
       "2017-04-12 23:00:00  PROFIT  0.00112     1.0  1.06772  1.06132  0.00175\n",
       "2017-04-13 00:00:00    LOSS -0.00096     0.0  1.06751  1.06367  0.00108\n",
       "2017-06-14 17:00:00  PROFIT  0.00129     0.0  1.12979  1.12139  0.00257"
      ]
     },
     "metadata": {},
     "output_type": "display_data"
    },
    {
     "data": {
      "text/html": [
       "<h3>GBPCAD</h3>"
      ],
      "text/plain": [
       "<IPython.core.display.HTML object>"
      ]
     },
     "metadata": {},
     "output_type": "display_data"
    },
    {
     "data": {
      "text/html": [
       "<b>Balance: </b> 0.004680 &nbsp;&nbsp;&nbsp;&nbsp; <b>Trades:</b>{'PROFIT': 4}"
      ],
      "text/plain": [
       "<IPython.core.display.HTML object>"
      ]
     },
     "metadata": {},
     "output_type": "display_data"
    },
    {
     "data": {
      "text/html": [
       "<b>Success rate: </b> 100.00%"
      ],
      "text/plain": [
       "<IPython.core.display.HTML object>"
      ]
     },
     "metadata": {},
     "output_type": "display_data"
    },
    {
     "name": "stdout",
     "output_type": "stream",
     "text": [
      "One month details:\n"
     ]
    },
    {
     "data": {
      "text/html": [
       "<div>\n",
       "<table border=\"1\" class=\"dataframe\">\n",
       "  <thead>\n",
       "    <tr style=\"text-align: right;\">\n",
       "      <th></th>\n",
       "      <th>PL</th>\n",
       "      <th>gv</th>\n",
       "      <th>nswaps</th>\n",
       "      <th>sl</th>\n",
       "      <th>tp</th>\n",
       "      <th>size</th>\n",
       "    </tr>\n",
       "    <tr>\n",
       "      <th>date</th>\n",
       "      <th></th>\n",
       "      <th></th>\n",
       "      <th></th>\n",
       "      <th></th>\n",
       "      <th></th>\n",
       "      <th></th>\n",
       "    </tr>\n",
       "  </thead>\n",
       "  <tbody>\n",
       "    <tr>\n",
       "      <th>2017-04-18 20:00:00</th>\n",
       "      <td>PROFIT</td>\n",
       "      <td>0.00097</td>\n",
       "      <td>0.0</td>\n",
       "      <td>1.72830</td>\n",
       "      <td>1.68010</td>\n",
       "      <td>0.01846</td>\n",
       "    </tr>\n",
       "    <tr>\n",
       "      <th>2017-04-19 15:00:00</th>\n",
       "      <td>PROFIT</td>\n",
       "      <td>0.00131</td>\n",
       "      <td>0.0</td>\n",
       "      <td>1.72853</td>\n",
       "      <td>1.70773</td>\n",
       "      <td>0.00439</td>\n",
       "    </tr>\n",
       "    <tr>\n",
       "      <th>2017-04-19 16:00:00</th>\n",
       "      <td>PROFIT</td>\n",
       "      <td>0.00136</td>\n",
       "      <td>0.0</td>\n",
       "      <td>1.72625</td>\n",
       "      <td>1.71033</td>\n",
       "      <td>0.00323</td>\n",
       "    </tr>\n",
       "    <tr>\n",
       "      <th>2017-04-25 12:00:00</th>\n",
       "      <td>PROFIT</td>\n",
       "      <td>0.00104</td>\n",
       "      <td>0.0</td>\n",
       "      <td>1.73991</td>\n",
       "      <td>1.72563</td>\n",
       "      <td>0.00262</td>\n",
       "    </tr>\n",
       "  </tbody>\n",
       "</table>\n",
       "</div>"
      ],
      "text/plain": [
       "                         PL       gv  nswaps       sl       tp     size\n",
       "date                                                                   \n",
       "2017-04-18 20:00:00  PROFIT  0.00097     0.0  1.72830  1.68010  0.01846\n",
       "2017-04-19 15:00:00  PROFIT  0.00131     0.0  1.72853  1.70773  0.00439\n",
       "2017-04-19 16:00:00  PROFIT  0.00136     0.0  1.72625  1.71033  0.00323\n",
       "2017-04-25 12:00:00  PROFIT  0.00104     0.0  1.73991  1.72563  0.00262"
      ]
     },
     "metadata": {},
     "output_type": "display_data"
    },
    {
     "data": {
      "text/html": [
       "<h3>USDCAD</h3>"
      ],
      "text/plain": [
       "<IPython.core.display.HTML object>"
      ]
     },
     "metadata": {},
     "output_type": "display_data"
    },
    {
     "data": {
      "text/html": [
       "<b>Balance: </b> -0.003530 &nbsp;&nbsp;&nbsp;&nbsp; <b>Trades:</b>{'LOSS': 2}"
      ],
      "text/plain": [
       "<IPython.core.display.HTML object>"
      ]
     },
     "metadata": {},
     "output_type": "display_data"
    },
    {
     "data": {
      "text/html": [
       "<b>Success rate: </b> 0.00%"
      ],
      "text/plain": [
       "<IPython.core.display.HTML object>"
      ]
     },
     "metadata": {},
     "output_type": "display_data"
    },
    {
     "name": "stdout",
     "output_type": "stream",
     "text": [
      "One month details:\n"
     ]
    },
    {
     "data": {
      "text/html": [
       "<div>\n",
       "<table border=\"1\" class=\"dataframe\">\n",
       "  <thead>\n",
       "    <tr style=\"text-align: right;\">\n",
       "      <th></th>\n",
       "      <th>PL</th>\n",
       "      <th>gv</th>\n",
       "      <th>nswaps</th>\n",
       "      <th>sl</th>\n",
       "      <th>tp</th>\n",
       "      <th>size</th>\n",
       "    </tr>\n",
       "    <tr>\n",
       "      <th>date</th>\n",
       "      <th></th>\n",
       "      <th></th>\n",
       "      <th></th>\n",
       "      <th></th>\n",
       "      <th></th>\n",
       "      <th></th>\n",
       "    </tr>\n",
       "  </thead>\n",
       "  <tbody>\n",
       "    <tr>\n",
       "      <th>2017-02-28 20:00:00</th>\n",
       "      <td>LOSS</td>\n",
       "      <td>-0.00208</td>\n",
       "      <td>0.0</td>\n",
       "      <td>1.32892</td>\n",
       "      <td>1.32060</td>\n",
       "      <td>0.00157</td>\n",
       "    </tr>\n",
       "    <tr>\n",
       "      <th>2017-04-19 15:00:00</th>\n",
       "      <td>LOSS</td>\n",
       "      <td>-0.00145</td>\n",
       "      <td>0.0</td>\n",
       "      <td>1.34456</td>\n",
       "      <td>1.33876</td>\n",
       "      <td>0.00151</td>\n",
       "    </tr>\n",
       "  </tbody>\n",
       "</table>\n",
       "</div>"
      ],
      "text/plain": [
       "                       PL       gv  nswaps       sl       tp     size\n",
       "date                                                                 \n",
       "2017-02-28 20:00:00  LOSS -0.00208     0.0  1.32892  1.32060  0.00157\n",
       "2017-04-19 15:00:00  LOSS -0.00145     0.0  1.34456  1.33876  0.00151"
      ]
     },
     "metadata": {},
     "output_type": "display_data"
    },
    {
     "data": {
      "text/html": [
       "<h3>USDCHF</h3>"
      ],
      "text/plain": [
       "<IPython.core.display.HTML object>"
      ]
     },
     "metadata": {},
     "output_type": "display_data"
    },
    {
     "data": {
      "text/html": [
       "<b>Balance: </b> 0.001340 &nbsp;&nbsp;&nbsp;&nbsp; <b>Trades:</b>{'PROFIT': 1}"
      ],
      "text/plain": [
       "<IPython.core.display.HTML object>"
      ]
     },
     "metadata": {},
     "output_type": "display_data"
    },
    {
     "data": {
      "text/html": [
       "<b>Success rate: </b> 100.00%"
      ],
      "text/plain": [
       "<IPython.core.display.HTML object>"
      ]
     },
     "metadata": {},
     "output_type": "display_data"
    },
    {
     "name": "stdout",
     "output_type": "stream",
     "text": [
      "One month details:\n"
     ]
    },
    {
     "data": {
      "text/html": [
       "<div>\n",
       "<table border=\"1\" class=\"dataframe\">\n",
       "  <thead>\n",
       "    <tr style=\"text-align: right;\">\n",
       "      <th></th>\n",
       "      <th>PL</th>\n",
       "      <th>gv</th>\n",
       "      <th>nswaps</th>\n",
       "      <th>sl</th>\n",
       "      <th>tp</th>\n",
       "      <th>size</th>\n",
       "    </tr>\n",
       "    <tr>\n",
       "      <th>date</th>\n",
       "      <th></th>\n",
       "      <th></th>\n",
       "      <th></th>\n",
       "      <th></th>\n",
       "      <th></th>\n",
       "      <th></th>\n",
       "    </tr>\n",
       "  </thead>\n",
       "  <tbody>\n",
       "    <tr>\n",
       "      <th>2017-05-10 18:00:00</th>\n",
       "      <td>PROFIT</td>\n",
       "      <td>0.00134</td>\n",
       "      <td>1.0</td>\n",
       "      <td>1.00972</td>\n",
       "      <td>1.005</td>\n",
       "      <td>0.0013</td>\n",
       "    </tr>\n",
       "  </tbody>\n",
       "</table>\n",
       "</div>"
      ],
      "text/plain": [
       "                         PL       gv  nswaps       sl     tp    size\n",
       "date                                                                \n",
       "2017-05-10 18:00:00  PROFIT  0.00134     1.0  1.00972  1.005  0.0013"
      ]
     },
     "metadata": {},
     "output_type": "display_data"
    }
   ],
   "source": [
    "for iname in sorted(INSTRUMENTS.keys()):\n",
    "    inst = INSTRUMENTS[iname]\n",
    "    if inst.results is not None:\n",
    "        display(HTML('<h3>%s</h3>' % iname))\n",
    "        display(HTML('<b>Balance: </b> %f &nbsp;&nbsp;&nbsp;&nbsp; <b>Trades:</b>%s' % (inst.balance, inst.stats)))\n",
    "        display(HTML('<b>Success rate: </b> %.2f%%' % (100. * inst.success_rate)))\n",
    "        print(\"One month details:\")\n",
    "        #display(inst.results['2017/06/01':])        \n",
    "        display(inst.results[:])        "
   ]
  },
  {
   "cell_type": "markdown",
   "metadata": {},
   "source": [
    "<a id=\"eksperyment4summary\"></a>\n",
    "### Podsumowanie zbiorcze - spadające gwiazdy"
   ]
  },
  {
   "cell_type": "code",
   "execution_count": 42,
   "metadata": {
    "scrolled": false
   },
   "outputs": [
    {
     "name": "stdout",
     "output_type": "stream",
     "text": [
      "     AUDCAD   0.00116\n",
      "     AUDCHF   -0.00115\n",
      "     AUDJPY   0.1378\n",
      "     AUDNZD   0.00127\n",
      "     CADJPY   0.0718\n",
      "     EURAUD   0.00211\n",
      "     EURCHF   0.00459\n",
      "     EURNOK   0.0937\n",
      "     EURPLN   0.00512\n",
      "     EURSEK   0.00906\n",
      "     EURUSD   0.00309\n",
      "     GBPCAD   0.00468\n",
      "     USDCAD   -0.00353\n",
      "     USDCHF   0.00134\n",
      "\n",
      "12/14 (85.71%)\n",
      "\n",
      "41 51\n"
     ]
    }
   ],
   "source": [
    "posivite_instruments = 0\n",
    "for iname in sorted(INSTRUMENTS.keys()):\n",
    "    print('%11s   %g' % (iname, INSTRUMENTS[iname].balance))\n",
    "    if INSTRUMENTS[iname].balance > 0:\n",
    "        posivite_instruments += 1\n",
    "print()\n",
    "print(\"%d/%d (%.2f%%)\" % (posivite_instruments, len(INSTRUMENTS),  100. * posivite_instruments / len(INSTRUMENTS)))\n",
    "print()\n",
    "\n",
    "total_nloss = 0\n",
    "total_nprofit = 0\n",
    "for iname in sorted(INSTRUMENTS.keys()):\n",
    "    total_nloss += INSTRUMENTS[iname].stats.get('LOSS', 0)\n",
    "    total_nprofit += INSTRUMENTS[iname].stats.get('PROFIT', 0)\n",
    "    #print(iname, str(INSTRUMENTS[iname].stats))\n",
    "    #if INSTRUMENTS[iname].balance > 0:\n",
    "    #    posivite_instruments += 1\n",
    "print(\"%d %d\" % (total_nprofit, total_nprofit + total_nloss))"
   ]
  },
  {
   "cell_type": "code",
   "execution_count": 79,
   "metadata": {},
   "outputs": [
    {
     "data": {
      "text/plain": [
       "Description      AUSTRALIAN DOLLAR VS CANADIAN DOLLAR\n",
       "Digits                                              5\n",
       "Spread                                             32\n",
       "Swap Long                                        -0.9\n",
       "Swap Short                                      -8.19\n",
       "Swap Type                                      points\n",
       "Stop Level                                        160\n",
       "Lot Size                                       100000\n",
       "Lot Min                                          0.01\n",
       "Lot Step                                         0.01\n",
       "Tick Value                                    2.83951\n",
       "Tick Size                                       1e-05\n",
       "Trade Allowed                                     yes\n",
       "Pr. Mode                                        Forex\n",
       "Pip                                             1e-05\n",
       "Name: AUDCAD, dtype: object"
      ]
     },
     "execution_count": 79,
     "metadata": {},
     "output_type": "execute_result"
    }
   ],
   "source": [
    "INSTRUMENTS['AUDCAD'].spec"
   ]
  },
  {
   "cell_type": "code",
   "execution_count": null,
   "metadata": {
    "collapsed": true
   },
   "outputs": [],
   "source": []
  }
 ],
 "metadata": {
  "kernelspec": {
   "display_name": "Python 3",
   "language": "python",
   "name": "python3"
  },
  "language_info": {
   "codemirror_mode": {
    "name": "ipython",
    "version": 3
   },
   "file_extension": ".py",
   "mimetype": "text/x-python",
   "name": "python",
   "nbconvert_exporter": "python",
   "pygments_lexer": "ipython3",
   "version": "3.5.2"
  }
 },
 "nbformat": 4,
 "nbformat_minor": 2
}
